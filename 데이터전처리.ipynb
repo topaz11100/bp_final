{
 "cells": [
  {
   "cell_type": "markdown",
   "id": "5f0a12ff",
   "metadata": {},
   "source": [
    "# 데이터 전처리"
   ]
  },
  {
   "cell_type": "markdown",
   "id": "ee93fdc9",
   "metadata": {},
   "source": [
    "시설물 데이터의 경우 노원과 인접구 데이터만 갖도록 가공, 포함범위 : 노원 도봉 중랑 성북"
   ]
  },
  {
   "cell_type": "markdown",
   "id": "26cd56c1",
   "metadata": {},
   "source": [
    "라이브러리 불러오기"
   ]
  },
  {
   "cell_type": "code",
   "execution_count": 8,
   "id": "e383f22c",
   "metadata": {},
   "outputs": [],
   "source": [
    "import numpy as np\n",
    "import pandas as pd"
   ]
  },
  {
   "cell_type": "markdown",
   "id": "12405ade",
   "metadata": {},
   "source": [
    "상수 지정"
   ]
  },
  {
   "cell_type": "code",
   "execution_count": 9,
   "id": "247d3e28",
   "metadata": {},
   "outputs": [],
   "source": [
    "gu_list=[\"노원구\", \"도봉구\", \"중랑구\", \"성북구\"]\n",
    "gu_code=[3100000, 3090000, 3060000, 3070000]\n",
    "start_path = \"전처리필요데이터/\"\n",
    "end_path = \"전처리완료데이터/\"\n",
    "encoding = 'cp949'"
   ]
  },
  {
   "cell_type": "markdown",
   "id": "7b1a52a0",
   "metadata": {},
   "source": [
    "### 지오서비스로 받아온 장소 가공"
   ]
  },
  {
   "cell_type": "markdown",
   "id": "f121eefa",
   "metadata": {},
   "source": [
    "경찰서 목록 불러오기"
   ]
  },
  {
   "cell_type": "code",
   "execution_count": 10,
   "id": "c0134ecd",
   "metadata": {},
   "outputs": [
    {
     "data": {
      "text/plain": [
       "{'당현지구대': array([ 37.64201519, 127.0683536 ]),\n",
       " '노원역지구대': array([ 37.65500523, 127.0669163 ]),\n",
       " '화랑지구대': array([ 37.62256592, 127.0745976 ]),\n",
       " '불암지구대': array([ 37.65243504, 127.0773404 ]),\n",
       " '월계지구대': array([ 37.63368623, 127.0592911 ]),\n",
       " '마들지구대': array([ 37.66458702, 127.0636189 ]),\n",
       " '당고개파출소': array([ 37.67147105, 127.0778527 ]),\n",
       " '상계1파출소': array([ 37.67968126, 127.0550472 ])}"
      ]
     },
     "execution_count": 10,
     "metadata": {},
     "output_type": "execute_result"
    }
   ],
   "source": [
    "police = pd.read_csv(end_path+\"police.csv\", encoding=encoding)\n",
    "police = {police.loc[i, \"이름\"]: police.loc[i, [\"위도\", \"경도\"]].values.astype(np.float64) for i in police.index}\n",
    "police"
   ]
  },
  {
   "cell_type": "markdown",
   "id": "778fd6ff",
   "metadata": {},
   "source": [
    "가공"
   ]
  },
  {
   "cell_type": "code",
   "execution_count": 16,
   "id": "b2a74822",
   "metadata": {},
   "outputs": [],
   "source": [
    "for k in police.keys():\n",
    "    spath = start_path+f'police/{k}/결과주소.csv'\n",
    "    epath = end_path+f'police/{k}/{k}_sampled_addr.csv'\n",
    "    temp = pd.read_csv(spath, encoding=encoding)\n",
    "    #temp = temp.drop(columns=['_PARCEL_DT', '_ROAD_DT'])\n",
    "    temp.columns=[\"위도\", \"경도\", \"지번주소\", \"도로명주소\"]\n",
    "    temp.to_csv(epath, index=False, encoding=encoding)"
   ]
  },
  {
   "cell_type": "markdown",
   "id": "8e8cec7c",
   "metadata": {},
   "source": [
    "### 서울시 장소별 범죄발생건수 가공\n",
    "\n",
    "장소끼리 건수 더한 후, 확률로 변환, 쓰기쉽게 전치"
   ]
  },
  {
   "cell_type": "code",
   "execution_count": null,
   "id": "7a95c0ce",
   "metadata": {},
   "outputs": [],
   "source": [
    "seoul_crime = pd.read_csv(start_path+\"seoul_crime.csv\", encoding=encoding)\n",
    "seoul_crime"
   ]
  },
  {
   "cell_type": "code",
   "execution_count": null,
   "id": "5e94c9d8",
   "metadata": {},
   "outputs": [],
   "source": [
    "temp = seoul_crime.groupby(\"장소\")\n",
    "temp = temp.sum()\n",
    "temp /= temp.sum()\n",
    "temp.columns=[\"확률\"]\n",
    "temp = pd.DataFrame(temp.T, columns=temp.index)\n",
    "temp"
   ]
  },
  {
   "cell_type": "markdown",
   "id": "1ec5ba9b",
   "metadata": {},
   "source": [
    "유사한 분류 묶은후, 저장"
   ]
  },
  {
   "cell_type": "code",
   "execution_count": null,
   "id": "7821b4b3",
   "metadata": {},
   "outputs": [],
   "source": [
    "processed_crime = pd.DataFrame()\n",
    "processed_crime[\"공업\"] = temp[[\"공사장광산\", \"공장\", \"창고\"]].sum(axis=1)\n",
    "processed_crime[\"공원\"] = temp[[\"유원지\", \"공지\"]].sum(axis=1)\n",
    "processed_crime[\"교통\"] = temp[[\"기타교통수단내\", \"지하철\", \"역,대합실\"]].sum(axis=1)\n",
    "processed_crime[\"기타\"] = temp[[\"구금장소\", \"고속도로\", \"기타\", \"부대\"]].sum(axis=1)\n",
    "processed_crime[\"사무\"] = temp[[\"금융기관\", \"사무실\"]].sum(axis=1)\n",
    "processed_crime[\"숙박\"] = temp[[\"숙박업소목욕탕\"]].sum(axis=1)\n",
    "processed_crime[\"상업\"] = temp[[\"시장,노점\", \"상점\", \"흥행장\"]].sum(axis=1)\n",
    "processed_crime[\"아파트\"] = temp[[\"아파트,연립다세대\"]].sum(axis=1)\n",
    "processed_crime[\"야외\"] = temp[[\"노상\", \"산야\"]].sum(axis=1)\n",
    "processed_crime[\"유흥\"] = temp[[\"유흥접객업소\"]].sum(axis=1)\n",
    "processed_crime[\"의료\"] = temp[[\"의료기관\"]].sum(axis=1)\n",
    "processed_crime[\"종교\"] = temp[[\"종교기관\"]].sum(axis=1)\n",
    "processed_crime[\"주택\"] = temp[[\"단독주택\"]].sum(axis=1)\n",
    "processed_crime[\"학교\"] = temp[[\"학교\"]].sum(axis=1)\n",
    "processed_crime"
   ]
  },
  {
   "cell_type": "code",
   "execution_count": null,
   "id": "613fc21b",
   "metadata": {},
   "outputs": [],
   "source": [
    "processed_crime.to_csv(end_path+\"processed_crime.csv\", index=False,  encoding=encoding)"
   ]
  },
  {
   "cell_type": "markdown",
   "id": "867dfbe2",
   "metadata": {},
   "source": [
    "### 서울시 cctv가공"
   ]
  },
  {
   "cell_type": "code",
   "execution_count": null,
   "id": "5706569d",
   "metadata": {},
   "outputs": [],
   "source": [
    "seoul_cctv = pd.read_csv(start_path+\"seoul_cctv.csv\", encoding=encoding)\n",
    "seoul_cctv"
   ]
  },
  {
   "cell_type": "code",
   "execution_count": null,
   "id": "7c6981cc",
   "metadata": {},
   "outputs": [],
   "source": [
    "processed_cctv = pd.DataFrame(columns=[\"위도\", \"경도\"], dtype=np.float64)\n",
    "for i in gu_list:\n",
    "    temp = seoul_cctv.loc[seoul_cctv[\"자치구\"]==i,[\"위도\", \"경도\"]]\n",
    "    processed_cctv = pd.concat([processed_cctv, temp])\n",
    "processed_cctv"
   ]
  },
  {
   "cell_type": "code",
   "execution_count": null,
   "id": "c03b2264",
   "metadata": {},
   "outputs": [],
   "source": [
    "processed_cctv.to_csv(end_path+\"processed_cctv.csv\", index=False,  encoding=encoding)"
   ]
  },
  {
   "cell_type": "markdown",
   "id": "93e6bc35",
   "metadata": {},
   "source": [
    "### 서울시 안심귀가길 시설물 가공\n",
    "\n",
    "한 열에 point(경도 위도)형식으로 저장 -> 위경도 추출"
   ]
  },
  {
   "cell_type": "code",
   "execution_count": null,
   "id": "46dd8635",
   "metadata": {},
   "outputs": [],
   "source": [
    "seoul_ansim = pd.read_csv(start_path+\"seoul_ansim.csv\", encoding=encoding)\n",
    "seoul_ansim"
   ]
  },
  {
   "cell_type": "code",
   "execution_count": null,
   "id": "4f60851e",
   "metadata": {},
   "outputs": [],
   "source": [
    "processed_ansim = pd.DataFrame()\n",
    "for i in gu_list:\n",
    "    processed_ansim = pd.concat([ processed_ansim, seoul_ansim.loc[seoul_ansim[\"시군구명\"] == \"서울특별시 \"+i, \"포인트 wkt\"] ])\n",
    "\n",
    "def word_to_EW(word):\n",
    "    temp = word.split(\"(\")\n",
    "    temp = temp[-1].split(\" \")\n",
    "    return temp[0]\n",
    "def word_to_NS(word):\n",
    "    temp = word.split(\"(\")\n",
    "    temp = temp[-1].split(\" \")\n",
    "    return temp[1][:-1]\n",
    "\n",
    "processed_ansim[\"위도\"] = processed_ansim[0].apply(word_to_NS)\n",
    "processed_ansim[\"경도\"] = processed_ansim[0].apply(word_to_EW)\n",
    "processed_ansim = processed_ansim.drop(columns=[0]).reset_index(drop=True)\n",
    "processed_ansim"
   ]
  },
  {
   "cell_type": "code",
   "execution_count": null,
   "id": "9d697c6a",
   "metadata": {},
   "outputs": [],
   "source": [
    "processed_ansim.to_csv(end_path+\"processed_ansim.csv\", index=False, encoding=encoding)"
   ]
  },
  {
   "cell_type": "markdown",
   "id": "9fc46e5b",
   "metadata": {},
   "source": [
    "### 서울시 보안등 가공\n",
    "\n",
    "하려했으나 중랑구, 성북구는 데이터가 없어 제외"
   ]
  },
  {
   "cell_type": "code",
   "execution_count": null,
   "id": "f29f7691",
   "metadata": {},
   "outputs": [],
   "source": [
    "nowon_light = pd.read_csv(start_path+\"nowon_light.csv\", encoding=encoding)\n",
    "nowon_light"
   ]
  },
  {
   "cell_type": "code",
   "execution_count": null,
   "id": "0f8ae2f5",
   "metadata": {},
   "outputs": [],
   "source": [
    "dobong_light = pd.read_csv(start_path+\"dobong_light.csv\", encoding=encoding)\n",
    "dobong_light"
   ]
  },
  {
   "cell_type": "code",
   "execution_count": null,
   "id": "5f25bdea",
   "metadata": {},
   "outputs": [],
   "source": [
    "processed_light = pd.concat([nowon_light, dobong_light]).reset_index(drop=True)\n",
    "processed_light"
   ]
  },
  {
   "cell_type": "code",
   "execution_count": null,
   "id": "5137f096",
   "metadata": {},
   "outputs": [],
   "source": [
    "processed_light.to_csv(end_path+\"processed_light.csv\", index=False,  encoding=encoding)"
   ]
  },
  {
   "cell_type": "markdown",
   "id": "73014fd1",
   "metadata": {},
   "source": [
    "### 서울시 유흥주점 가공\n",
    "\n",
    "범위내 영업중 장소 골라냄"
   ]
  },
  {
   "cell_type": "code",
   "execution_count": null,
   "id": "a0c52021",
   "metadata": {},
   "outputs": [],
   "source": [
    "seoul_salon = pd.read_csv(start_path+\"seoul_salon.csv\", encoding=encoding)\n",
    "seoul_salon"
   ]
  },
  {
   "cell_type": "code",
   "execution_count": null,
   "id": "1dcdcd19",
   "metadata": {},
   "outputs": [],
   "source": [
    "seoul_salon = seoul_salon.loc[seoul_salon[\"상세영업상태명\"]==\"영업\", :]\n",
    "temp_salon = pd.DataFrame()\n",
    "for i in gu_code:\n",
    "    temp_salon = pd.concat([ temp_salon, seoul_salon.loc[seoul_salon[\"개방자치단체코드\"] == i, [\"지번주소\", \"도로명주소\"]] ])\n",
    "temp_salon = temp_salon.reset_index(drop=True)\n",
    "temp_salon"
   ]
  },
  {
   "cell_type": "markdown",
   "id": "c1bd029b",
   "metadata": {},
   "source": [
    "해당데이터는 주소로만 이뤄져있으므로 위경도로 변환해야함\n",
    "\n",
    "https://www.geoservice.co.kr/ 이용"
   ]
  },
  {
   "cell_type": "code",
   "execution_count": null,
   "id": "be7100d8",
   "metadata": {},
   "outputs": [],
   "source": [
    "temp_salon.to_csv(start_path+\"temp_salon.csv\", index=False,  encoding=encoding)"
   ]
  },
  {
   "cell_type": "markdown",
   "id": "16603396",
   "metadata": {},
   "source": [
    "위경도 변환된 데이터 확인"
   ]
  },
  {
   "cell_type": "code",
   "execution_count": null,
   "id": "1f8585ee",
   "metadata": {},
   "outputs": [],
   "source": [
    "processed_salon = pd.read_csv(end_path+\"processed_salon.csv\", encoding=encoding)\n",
    "processed_salon"
   ]
  },
  {
   "cell_type": "code",
   "execution_count": null,
   "id": "699ce6bb",
   "metadata": {},
   "outputs": [],
   "source": []
  }
 ],
 "metadata": {
  "kernelspec": {
   "display_name": "Python 3 (ipykernel)",
   "language": "python",
   "name": "python3"
  },
  "language_info": {
   "codemirror_mode": {
    "name": "ipython",
    "version": 3
   },
   "file_extension": ".py",
   "mimetype": "text/x-python",
   "name": "python",
   "nbconvert_exporter": "python",
   "pygments_lexer": "ipython3",
   "version": "3.11.5"
  }
 },
 "nbformat": 4,
 "nbformat_minor": 5
}
