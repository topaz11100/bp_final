{
 "cells": [
  {
   "cell_type": "markdown",
   "id": "5f0a12ff",
   "metadata": {},
   "source": [
    "# 데이터 전처리"
   ]
  },
  {
   "cell_type": "markdown",
   "id": "ee93fdc9",
   "metadata": {},
   "source": [
    "목표1 : 노원과 인접구 데이터만 갖도록 가공, 포함범위 : 노원 도봉 중랑 성북\n",
    "\n",
    "목적데이터 : cctv, 안심귀가길 시설물, 보안등\n",
    "\n",
    "목표2 : 순찰반경내 데이터만 자르는 함수 생성"
   ]
  },
  {
   "cell_type": "markdown",
   "id": "26cd56c1",
   "metadata": {},
   "source": [
    "라이브러리 불러오기"
   ]
  },
  {
   "cell_type": "code",
   "execution_count": 1,
   "id": "e383f22c",
   "metadata": {},
   "outputs": [],
   "source": [
    "import numpy as np\n",
    "import pandas as pd"
   ]
  },
  {
   "cell_type": "markdown",
   "id": "12405ade",
   "metadata": {},
   "source": [
    "상수 지정"
   ]
  },
  {
   "cell_type": "code",
   "execution_count": 2,
   "id": "247d3e28",
   "metadata": {},
   "outputs": [],
   "source": [
    "gu_list=[\"노원구\", \"도봉구\", \"중랑구\", \"성북구\"]\n",
    "data_path = \"데이터전처리/\"\n",
    "encoding = 'cp949'"
   ]
  },
  {
   "cell_type": "markdown",
   "id": "867dfbe2",
   "metadata": {},
   "source": [
    "### 서울시 cctv가공"
   ]
  },
  {
   "cell_type": "code",
   "execution_count": 3,
   "id": "7c6981cc",
   "metadata": {},
   "outputs": [
    {
     "data": {
      "text/html": [
       "<div>\n",
       "<style scoped>\n",
       "    .dataframe tbody tr th:only-of-type {\n",
       "        vertical-align: middle;\n",
       "    }\n",
       "\n",
       "    .dataframe tbody tr th {\n",
       "        vertical-align: top;\n",
       "    }\n",
       "\n",
       "    .dataframe thead th {\n",
       "        text-align: right;\n",
       "    }\n",
       "</style>\n",
       "<table border=\"1\" class=\"dataframe\">\n",
       "  <thead>\n",
       "    <tr style=\"text-align: right;\">\n",
       "      <th></th>\n",
       "      <th>위도</th>\n",
       "      <th>경도</th>\n",
       "    </tr>\n",
       "  </thead>\n",
       "  <tbody>\n",
       "    <tr>\n",
       "      <th>48581</th>\n",
       "      <td>37.6734</td>\n",
       "      <td>127.0590</td>\n",
       "    </tr>\n",
       "    <tr>\n",
       "      <th>48582</th>\n",
       "      <td>37.6734</td>\n",
       "      <td>127.0590</td>\n",
       "    </tr>\n",
       "    <tr>\n",
       "      <th>48583</th>\n",
       "      <td>37.6734</td>\n",
       "      <td>127.0590</td>\n",
       "    </tr>\n",
       "    <tr>\n",
       "      <th>48584</th>\n",
       "      <td>37.6729</td>\n",
       "      <td>127.0588</td>\n",
       "    </tr>\n",
       "    <tr>\n",
       "      <th>48585</th>\n",
       "      <td>37.6729</td>\n",
       "      <td>127.0588</td>\n",
       "    </tr>\n",
       "    <tr>\n",
       "      <th>...</th>\n",
       "      <td>...</td>\n",
       "      <td>...</td>\n",
       "    </tr>\n",
       "    <tr>\n",
       "      <th>26702</th>\n",
       "      <td>37.5985</td>\n",
       "      <td>127.0327</td>\n",
       "    </tr>\n",
       "    <tr>\n",
       "      <th>26703</th>\n",
       "      <td>37.5985</td>\n",
       "      <td>127.0327</td>\n",
       "    </tr>\n",
       "    <tr>\n",
       "      <th>26704</th>\n",
       "      <td>37.5881</td>\n",
       "      <td>127.0075</td>\n",
       "    </tr>\n",
       "    <tr>\n",
       "      <th>26705</th>\n",
       "      <td>37.6096</td>\n",
       "      <td>127.0572</td>\n",
       "    </tr>\n",
       "    <tr>\n",
       "      <th>26706</th>\n",
       "      <td>37.5832</td>\n",
       "      <td>127.0241</td>\n",
       "    </tr>\n",
       "  </tbody>\n",
       "</table>\n",
       "<p>11667 rows × 2 columns</p>\n",
       "</div>"
      ],
      "text/plain": [
       "            위도        경도\n",
       "48581  37.6734  127.0590\n",
       "48582  37.6734  127.0590\n",
       "48583  37.6734  127.0590\n",
       "48584  37.6729  127.0588\n",
       "48585  37.6729  127.0588\n",
       "...        ...       ...\n",
       "26702  37.5985  127.0327\n",
       "26703  37.5985  127.0327\n",
       "26704  37.5881  127.0075\n",
       "26705  37.6096  127.0572\n",
       "26706  37.5832  127.0241\n",
       "\n",
       "[11667 rows x 2 columns]"
      ]
     },
     "execution_count": 3,
     "metadata": {},
     "output_type": "execute_result"
    }
   ],
   "source": [
    "seoul_cctv = pd.read_csv(data_path+\"seoul_cctv.csv\", encoding=encoding)\n",
    "processed_cctv = pd.DataFrame(columns=[\"위도\", \"경도\"], dtype=np.float64)\n",
    "for i in gu_list:\n",
    "    temp = seoul_cctv.loc[seoul_cctv[\"자치구\"]==i,[\"위도\", \"경도\"]]\n",
    "    processed_cctv = pd.concat([processed_cctv, temp])\n",
    "processed_cctv"
   ]
  },
  {
   "cell_type": "code",
   "execution_count": 4,
   "id": "c03b2264",
   "metadata": {},
   "outputs": [],
   "source": [
    "processed_cctv.to_csv(data_path+\"processed_cctv.csv\", index=False,  encoding=encoding)"
   ]
  },
  {
   "cell_type": "markdown",
   "id": "93e6bc35",
   "metadata": {},
   "source": [
    "### 서울시 안심귀가길 시설물 가공"
   ]
  },
  {
   "cell_type": "code",
   "execution_count": 5,
   "id": "4f60851e",
   "metadata": {},
   "outputs": [
    {
     "data": {
      "text/html": [
       "<div>\n",
       "<style scoped>\n",
       "    .dataframe tbody tr th:only-of-type {\n",
       "        vertical-align: middle;\n",
       "    }\n",
       "\n",
       "    .dataframe tbody tr th {\n",
       "        vertical-align: top;\n",
       "    }\n",
       "\n",
       "    .dataframe thead th {\n",
       "        text-align: right;\n",
       "    }\n",
       "</style>\n",
       "<table border=\"1\" class=\"dataframe\">\n",
       "  <thead>\n",
       "    <tr style=\"text-align: right;\">\n",
       "      <th></th>\n",
       "      <th>위도</th>\n",
       "      <th>경도</th>\n",
       "    </tr>\n",
       "  </thead>\n",
       "  <tbody>\n",
       "    <tr>\n",
       "      <th>0</th>\n",
       "      <td>37.624871</td>\n",
       "      <td>127.050828</td>\n",
       "    </tr>\n",
       "    <tr>\n",
       "      <th>1</th>\n",
       "      <td>37.624608</td>\n",
       "      <td>127.050897</td>\n",
       "    </tr>\n",
       "    <tr>\n",
       "      <th>2</th>\n",
       "      <td>37.624236</td>\n",
       "      <td>127.051045</td>\n",
       "    </tr>\n",
       "    <tr>\n",
       "      <th>3</th>\n",
       "      <td>37.624017</td>\n",
       "      <td>127.051316</td>\n",
       "    </tr>\n",
       "    <tr>\n",
       "      <th>4</th>\n",
       "      <td>37.624017</td>\n",
       "      <td>127.051316</td>\n",
       "    </tr>\n",
       "    <tr>\n",
       "      <th>...</th>\n",
       "      <td>...</td>\n",
       "      <td>...</td>\n",
       "    </tr>\n",
       "    <tr>\n",
       "      <th>2033</th>\n",
       "      <td>37.60735199999999878</td>\n",
       "      <td>127.05262000000000455</td>\n",
       "    </tr>\n",
       "    <tr>\n",
       "      <th>2034</th>\n",
       "      <td>37.60735700000000037</td>\n",
       "      <td>127.0526660000000021</td>\n",
       "    </tr>\n",
       "    <tr>\n",
       "      <th>2035</th>\n",
       "      <td>37.60735700000000037</td>\n",
       "      <td>127.0526660000000021</td>\n",
       "    </tr>\n",
       "    <tr>\n",
       "      <th>2036</th>\n",
       "      <td>37.6074300000000008</td>\n",
       "      <td>127.05291400000000124</td>\n",
       "    </tr>\n",
       "    <tr>\n",
       "      <th>2037</th>\n",
       "      <td>37.6076025691229745</td>\n",
       "      <td>127.05287977191399307</td>\n",
       "    </tr>\n",
       "  </tbody>\n",
       "</table>\n",
       "<p>2038 rows × 2 columns</p>\n",
       "</div>"
      ],
      "text/plain": [
       "                        위도                     경도\n",
       "0                37.624871             127.050828\n",
       "1                37.624608             127.050897\n",
       "2                37.624236             127.051045\n",
       "3                37.624017             127.051316\n",
       "4                37.624017             127.051316\n",
       "...                    ...                    ...\n",
       "2033  37.60735199999999878  127.05262000000000455\n",
       "2034  37.60735700000000037   127.0526660000000021\n",
       "2035  37.60735700000000037   127.0526660000000021\n",
       "2036   37.6074300000000008  127.05291400000000124\n",
       "2037   37.6076025691229745  127.05287977191399307\n",
       "\n",
       "[2038 rows x 2 columns]"
      ]
     },
     "execution_count": 5,
     "metadata": {},
     "output_type": "execute_result"
    }
   ],
   "source": [
    "seoul_ansim = pd.read_csv(data_path+\"seoul_ansim.csv\", encoding=encoding)\n",
    "processed_ansim = pd.DataFrame()\n",
    "for i in gu_list:\n",
    "    processed_ansim = pd.concat([ processed_ansim, seoul_ansim.loc[seoul_ansim[\"시군구명\"] == \"서울특별시 \"+i, \"포인트 wkt\"] ])\n",
    "\n",
    "def word_to_EW(word):\n",
    "    temp = word.split(\"(\")\n",
    "    temp = temp[-1].split(\" \")\n",
    "    return temp[0]\n",
    "def word_to_NS(word):\n",
    "    temp = word.split(\"(\")\n",
    "    temp = temp[-1].split(\" \")\n",
    "    return temp[1][:-1]\n",
    "\n",
    "processed_ansim[\"위도\"] = processed_ansim[0].apply(word_to_NS)\n",
    "processed_ansim[\"경도\"] = processed_ansim[0].apply(word_to_EW)\n",
    "processed_ansim = processed_ansim.drop(columns=[0]).reset_index(drop=True)\n",
    "processed_ansim"
   ]
  },
  {
   "cell_type": "code",
   "execution_count": 6,
   "id": "9d697c6a",
   "metadata": {},
   "outputs": [],
   "source": [
    "processed_ansim.to_csv(data_path+\"processed_ansim.csv\", index=False, encoding=encoding)"
   ]
  },
  {
   "cell_type": "markdown",
   "id": "9fc46e5b",
   "metadata": {},
   "source": [
    "### 서울시 보안등 가공\n",
    "\n",
    "하려했으나 중랑구, 성북구는 데이터가 없어 제외"
   ]
  },
  {
   "cell_type": "code",
   "execution_count": 7,
   "id": "f29f7691",
   "metadata": {},
   "outputs": [],
   "source": [
    "nowon_light = pd.read_csv(data_path+\"nowon_light.csv\", encoding=encoding)\n",
    "dobong_light = pd.read_csv(data_path+\"dobong_light.csv\", encoding=encoding)\n",
    "processed_light = pd.concat([nowon_light, dobong_light]).reset_index(drop=True)"
   ]
  },
  {
   "cell_type": "code",
   "execution_count": 8,
   "id": "5137f096",
   "metadata": {},
   "outputs": [],
   "source": [
    "processed_light.to_csv(data_path+\"processed_light.csv\", index=False,  encoding=encoding)"
   ]
  },
  {
   "cell_type": "markdown",
   "id": "73014fd1",
   "metadata": {},
   "source": [
    "### 서울시 유흥주점 가공\n",
    "\n",
    "범위내 영업중 장소 골라냄"
   ]
  },
  {
   "cell_type": "code",
   "execution_count": 11,
   "id": "1dcdcd19",
   "metadata": {},
   "outputs": [
    {
     "data": {
      "text/html": [
       "<div>\n",
       "<style scoped>\n",
       "    .dataframe tbody tr th:only-of-type {\n",
       "        vertical-align: middle;\n",
       "    }\n",
       "\n",
       "    .dataframe tbody tr th {\n",
       "        vertical-align: top;\n",
       "    }\n",
       "\n",
       "    .dataframe thead th {\n",
       "        text-align: right;\n",
       "    }\n",
       "</style>\n",
       "<table border=\"1\" class=\"dataframe\">\n",
       "  <thead>\n",
       "    <tr style=\"text-align: right;\">\n",
       "      <th></th>\n",
       "      <th>지번주소</th>\n",
       "      <th>도로명주소</th>\n",
       "    </tr>\n",
       "  </thead>\n",
       "  <tbody>\n",
       "    <tr>\n",
       "      <th>0</th>\n",
       "      <td>서울특별시 노원구 상계동 706-1 2층</td>\n",
       "      <td>서울특별시 노원구 노해로75길 20-21 (상계동,2층)</td>\n",
       "    </tr>\n",
       "    <tr>\n",
       "      <th>1</th>\n",
       "      <td>서울특별시 노원구 상계동 710 문화빌딩 지하1층</td>\n",
       "      <td>서울특별시 노원구 노해로77길 14-3, 지하1층 (상계동, 문화빌딩)</td>\n",
       "    </tr>\n",
       "    <tr>\n",
       "      <th>2</th>\n",
       "      <td>서울특별시 노원구 상계동 730-5 지하2호</td>\n",
       "      <td>서울특별시 노원구 동일로 1393, 지하층 지하2호 (상계동)</td>\n",
       "    </tr>\n",
       "    <tr>\n",
       "      <th>3</th>\n",
       "      <td>서울특별시 노원구 상계동 711-9 노블레스관광호텔 3층</td>\n",
       "      <td>서울특별시 노원구 노해로77길 22, 노블레스관광호텔 3층 (상계동)</td>\n",
       "    </tr>\n",
       "    <tr>\n",
       "      <th>4</th>\n",
       "      <td>서울특별시 노원구 상계동 734-4번지 동방빌딩</td>\n",
       "      <td>서울특별시 노원구 노해로 456, 동방빌딩 지하층 (상계동)</td>\n",
       "    </tr>\n",
       "    <tr>\n",
       "      <th>...</th>\n",
       "      <td>...</td>\n",
       "      <td>...</td>\n",
       "    </tr>\n",
       "    <tr>\n",
       "      <th>60</th>\n",
       "      <td>서울특별시 성북구 동선동4가 7 외 1필지</td>\n",
       "      <td>서울특별시 성북구 아리랑로 4 (동선동4가,외 1필지)</td>\n",
       "    </tr>\n",
       "    <tr>\n",
       "      <th>61</th>\n",
       "      <td>서울특별시 성북구 동소문동5가 85번지</td>\n",
       "      <td>서울특별시 성북구 동소문로20길 12 (동소문동5가)</td>\n",
       "    </tr>\n",
       "    <tr>\n",
       "      <th>62</th>\n",
       "      <td>서울특별시 성북구 동선동1가 2-12번지</td>\n",
       "      <td>서울특별시 성북구 동소문로20나길 3 (동선동1가)</td>\n",
       "    </tr>\n",
       "    <tr>\n",
       "      <th>63</th>\n",
       "      <td>서울특별시 성북구 보문동4가 77-2번지 브라운관광호텔 지하1층</td>\n",
       "      <td>서울특별시 성북구 보문로 78 (보문동4가,브라운관광호텔 지하1층)</td>\n",
       "    </tr>\n",
       "    <tr>\n",
       "      <th>64</th>\n",
       "      <td>서울특별시 성북구 길음동 877-195번지</td>\n",
       "      <td>서울특별시 성북구 동소문로 225-3 (길음동)</td>\n",
       "    </tr>\n",
       "  </tbody>\n",
       "</table>\n",
       "<p>65 rows × 2 columns</p>\n",
       "</div>"
      ],
      "text/plain": [
       "                                    지번주소  \\\n",
       "0                 서울특별시 노원구 상계동 706-1 2층   \n",
       "1            서울특별시 노원구 상계동 710 문화빌딩 지하1층   \n",
       "2               서울특별시 노원구 상계동 730-5 지하2호   \n",
       "3        서울특별시 노원구 상계동 711-9 노블레스관광호텔 3층   \n",
       "4            서울특별시 노원구 상계동 734-4번지 동방빌딩    \n",
       "..                                   ...   \n",
       "60              서울특별시 성북구 동선동4가 7 외 1필지    \n",
       "61                서울특별시 성북구 동소문동5가 85번지    \n",
       "62               서울특별시 성북구 동선동1가 2-12번지    \n",
       "63  서울특별시 성북구 보문동4가 77-2번지 브라운관광호텔 지하1층    \n",
       "64              서울특별시 성북구 길음동 877-195번지    \n",
       "\n",
       "                                      도로명주소  \n",
       "0           서울특별시 노원구 노해로75길 20-21 (상계동,2층)  \n",
       "1   서울특별시 노원구 노해로77길 14-3, 지하1층 (상계동, 문화빌딩)  \n",
       "2        서울특별시 노원구 동일로 1393, 지하층 지하2호 (상계동)  \n",
       "3    서울특별시 노원구 노해로77길 22, 노블레스관광호텔 3층 (상계동)  \n",
       "4         서울특별시 노원구 노해로 456, 동방빌딩 지하층 (상계동)  \n",
       "..                                      ...  \n",
       "60           서울특별시 성북구 아리랑로 4 (동선동4가,외 1필지)  \n",
       "61            서울특별시 성북구 동소문로20길 12 (동소문동5가)  \n",
       "62             서울특별시 성북구 동소문로20나길 3 (동선동1가)  \n",
       "63    서울특별시 성북구 보문로 78 (보문동4가,브라운관광호텔 지하1층)  \n",
       "64               서울특별시 성북구 동소문로 225-3 (길음동)  \n",
       "\n",
       "[65 rows x 2 columns]"
      ]
     },
     "execution_count": 11,
     "metadata": {},
     "output_type": "execute_result"
    }
   ],
   "source": [
    "seoul_salon = pd.read_csv(data_path+\"seoul_salon.csv\", encoding=encoding)\n",
    "seoul_salon = seoul_salon.loc[seoul_salon[\"상세영업상태명\"]==\"영업\", :]\n",
    "processed_salon = pd.DataFrame()\n",
    "gu_code=[3100000, 3090000, 3060000, 3070000]\n",
    "for i in gu_code:\n",
    "    processed_salon = pd.concat([ processed_salon, seoul_salon.loc[seoul_salon[\"개방자치단체코드\"] == i, [\"지번주소\", \"도로명주소\"]] ])\n",
    "processed_salon = processed_salon.reset_index(drop=True) \n",
    "processed_salon"
   ]
  },
  {
   "cell_type": "code",
   "execution_count": 12,
   "id": "be7100d8",
   "metadata": {},
   "outputs": [],
   "source": [
    "processed_salon.to_csv(data_path+\"processed_salon.csv\", index=False,  encoding=encoding)"
   ]
  },
  {
   "cell_type": "code",
   "execution_count": null,
   "id": "d9d776ba",
   "metadata": {},
   "outputs": [],
   "source": []
  },
  {
   "cell_type": "code",
   "execution_count": null,
   "id": "747702a6",
   "metadata": {},
   "outputs": [],
   "source": []
  },
  {
   "cell_type": "code",
   "execution_count": null,
   "id": "7e03eec2",
   "metadata": {},
   "outputs": [],
   "source": []
  },
  {
   "cell_type": "code",
   "execution_count": null,
   "id": "efcd5455",
   "metadata": {},
   "outputs": [],
   "source": []
  },
  {
   "cell_type": "code",
   "execution_count": null,
   "id": "0d050456",
   "metadata": {},
   "outputs": [],
   "source": []
  }
 ],
 "metadata": {
  "kernelspec": {
   "display_name": "Python 3 (ipykernel)",
   "language": "python",
   "name": "python3"
  },
  "language_info": {
   "codemirror_mode": {
    "name": "ipython",
    "version": 3
   },
   "file_extension": ".py",
   "mimetype": "text/x-python",
   "name": "python",
   "nbconvert_exporter": "python",
   "pygments_lexer": "ipython3",
   "version": "3.11.7"
  }
 },
 "nbformat": 4,
 "nbformat_minor": 5
}
