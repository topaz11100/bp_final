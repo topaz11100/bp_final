{
 "cells": [
  {
   "cell_type": "markdown",
   "id": "33da0036",
   "metadata": {},
   "source": [
    "# 빅프9조\n",
    "\n",
    "분석방법\n",
    "순찰 영역은 원형이지만 격자점 내부에서는 분석을 정사각형으로 함"
   ]
  },
  {
   "cell_type": "markdown",
   "id": "631a37ef",
   "metadata": {},
   "source": [
    "# 기본 설정"
   ]
  },
  {
   "cell_type": "markdown",
   "id": "1d1ea40d",
   "metadata": {},
   "source": [
    " 필수 라이브러리 import"
   ]
  },
  {
   "cell_type": "code",
   "execution_count": 1,
   "id": "0f305017",
   "metadata": {},
   "outputs": [
    {
     "name": "stderr",
     "output_type": "stream",
     "text": [
      "C:\\ProgramData\\anaconda3\\Lib\\site-packages\\pandas\\core\\arrays\\masked.py:60: UserWarning: Pandas requires version '1.3.6' or newer of 'bottleneck' (version '1.3.5' currently installed).\n",
      "  from pandas.core import (\n"
     ]
    }
   ],
   "source": [
    "import numpy as np\n",
    "import pandas as pd\n",
    "\n",
    "from selenium import webdriver as wb\n",
    "from selenium.webdriver.common.keys import Keys\n",
    "from selenium.webdriver.common.by import By\n",
    "from selenium.common.exceptions import NoSuchElementException\n",
    "import time\n",
    "\n",
    "import folium\n",
    "from IPython.display import display"
   ]
  },
  {
   "cell_type": "markdown",
   "id": "33d01021",
   "metadata": {},
   "source": [
    "### 아래와 같이 경찰서 관련 데이터는 {경찰서이름 : 데이터} 형식으로 관리"
   ]
  },
  {
   "cell_type": "markdown",
   "id": "86b420fc",
   "metadata": {},
   "source": [
    "파일 관련 상수 설정"
   ]
  },
  {
   "cell_type": "code",
   "execution_count": 2,
   "id": "e938d755",
   "metadata": {},
   "outputs": [],
   "source": [
    "data_path = \"전처리완료데이터/\"\n",
    "encoding = \"cp949\"\n",
    "extension = \".csv\""
   ]
  },
  {
   "cell_type": "markdown",
   "id": "979fd5cb",
   "metadata": {},
   "source": [
    "경찰서 관련 정보 설정"
   ]
  },
  {
   "cell_type": "code",
   "execution_count": 3,
   "id": "cf21d7db",
   "metadata": {},
   "outputs": [
    {
     "data": {
      "text/plain": [
       "{'당현지구대': array([ 37.64201519, 127.0683536 ]),\n",
       " '노원역지구대': array([ 37.65500523, 127.0669163 ]),\n",
       " '화랑지구대': array([ 37.62256592, 127.0745976 ]),\n",
       " '불암지구대': array([ 37.65243504, 127.0773404 ]),\n",
       " '월계지구대': array([ 37.63368623, 127.0592911 ]),\n",
       " '마들지구대': array([ 37.66458702, 127.0636189 ]),\n",
       " '당고개파출소': array([ 37.67147105, 127.0778527 ]),\n",
       " '상계1파출소': array([ 37.67968126, 127.0550472 ])}"
      ]
     },
     "execution_count": 3,
     "metadata": {},
     "output_type": "execute_result"
    }
   ],
   "source": [
    "police = pd.read_csv(data_path + \"police.csv\", encoding=encoding)\n",
    "police = {police.loc[i, \"이름\"]: police.loc[i, [\"위도\", \"경도\"]].values.astype(np.float64) for i in police.index}\n",
    "\n",
    "police_path     = {k: f'전처리완료데이터/police/{k}/' for k in police.keys()}\n",
    "police_raw_path = {k: f'전처리필요데이터/police/{k}/' for k in police.keys()}\n",
    "\n",
    "police"
   ]
  },
  {
   "cell_type": "markdown",
   "id": "187dcb7c",
   "metadata": {},
   "source": [
    "격자점 생성에 필요한 상수 선언"
   ]
  },
  {
   "cell_type": "code",
   "execution_count": 4,
   "id": "17338fa7",
   "metadata": {},
   "outputs": [],
   "source": [
    "NS_DIFF_1M = 0.000007\n",
    "EW_DIFF_1M = 0.000009\n",
    "PATROL_HR = 900\n",
    "GRID_DIFF = 90"
   ]
  },
  {
   "cell_type": "markdown",
   "id": "2647593b",
   "metadata": {},
   "source": [
    "### 데이터를 순찰 반경 안의 것만 잘라내는 함수"
   ]
  },
  {
   "cell_type": "code",
   "execution_count": 5,
   "id": "98b74d92",
   "metadata": {},
   "outputs": [],
   "source": [
    "def filtering(data, police, mode = \"시설\"):\n",
    "    distance = PATROL_HR + GRID_DIFF/2 + 5 if mode == \"시설\" else PATROL_HR + 10 \n",
    "    ft = (data[[\"위도\", \"경도\"]] - police).copy()\n",
    "    ft.loc[:, \"위도\"] /= NS_DIFF_1M\n",
    "    ft.loc[:, \"경도\"] /= EW_DIFF_1M\n",
    "    ft = np.sqrt( np.sum( np.square(ft), axis=1 ))\n",
    "    return data.loc[ft <= distance, :].reset_index(drop=True)"
   ]
  },
  {
   "cell_type": "markdown",
   "id": "9122b36e",
   "metadata": {},
   "source": [
    "# 기본 격자점 생성"
   ]
  },
  {
   "cell_type": "markdown",
   "id": "efb869ea",
   "metadata": {},
   "source": [
    "기본 격자점 반환함수"
   ]
  },
  {
   "cell_type": "code",
   "execution_count": 6,
   "id": "7ec48f05",
   "metadata": {},
   "outputs": [],
   "source": [
    "def grids(police):\n",
    "    hcount = PATROL_HR//GRID_DIFF\n",
    "    ew = np.arange(-hcount, hcount + 1, dtype=np.float64)\n",
    "    ns = ew.reshape(-1,1).copy()\n",
    "    ew *= EW_DIFF_1M * GRID_DIFF\n",
    "    ns *= NS_DIFF_1M * GRID_DIFF\n",
    "    \n",
    "    result = np.full((2*hcount+1, 2*hcount+1, 2), police, dtype=np.float64)\n",
    "    result[:,:,0] += ns\n",
    "    result[:,:,1] += ew\n",
    "    \n",
    "    return pd.DataFrame(result.reshape(-1,2), columns=[\"위도\", \"경도\"])"
   ]
  },
  {
   "cell_type": "markdown",
   "id": "fa8b6b16",
   "metadata": {},
   "source": [
    "원형 격자점 생성"
   ]
  },
  {
   "cell_type": "code",
   "execution_count": 7,
   "id": "b9579c29",
   "metadata": {},
   "outputs": [
    {
     "data": {
      "text/plain": [
       "{'당현지구대':             위도          경도\n",
       " 0    37.635715  127.067544\n",
       " 1    37.635715  127.068354\n",
       " 2    37.635715  127.069164\n",
       " 3    37.636345  127.065114\n",
       " 4    37.636345  127.065924\n",
       " ..         ...         ...\n",
       " 320  37.647685  127.070784\n",
       " 321  37.647685  127.071594\n",
       " 322  37.648315  127.067544\n",
       " 323  37.648315  127.068354\n",
       " 324  37.648315  127.069164\n",
       " \n",
       " [325 rows x 2 columns],\n",
       " '노원역지구대':             위도          경도\n",
       " 0    37.648705  127.066106\n",
       " 1    37.648705  127.066916\n",
       " 2    37.648705  127.067726\n",
       " 3    37.649335  127.063676\n",
       " 4    37.649335  127.064486\n",
       " ..         ...         ...\n",
       " 320  37.660675  127.069346\n",
       " 321  37.660675  127.070156\n",
       " 322  37.661305  127.066106\n",
       " 323  37.661305  127.066916\n",
       " 324  37.661305  127.067726\n",
       " \n",
       " [325 rows x 2 columns],\n",
       " '화랑지구대':             위도          경도\n",
       " 0    37.616266  127.073788\n",
       " 1    37.616266  127.074598\n",
       " 2    37.616266  127.075408\n",
       " 3    37.616896  127.071358\n",
       " 4    37.616896  127.072168\n",
       " ..         ...         ...\n",
       " 320  37.628236  127.077028\n",
       " 321  37.628236  127.077838\n",
       " 322  37.628866  127.073788\n",
       " 323  37.628866  127.074598\n",
       " 324  37.628866  127.075408\n",
       " \n",
       " [325 rows x 2 columns],\n",
       " '불암지구대':             위도         경도\n",
       " 0    37.646135  127.07653\n",
       " 1    37.646135  127.07734\n",
       " 2    37.646135  127.07815\n",
       " 3    37.646765  127.07410\n",
       " 4    37.646765  127.07491\n",
       " ..         ...        ...\n",
       " 320  37.658105  127.07977\n",
       " 321  37.658105  127.08058\n",
       " 322  37.658735  127.07653\n",
       " 323  37.658735  127.07734\n",
       " 324  37.658735  127.07815\n",
       " \n",
       " [325 rows x 2 columns],\n",
       " '월계지구대':             위도          경도\n",
       " 0    37.627386  127.058481\n",
       " 1    37.627386  127.059291\n",
       " 2    37.627386  127.060101\n",
       " 3    37.628016  127.056051\n",
       " 4    37.628016  127.056861\n",
       " ..         ...         ...\n",
       " 320  37.639356  127.061721\n",
       " 321  37.639356  127.062531\n",
       " 322  37.639986  127.058481\n",
       " 323  37.639986  127.059291\n",
       " 324  37.639986  127.060101\n",
       " \n",
       " [325 rows x 2 columns],\n",
       " '마들지구대':             위도          경도\n",
       " 0    37.658287  127.062809\n",
       " 1    37.658287  127.063619\n",
       " 2    37.658287  127.064429\n",
       " 3    37.658917  127.060379\n",
       " 4    37.658917  127.061189\n",
       " ..         ...         ...\n",
       " 320  37.670257  127.066049\n",
       " 321  37.670257  127.066859\n",
       " 322  37.670887  127.062809\n",
       " 323  37.670887  127.063619\n",
       " 324  37.670887  127.064429\n",
       " \n",
       " [325 rows x 2 columns],\n",
       " '당고개파출소':             위도          경도\n",
       " 0    37.665171  127.077043\n",
       " 1    37.665171  127.077853\n",
       " 2    37.665171  127.078663\n",
       " 3    37.665801  127.074613\n",
       " 4    37.665801  127.075423\n",
       " ..         ...         ...\n",
       " 320  37.677141  127.080283\n",
       " 321  37.677141  127.081093\n",
       " 322  37.677771  127.077043\n",
       " 323  37.677771  127.077853\n",
       " 324  37.677771  127.078663\n",
       " \n",
       " [325 rows x 2 columns],\n",
       " '상계1파출소':             위도          경도\n",
       " 0    37.673381  127.054237\n",
       " 1    37.673381  127.055047\n",
       " 2    37.673381  127.055857\n",
       " 3    37.674011  127.051807\n",
       " 4    37.674011  127.052617\n",
       " ..         ...         ...\n",
       " 320  37.685351  127.057477\n",
       " 321  37.685351  127.058287\n",
       " 322  37.685981  127.054237\n",
       " 323  37.685981  127.055047\n",
       " 324  37.685981  127.055857\n",
       " \n",
       " [325 rows x 2 columns]}"
      ]
     },
     "execution_count": 7,
     "metadata": {},
     "output_type": "execute_result"
    }
   ],
   "source": [
    "police_grid = {k:grids(v) for k, v in police.items()}\n",
    "for k,v in police_grid.items():\n",
    "    police_grid[k] = filtering(v, police[k], k)\n",
    "police_grid"
   ]
  },
  {
   "cell_type": "markdown",
   "id": "19658d95",
   "metadata": {},
   "source": [
    "# 장소별 범죄 발생 확률 이용"
   ]
  },
  {
   "cell_type": "markdown",
   "id": "a02458cf",
   "metadata": {},
   "source": [
    "### 샘플링"
   ]
  },
  {
   "cell_type": "markdown",
   "id": "c726cd60",
   "metadata": {},
   "source": [
    "뽑을 개수 (5개)"
   ]
  },
  {
   "cell_type": "code",
   "execution_count": 8,
   "id": "50a8cf51",
   "metadata": {},
   "outputs": [],
   "source": [
    "SAMPLING = 5"
   ]
  },
  {
   "cell_type": "markdown",
   "id": "d13f0858",
   "metadata": {},
   "source": [
    "격자점 범위 내에서 무작위로 5개 점 추가"
   ]
  },
  {
   "cell_type": "code",
   "execution_count": 9,
   "id": "3b9087ee",
   "metadata": {},
   "outputs": [],
   "source": [
    "def sampled_grids(grid):\n",
    "    interval_size = SAMPLING+1\n",
    "    result = np.zeros((grid.shape[0]*interval_size, 2), dtype=np.float64)\n",
    "    for i in range(0, result.shape[0], interval_size):\n",
    "        ran = np.zeros((interval_size, 2), dtype=np.float64)\n",
    "        ran[1:] = np.random.uniform(-1, 1, (interval_size-1, 2))\n",
    "        ran[:, 0] *= (GRID_DIFF/2)*NS_DIFF_1M\n",
    "        ran[:, 1] *= (GRID_DIFF/2)*EW_DIFF_1M\n",
    "        ran += grid.values[i//interval_size]\n",
    "        result[i:i+interval_size] += ran\n",
    "    return pd.DataFrame(result, columns = [\"위도\", \"경도\"])"
   ]
  },
  {
   "cell_type": "markdown",
   "id": "85584c51",
   "metadata": {},
   "source": [
    "추가한 데이터 csv내보내기"
   ]
  },
  {
   "cell_type": "code",
   "execution_count": 10,
   "id": "37a9a300",
   "metadata": {
    "scrolled": true
   },
   "outputs": [
    {
     "data": {
      "text/plain": [
       "{'당현지구대':              위도          경도\n",
       " 0     37.635715  127.067544\n",
       " 1     37.635825  127.067748\n",
       " 2     37.635839  127.067600\n",
       " 3     37.635843  127.067191\n",
       " 4     37.635852  127.067920\n",
       " ...         ...         ...\n",
       " 1945  37.648148  127.069229\n",
       " 1946  37.648452  127.069372\n",
       " 1947  37.648151  127.069356\n",
       " 1948  37.648366  127.069077\n",
       " 1949  37.648205  127.068941\n",
       " \n",
       " [1950 rows x 2 columns],\n",
       " '노원역지구대':              위도          경도\n",
       " 0     37.648705  127.066106\n",
       " 1     37.648585  127.065747\n",
       " 2     37.648555  127.066042\n",
       " 3     37.648880  127.065827\n",
       " 4     37.648714  127.066463\n",
       " ...         ...         ...\n",
       " 1945  37.661319  127.067419\n",
       " 1946  37.661081  127.068103\n",
       " 1947  37.661292  127.068045\n",
       " 1948  37.661556  127.068066\n",
       " 1949  37.661119  127.067800\n",
       " \n",
       " [1950 rows x 2 columns],\n",
       " '화랑지구대':              위도          경도\n",
       " 0     37.616266  127.073788\n",
       " 1     37.616404  127.073761\n",
       " 2     37.616482  127.074080\n",
       " 3     37.616292  127.074179\n",
       " 4     37.616220  127.073769\n",
       " ...         ...         ...\n",
       " 1945  37.628693  127.075535\n",
       " 1946  37.628590  127.075212\n",
       " 1947  37.628822  127.075555\n",
       " 1948  37.629032  127.075246\n",
       " 1949  37.628795  127.075790\n",
       " \n",
       " [1950 rows x 2 columns],\n",
       " '불암지구대':              위도          경도\n",
       " 0     37.646135  127.076530\n",
       " 1     37.646033  127.076295\n",
       " 2     37.645918  127.076453\n",
       " 3     37.646011  127.076498\n",
       " 4     37.645978  127.076933\n",
       " ...         ...         ...\n",
       " 1945  37.658607  127.077863\n",
       " 1946  37.658424  127.078471\n",
       " 1947  37.658870  127.078009\n",
       " 1948  37.658802  127.078037\n",
       " 1949  37.658787  127.078127\n",
       " \n",
       " [1950 rows x 2 columns],\n",
       " '월계지구대':              위도          경도\n",
       " 0     37.627386  127.058481\n",
       " 1     37.627196  127.058700\n",
       " 2     37.627198  127.058775\n",
       " 3     37.627164  127.058363\n",
       " 4     37.627303  127.058725\n",
       " ...         ...         ...\n",
       " 1945  37.640106  127.059714\n",
       " 1946  37.639771  127.060227\n",
       " 1947  37.640250  127.060144\n",
       " 1948  37.640151  127.060223\n",
       " 1949  37.639979  127.059722\n",
       " \n",
       " [1950 rows x 2 columns],\n",
       " '마들지구대':              위도          경도\n",
       " 0     37.658287  127.062809\n",
       " 1     37.657977  127.063002\n",
       " 2     37.658118  127.062595\n",
       " 3     37.658105  127.062913\n",
       " 4     37.658301  127.062427\n",
       " ...         ...         ...\n",
       " 1945  37.671012  127.064505\n",
       " 1946  37.670956  127.064676\n",
       " 1947  37.670793  127.064818\n",
       " 1948  37.670958  127.064725\n",
       " 1949  37.670872  127.064686\n",
       " \n",
       " [1950 rows x 2 columns],\n",
       " '당고개파출소':              위도          경도\n",
       " 0     37.665171  127.077043\n",
       " 1     37.665065  127.076674\n",
       " 2     37.665462  127.077399\n",
       " 3     37.665331  127.076799\n",
       " 4     37.664949  127.077026\n",
       " ...         ...         ...\n",
       " 1945  37.677830  127.078324\n",
       " 1946  37.677507  127.078675\n",
       " 1947  37.677860  127.078347\n",
       " 1948  37.677773  127.078306\n",
       " 1949  37.678020  127.078506\n",
       " \n",
       " [1950 rows x 2 columns],\n",
       " '상계1파출소':              위도          경도\n",
       " 0     37.673381  127.054237\n",
       " 1     37.673532  127.054037\n",
       " 2     37.673345  127.054194\n",
       " 3     37.673670  127.054366\n",
       " 4     37.673123  127.054500\n",
       " ...         ...         ...\n",
       " 1945  37.686110  127.055475\n",
       " 1946  37.686273  127.055930\n",
       " 1947  37.685933  127.056253\n",
       " 1948  37.686131  127.055618\n",
       " 1949  37.686257  127.055899\n",
       " \n",
       " [1950 rows x 2 columns]}"
      ]
     },
     "execution_count": 10,
     "metadata": {},
     "output_type": "execute_result"
    }
   ],
   "source": [
    "police_sampled = {k: sampled_grids(v) for k,v in police_grid.items()}\n",
    "police_sampled"
   ]
  },
  {
   "cell_type": "code",
   "execution_count": 11,
   "id": "01e332b9",
   "metadata": {},
   "outputs": [
    {
     "data": {
      "text/plain": [
       "'\\nfor k,v in police_sampled.items():\\n    v.to_csv(raw_path + k + \"_sampled_grid.csv\", index=False, encoding=encoding)\\n'"
      ]
     },
     "execution_count": 11,
     "metadata": {},
     "output_type": "execute_result"
    }
   ],
   "source": [
    "'''\n",
    "for k,v in police_sampled.items():\n",
    "    v.to_csv(raw_path + k + \"_sampled_grid.csv\", index=False, encoding=encoding)\n",
    "'''"
   ]
  },
  {
   "cell_type": "markdown",
   "id": "a8c245c6",
   "metadata": {},
   "source": [
    "### 주소로 변환\n",
    "\n",
    "https://www.geoservice.co.kr/\n",
    "\n",
    "내보낸 csv 파일 이용, 위 링크에서 역지오코딩, 주소얻기"
   ]
  },
  {
   "cell_type": "markdown",
   "id": "019459eb",
   "metadata": {},
   "source": [
    "주소 기본 데이터 생성"
   ]
  },
  {
   "cell_type": "code",
   "execution_count": 12,
   "id": "fca17acd",
   "metadata": {},
   "outputs": [],
   "source": [
    "def addr_data(file_path):\n",
    "    data=pd.read_csv(file_path, encoding=encoding)\n",
    "    data[\"이름\"] = None\n",
    "    data[\"확률\"] = None\n",
    "    data[\"index\"]=[i//(SAMPLING+1) for i in range(data.shape[0])]\n",
    "    return data"
   ]
  },
  {
   "cell_type": "code",
   "execution_count": 13,
   "id": "c44c7214",
   "metadata": {},
   "outputs": [
    {
     "data": {
      "text/plain": [
       "{'당현지구대':              위도          경도                 지번주소                 도로명주소    이름  \\\n",
       " 0     37.635715  127.067544  서울특별시 노원구 하계동 270-3  서울특별시 노원구 한글비석로 47-2  None   \n",
       " 1     37.635727  127.067823  서울특별시 노원구 하계동 270-3  서울특별시 노원구 한글비석로 47-2  None   \n",
       " 2     37.635488  127.067734  서울특별시 노원구 하계동 270-3  서울특별시 노원구 한글비석로 46-2  None   \n",
       " 3     37.635899  127.067738    서울특별시 노원구 하계동 270     서울특별시 노원구 섬밭로 232  None   \n",
       " 4     37.635524  127.067902    서울특별시 노원구 하계동 273  서울특별시 노원구 한글비석로 46-2  None   \n",
       " ...         ...         ...                  ...                   ...   ...   \n",
       " 1945  37.648151  127.069158  서울특별시 노원구 중계동 514-3     서울특별시 노원구 노원로 331  None   \n",
       " 1946  37.648573  127.068931  서울특별시 노원구 중계동 514-6     서울특별시 노원구 노원로 331  None   \n",
       " 1947  37.648504  127.069279  서울특별시 노원구 중계동 514-3     서울특별시 노원구 노원로 331  None   \n",
       " 1948  37.648451  127.068973  서울특별시 노원구 중계동 514-6     서울특별시 노원구 노원로 331  None   \n",
       " 1949  37.648320  127.069495  서울특별시 노원구 중계동 514-4     서울특별시 노원구 노원로 331  None   \n",
       " \n",
       "         확률  index  \n",
       " 0     None      0  \n",
       " 1     None      0  \n",
       " 2     None      0  \n",
       " 3     None      0  \n",
       " 4     None      0  \n",
       " ...    ...    ...  \n",
       " 1945  None    324  \n",
       " 1946  None    324  \n",
       " 1947  None    324  \n",
       " 1948  None    324  \n",
       " 1949  None    324  \n",
       " \n",
       " [1950 rows x 7 columns],\n",
       " '노원역지구대':              위도          경도                 지번주소                      도로명주소  \\\n",
       " 0     37.648705  127.066106  서울특별시 노원구 중계동 515-4       서울특별시 노원구 동일로210길 22   \n",
       " 1     37.648882  127.066364  서울특별시 노원구 중계동 515-4       서울특별시 노원구 동일로210길 86   \n",
       " 2     37.648546  127.066119  서울특별시 노원구 중계동 515-4       서울특별시 노원구 동일로210길 22   \n",
       " 3     37.648584  127.065987  서울특별시 노원구 중계동 515-4       서울특별시 노원구 동일로210길 22   \n",
       " 4     37.648911  127.066243  서울특별시 노원구 중계동 515-4       서울특별시 노원구 동일로210길 86   \n",
       " ...         ...         ...                  ...                        ...   \n",
       " 1945  37.661457  127.067398  서울특별시 노원구 상계동 407-1   서울특별시 노원구 한글비석로31가길 41-7   \n",
       " 1946  37.661059  127.067345  서울특별시 노원구 상계동 436-3        서울특별시 노원구 상계로9나길 34   \n",
       " 1947  37.661090  127.067802  서울특별시 노원구 상계동 446-5        서울특별시 노원구 상계로9나길 26   \n",
       " 1948  37.661079  127.067870  서울특별시 노원구 상계동 438-6  서울특별시 노원구 한글비석로31가길 27-11   \n",
       " 1949  37.661280  127.067910  서울특별시 노원구 상계동 436-6   서울특별시 노원구 한글비석로31가길 27-4   \n",
       " \n",
       "         이름    확률  index  \n",
       " 0     None  None      0  \n",
       " 1     None  None      0  \n",
       " 2     None  None      0  \n",
       " 3     None  None      0  \n",
       " 4     None  None      0  \n",
       " ...    ...   ...    ...  \n",
       " 1945  None  None    324  \n",
       " 1946  None  None    324  \n",
       " 1947  None  None    324  \n",
       " 1948  None  None    324  \n",
       " 1949  None  None    324  \n",
       " \n",
       " [1950 rows x 7 columns],\n",
       " '화랑지구대':              위도          경도                 지번주소                   도로명주소  \\\n",
       " 0     37.616266  127.073788     서울특별시 중랑구 묵동 335     서울특별시 노원구 동일로 992-1   \n",
       " 1     37.616138  127.073870     서울특별시 중랑구 묵동 335      서울특별시 중랑구 중랑천로 352   \n",
       " 2     37.616492  127.073439     서울특별시 중랑구 묵동 335     서울특별시 노원구 동일로 992-1   \n",
       " 3     37.616508  127.073859     서울특별시 중랑구 묵동 335     서울특별시 노원구 동일로 992-1   \n",
       " 4     37.616127  127.074115     서울특별시 중랑구 묵동 375      서울특별시 중랑구 중랑천로 352   \n",
       " ...         ...         ...                  ...                     ...   \n",
       " 1945  37.628855  127.075378  서울특별시 노원구 공릉동 432-2  서울특별시 노원구 공릉로51길 14-17   \n",
       " 1946  37.629116  127.075426    서울특별시 노원구 공릉동 744  서울특별시 노원구 공릉로51길 14-17   \n",
       " 1947  37.629031  127.075135  서울특별시 노원구 공릉동 430-2  서울특별시 노원구 공릉로51길 14-17   \n",
       " 1948  37.628959  127.075135  서울특별시 노원구 공릉동 430-2  서울특별시 노원구 공릉로51길 14-17   \n",
       " 1949  37.629072  127.075769    서울특별시 노원구 공릉동 744  서울특별시 노원구 공릉로51길 14-17   \n",
       " \n",
       "         이름    확률  index  \n",
       " 0     None  None      0  \n",
       " 1     None  None      0  \n",
       " 2     None  None      0  \n",
       " 3     None  None      0  \n",
       " 4     None  None      0  \n",
       " ...    ...   ...    ...  \n",
       " 1945  None  None    324  \n",
       " 1946  None  None    324  \n",
       " 1947  None  None    324  \n",
       " 1948  None  None    324  \n",
       " 1949  None  None    324  \n",
       " \n",
       " [1950 rows x 7 columns],\n",
       " '불암지구대':              위도          경도                  지번주소                 도로명주소    이름  \\\n",
       " 0     37.646135  127.076530   서울특별시 노원구 중계동 314-2   서울특별시 노원구 한글비석로 208  None   \n",
       " 1     37.646147  127.076361   서울특별시 노원구 중계동 314-2  서울특별시 노원구 한글비석로5길 62  None   \n",
       " 2     37.646324  127.076719  서울특별시 노원구 중계동 363-12   서울특별시 노원구 한글비석로 212  None   \n",
       " 3     37.646332  127.076253   서울특별시 노원구 중계동 362-1  서울특별시 노원구 한글비석로5길 62  None   \n",
       " 4     37.645928  127.076912    서울특별시 노원구 하계동 5-30   서울특별시 노원구 한글비석로 208  None   \n",
       " ...         ...         ...                   ...                   ...   ...   \n",
       " 1945  37.658484  127.078430     서울특별시 노원구 중계동 369  서울특별시 노원구 한글비석로14길 8  None   \n",
       " 1946  37.658818  127.077965   서울특별시 노원구 중계동 369-2   서울특별시 노원구 덕릉로82길 50  None   \n",
       " 1947  37.658986  127.078324   서울특별시 노원구 중계동 369-3   서울특별시 노원구 덕릉로82길 54  None   \n",
       " 1948  37.658681  127.078250   서울특별시 노원구 중계동 369-3   서울특별시 노원구 덕릉로82길 54  None   \n",
       " 1949  37.659035  127.078552   서울특별시 노원구 중계동 369-3   서울특별시 노원구 덕릉로82길 54  None   \n",
       " \n",
       "         확률  index  \n",
       " 0     None      0  \n",
       " 1     None      0  \n",
       " 2     None      0  \n",
       " 3     None      0  \n",
       " 4     None      0  \n",
       " ...    ...    ...  \n",
       " 1945  None    324  \n",
       " 1946  None    324  \n",
       " 1947  None    324  \n",
       " 1948  None    324  \n",
       " 1949  None    324  \n",
       " \n",
       " [1950 rows x 7 columns],\n",
       " '월계지구대':              위도          경도                   지번주소                도로명주소    이름  \\\n",
       " 0     37.627386  127.058481  서울특별시 노원구 월계동 산 108-2    서울특별시 노원구 광운로 131  None   \n",
       " 1     37.627080  127.058292  서울특별시 노원구 월계동 산 108-2    서울특별시 노원구 광운로 131  None   \n",
       " 2     37.627269  127.058325  서울특별시 노원구 월계동 산 108-2    서울특별시 노원구 광운로 131  None   \n",
       " 3     37.627685  127.058154  서울특별시 노원구 월계동 산 108-2    서울특별시 노원구 광운로 131  None   \n",
       " 4     37.627102  127.058574  서울특별시 노원구 월계동 산 108-2    서울특별시 노원구 광운로 121  None   \n",
       " ...         ...         ...                    ...                  ...   ...   \n",
       " 1945  37.640066  127.059905      서울특별시 노원구 상계동 772  서울특별시 노원구 덕릉로70길 99  None   \n",
       " 1946  37.639876  127.059739      서울특별시 노원구 상계동 772  서울특별시 노원구 덕릉로70길 99  None   \n",
       " 1947  37.639751  127.060352    서울특별시 노원구 중계동 566-6    서울특별시 노원구 섬밭로 285  None   \n",
       " 1948  37.639945  127.059755      서울특별시 노원구 상계동 772  서울특별시 노원구 덕릉로70길 99  None   \n",
       " 1949  37.640020  127.060232    서울특별시 노원구 상계동 743-4  서울특별시 노원구 덕릉로70길 99  None   \n",
       " \n",
       "         확률  index  \n",
       " 0     None      0  \n",
       " 1     None      0  \n",
       " 2     None      0  \n",
       " 3     None      0  \n",
       " 4     None      0  \n",
       " ...    ...    ...  \n",
       " 1945  None    324  \n",
       " 1946  None    324  \n",
       " 1947  None    324  \n",
       " 1948  None    324  \n",
       " 1949  None    324  \n",
       " \n",
       " [1950 rows x 7 columns],\n",
       " '마들지구대':              위도          경도                    지번주소                  도로명주소  \\\n",
       " 0     37.658287  127.062809       서울특별시 노원구 상계동 359     서울특별시 노원구 상계로3길 50   \n",
       " 1     37.658511  127.062474     서울특별시 노원구 상계동 359-1     서울특별시 노원구 상계로3길 53   \n",
       " 2     37.658198  127.062738       서울특별시 노원구 상계동 359     서울특별시 노원구 상계로3길 50   \n",
       " 3     37.658141  127.062838       서울특별시 노원구 상계동 359     서울특별시 노원구 상계로3길 50   \n",
       " 4     37.658001  127.063143    서울특별시 노원구 상계동 358-14   서울특별시 노원구 상계로3길 38-8   \n",
       " ...         ...         ...                     ...                    ...   \n",
       " 1945  37.671026  127.064433   서울특별시 노원구 상계동 산 105-1  서울특별시 노원구 동일로242바길 58   \n",
       " 1946  37.670851  127.064100  서울특별시 노원구 상계동 산 105-12  서울특별시 노원구 동일로242바길 58   \n",
       " 1947  37.671088  127.064105  서울특별시 노원구 상계동 산 105-14  서울특별시 노원구 동일로242바길 58   \n",
       " 1948  37.671124  127.064763  서울특별시 노원구 상계동 산 105-12  서울특별시 노원구 동일로242바길 58   \n",
       " 1949  37.670959  127.064495  서울특별시 노원구 상계동 산 105-12  서울특별시 노원구 동일로242바길 58   \n",
       " \n",
       "         이름    확률  index  \n",
       " 0     None  None      0  \n",
       " 1     None  None      0  \n",
       " 2     None  None      0  \n",
       " 3     None  None      0  \n",
       " 4     None  None      0  \n",
       " ...    ...   ...    ...  \n",
       " 1945  None  None    324  \n",
       " 1946  None  None    324  \n",
       " 1947  None  None    324  \n",
       " 1948  None  None    324  \n",
       " 1949  None  None    324  \n",
       " \n",
       " [1950 rows x 7 columns],\n",
       " '당고개파출소':              위도          경도                   지번주소                  도로명주소  \\\n",
       " 0     37.665171  127.077043    서울특별시 노원구 상계동 91-14      서울특별시 노원구 덕릉로 753   \n",
       " 1     37.665405  127.077233    서울특별시 노원구 상계동 91-10      서울특별시 노원구 덕릉로 753   \n",
       " 2     37.665456  127.076645    서울특별시 노원구 상계동 91-32      서울특별시 노원구 덕릉로 753   \n",
       " 3     37.665302  127.076676    서울특별시 노원구 상계동 91-59      서울특별시 노원구 덕릉로 753   \n",
       " 4     37.664880  127.077090     서울특별시 노원구 상계동 91-3      서울특별시 노원구 덕릉로 753   \n",
       " ...         ...         ...                    ...                    ...   \n",
       " 1945  37.678045  127.078473  서울특별시 노원구 상계동 산 153-1  서울특별시 노원구 덕릉로129길 169   \n",
       " 1946  37.677858  127.078729  서울특별시 노원구 상계동 산 153-1  서울특별시 노원구 덕릉로129길 167   \n",
       " 1947  37.677772  127.078313  서울특별시 노원구 상계동 산 153-1  서울특별시 노원구 덕릉로129길 155   \n",
       " 1948  37.677725  127.078402  서울특별시 노원구 상계동 산 153-1  서울특별시 노원구 덕릉로129길 155   \n",
       " 1949  37.677798  127.078777  서울특별시 노원구 상계동 산 153-1  서울특별시 노원구 덕릉로129길 167   \n",
       " \n",
       "         이름    확률  index  \n",
       " 0     None  None      0  \n",
       " 1     None  None      0  \n",
       " 2     None  None      0  \n",
       " 3     None  None      0  \n",
       " 4     None  None      0  \n",
       " ...    ...   ...    ...  \n",
       " 1945  None  None    324  \n",
       " 1946  None  None    324  \n",
       " 1947  None  None    324  \n",
       " 1948  None  None    324  \n",
       " 1949  None  None    324  \n",
       " \n",
       " [1950 rows x 7 columns],\n",
       " '상계1파출소':              위도          경도                   지번주소                 도로명주소  \\\n",
       " 0     37.673381  127.054237     서울특별시 노원구 상계동 1044  서울특별시 노원구 동일로231길 24   \n",
       " 1     37.673080  127.053999     서울특별시 노원구 상계동 1044  서울특별시 노원구 동일로231길 24   \n",
       " 2     37.673592  127.054138     서울특별시 노원구 상계동 1044  서울특별시 노원구 동일로231길 24   \n",
       " 3     37.673079  127.054427   서울특별시 노원구 상계동 1044-2    서울특별시 노원구 동일로 1625   \n",
       " 4     37.673383  127.054040     서울특별시 노원구 상계동 1044  서울특별시 노원구 동일로231길 24   \n",
       " ...         ...         ...                    ...                   ...   \n",
       " 1945  37.686045  127.055465   서울특별시 노원구 상계동 1202-1    서울특별시 노원구 동일로 1772   \n",
       " 1946  37.686056  127.056105   서울특별시 노원구 상계동 산 12-1    서울특별시 노원구 동일로 1772   \n",
       " 1947  37.685760  127.055717  서울특별시 노원구 상계동 1211-11    서울특별시 노원구 동일로 1772   \n",
       " 1948  37.685724  127.055825   서울특별시 노원구 상계동 산 12-1    서울특별시 노원구 동일로 1772   \n",
       " 1949  37.685730  127.056157   서울특별시 노원구 상계동 산 12-1    서울특별시 노원구 동일로 1772   \n",
       " \n",
       "         이름    확률  index  \n",
       " 0     None  None      0  \n",
       " 1     None  None      0  \n",
       " 2     None  None      0  \n",
       " 3     None  None      0  \n",
       " 4     None  None      0  \n",
       " ...    ...   ...    ...  \n",
       " 1945  None  None    324  \n",
       " 1946  None  None    324  \n",
       " 1947  None  None    324  \n",
       " 1948  None  None    324  \n",
       " 1949  None  None    324  \n",
       " \n",
       " [1950 rows x 7 columns]}"
      ]
     },
     "execution_count": 13,
     "metadata": {},
     "output_type": "execute_result"
    }
   ],
   "source": [
    "police_addr = {k : addr_data(f'{police_path[k]}{k}_sampled_addr.csv') for k in police.keys()}\n",
    "police_addr"
   ]
  },
  {
   "cell_type": "markdown",
   "id": "3424db8f",
   "metadata": {},
   "source": [
    "# 건물 이름 크롤링"
   ]
  },
  {
   "cell_type": "markdown",
   "id": "15aba94d",
   "metadata": {},
   "source": [
    "지연 시간(1초), 웹 지도 url(카카오맵) 설정"
   ]
  },
  {
   "cell_type": "code",
   "execution_count": 14,
   "id": "a84b5530",
   "metadata": {},
   "outputs": [],
   "source": [
    "DELAY_TIME = 0.5\n",
    "map_url = \"https://map.kakao.com/\""
   ]
  },
  {
   "cell_type": "markdown",
   "id": "166dafd0",
   "metadata": {},
   "source": [
    "브라우저 드라이버 반환(no 전달시 창 안뜸)"
   ]
  },
  {
   "cell_type": "code",
   "execution_count": 15,
   "id": "2adf907b",
   "metadata": {},
   "outputs": [],
   "source": [
    "def openweb(mode=\"window\"):\n",
    "    if mode == \"no\":\n",
    "        options = wb.ChromeOptions()\n",
    "        options.add_argument('headless')\n",
    "        driver = wb.Chrome(options=options)\n",
    "    else:\n",
    "        driver = wb.Chrome()\n",
    "    driver.get(map_url)\n",
    "    time.sleep(DELAY_TIME)\n",
    "    return driver"
   ]
  },
  {
   "cell_type": "markdown",
   "id": "72d94555",
   "metadata": {},
   "source": [
    "검색어 입력 후 실행"
   ]
  },
  {
   "cell_type": "code",
   "execution_count": 16,
   "id": "8f7a2241",
   "metadata": {},
   "outputs": [],
   "source": [
    "def search(browser, address):\n",
    "    search_box = browser.find_element(By.ID, \"search.keyword.query\")\n",
    "    while search_box.get_attribute(\"value\"):\n",
    "        search_box.send_keys(Keys.CONTROL, 'a')\n",
    "        search_box.send_keys(Keys.BACKSPACE)\n",
    "    search_box.send_keys(address)\n",
    "    search_box.send_keys(Keys.RETURN)\n",
    "    time.sleep(DELAY_TIME)"
   ]
  },
  {
   "cell_type": "markdown",
   "id": "85d0522b",
   "metadata": {},
   "source": [
    "### 크롤링 함수\n",
    "\n",
    "도로나 강 야외의 경우 지번주소는 있지만 우편번호가 없다\n",
    "\n",
    "지번주소 먼저 검색 -> 야외 분류\n",
    "\n",
    "우편번호 있으면 -> 도로명주소 검색\n",
    "\n",
    "건물이름 뜨면 -> 이름 반환\n",
    "\n",
    "안뜨면 -> 우편번호 반환"
   ]
  },
  {
   "cell_type": "code",
   "execution_count": 17,
   "id": "be4737e5",
   "metadata": {},
   "outputs": [],
   "source": [
    "def find_name(browser, addr, road_addr):\n",
    "    if \"산\" in addr:\n",
    "        return \"산\"\n",
    "    if \"지하\" in road_addr:\n",
    "        return \"지하철\"\n",
    "    search(browser, addr)\n",
    "    try:\n",
    "        postage = browser.find_element(By.CLASS_NAME, \"zip\")\n",
    "    except NoSuchElementException:\n",
    "        return \"nozip\"\n",
    "    else:\n",
    "        postnum = postage.text\n",
    "        search(browser, road_addr)\n",
    "        try:\n",
    "            buildname = browser.find_element(By.CLASS_NAME, \"building\")\n",
    "        except NoSuchElementException:\n",
    "            return postnum\n",
    "        else:\n",
    "            return buildname.text"
   ]
  },
  {
   "cell_type": "markdown",
   "id": "cfa4a466",
   "metadata": {},
   "source": [
    "주소 전부 검색 후 csv로 내보내기"
   ]
  },
  {
   "cell_type": "code",
   "execution_count": 18,
   "id": "672635dd",
   "metadata": {},
   "outputs": [],
   "source": [
    "def search_to_csv(browser, data, file_name):\n",
    "    for i in range(len(data.index)):\n",
    "        data.iloc[i, 4] = find_name(browser, data.iloc[i, 2], data.iloc[i, 3])\n",
    "    data.to_csv(file_name, index=False, encoding=encoding)"
   ]
  },
  {
   "cell_type": "code",
   "execution_count": null,
   "id": "1c1e5319",
   "metadata": {},
   "outputs": [],
   "source": [
    "for k, v in police_addr.items():\n",
    "    browser = openweb(\"no\")\n",
    "    search_to_csv(browser, v, f'{police_path[k]}{k}_sampled_name.csv')\n",
    "    browser.quit()"
   ]
  },
  {
   "cell_type": "markdown",
   "id": "2487d269",
   "metadata": {},
   "source": [
    "### 이름을 토대로 유형 분류, 확률 점수 부여"
   ]
  },
  {
   "cell_type": "code",
   "execution_count": null,
   "id": "17252017",
   "metadata": {},
   "outputs": [],
   "source": [
    "police_per = {k:pd.read_csv(data_path + k + \"_sampled_name.csv\", encoding=encoding) for k in police.keys()}\n",
    "for k,v in police_per.items():\n",
    "    print(k)\n",
    "    set(v[\"이름\"])"
   ]
  },
  {
   "cell_type": "markdown",
   "id": "8bf63ea4",
   "metadata": {},
   "source": [
    "장소 분류에 따른 범죄확률"
   ]
  },
  {
   "cell_type": "code",
   "execution_count": null,
   "id": "d89c821b",
   "metadata": {},
   "outputs": [],
   "source": [
    "crime_per = pd.read_csv(data_path+\"processed_crime.csv\", encoding=encoding)\n",
    "crime_per"
   ]
  },
  {
   "cell_type": "markdown",
   "id": "dee09179",
   "metadata": {},
   "source": [
    "분류 결과를 바탕으로 이름이 어떤유형인지 분류"
   ]
  },
  {
   "cell_type": "code",
   "execution_count": null,
   "id": "5783d18c",
   "metadata": {},
   "outputs": [],
   "source": [
    "def namespace(file_path):\n",
    "    space = dict()\n",
    "    with open(file_path, 'r', encoding='UTF8') as file:\n",
    "        for i in file:\n",
    "            temp=i.split(\" - \")\n",
    "            space[temp[0]] = temp[1].strip()\n",
    "    return space"
   ]
  },
  {
   "cell_type": "markdown",
   "id": "d962a119",
   "metadata": {},
   "source": [
    "자료에 맞춰 확률 계산후 대입"
   ]
  },
  {
   "cell_type": "code",
   "execution_count": null,
   "id": "e4dd4035",
   "metadata": {},
   "outputs": [],
   "source": [
    "def insert_percentage(text_file_path, addr_data):\n",
    "    space = namespace(text_file_path)\n",
    "    for i in space:\n",
    "        addr_data.loc[addr_data[\"이름\"]==i, \"확률\"] = crime_per.loc[0, space[i]]"
   ]
  },
  {
   "cell_type": "code",
   "execution_count": null,
   "id": "876e438a",
   "metadata": {},
   "outputs": [],
   "source": [
    "for k, v in police_per.items():\n",
    "    insert_percentage(data_path + k + \"_name_category.txt\", v)       \n",
    "police_per"
   ]
  },
  {
   "cell_type": "markdown",
   "id": "ef7f12fb",
   "metadata": {},
   "source": [
    "동일 지역에서 샘플된 데이터끼리 확률 합 구하고 격자점 데이터에 새로운 열로 추가"
   ]
  },
  {
   "cell_type": "code",
   "execution_count": null,
   "id": "bb6ce4c2",
   "metadata": {},
   "outputs": [],
   "source": [
    "def insert_location(grid, percentage_data):\n",
    "    location = percentage_data[[\"index\", \"확률\"]].groupby(\"index\").sum()\n",
    "    grid[\"location\"] = location"
   ]
  },
  {
   "cell_type": "code",
   "execution_count": null,
   "id": "f191c7bc",
   "metadata": {},
   "outputs": [],
   "source": [
    "for k in police.keys():\n",
    "    insert_location(police_grid[k], police_per[k])\n",
    "police_grid"
   ]
  },
  {
   "cell_type": "markdown",
   "id": "8a682f22",
   "metadata": {},
   "source": [
    "# 시설물 데이터 이용\n",
    "\n",
    "시설물 점수 기준\n",
    "\n",
    "시설물 밀도 계산 => 격자점 반경 내 개수 / 전체 범위 내 개수\n",
    "\n",
    "이때 데이터를 순찰반경에 맞게 필터링해 쓸 것이므로 전체 범위 개수는 필터링된 데이터프레임의 행 개수이다\n",
    "\n",
    "긍정적 시설(cctv 등)일 경우 밀도 뺌\n",
    "\n",
    "부정적 시설(유흥업소 등)일 경우 밀도 더함"
   ]
  },
  {
   "cell_type": "markdown",
   "id": "3942d901",
   "metadata": {},
   "source": [
    "### 데이터 준비\n",
    "\n",
    "안심시설물, cctv, 보안등 유흥업소\n",
    "\n",
    "전체데이터는 너무 많으므로 filtering() 이용\n",
    "\n",
    "긍정요소, 부정요소 정의"
   ]
  },
  {
   "cell_type": "code",
   "execution_count": null,
   "id": "6510ebe8",
   "metadata": {},
   "outputs": [],
   "source": [
    "def set_data(police):\n",
    "    failcity_data = {\"ansim\" : pd.read_csv(data_path+\"processed_ansim.csv\", encoding=encoding),\n",
    "                     \"cctv\"  : pd.read_csv(data_path+\"processed_cctv.csv\", encoding=encoding),\n",
    "                     \"light\" : pd.read_csv(data_path+\"processed_light.csv\", encoding=encoding),\n",
    "                     \"salon\" : pd.read_csv(data_path+\"processed_salon.csv\", encoding=encoding),}\n",
    "    for k, v in failcity_data.items():\n",
    "        failcity_data[k]=filtering(v,police)\n",
    "    return failcity_data\n",
    "    \n",
    "positive = [\"ansim\", \"cctv\", \"light\"]\n",
    "negative = [\"salon\"]"
   ]
  },
  {
   "cell_type": "markdown",
   "id": "a6317686",
   "metadata": {},
   "source": [
    "해당 범위 안에 목표물이 몇개 있는가?"
   ]
  },
  {
   "cell_type": "code",
   "execution_count": null,
   "id": "ad31e724",
   "metadata": {},
   "outputs": [],
   "source": [
    "def location_count(data, location):\n",
    "    ns_min = location.iloc[0] - GRID_DIFF/2*NS_DIFF_1M\n",
    "    ns_max = location.iloc[0] + GRID_DIFF/2*NS_DIFF_1M\n",
    "    ew_min = location.iloc[1] - GRID_DIFF/2*EW_DIFF_1M\n",
    "    ew_max = location.iloc[1] + GRID_DIFF/2*EW_DIFF_1M\n",
    "    return len(data.loc[(data[\"위도\"] >= ns_min)&\n",
    "                         (data[\"위도\"] <= ns_max)&\n",
    "                         (data[\"경도\"] >= ew_min)&\n",
    "                         (data[\"경도\"] <= ew_max) , :].index)"
   ]
  },
  {
   "cell_type": "markdown",
   "id": "2bd02d1b",
   "metadata": {},
   "source": [
    "격자점 데이터에 시설 밀도 열 추가하는 함수"
   ]
  },
  {
   "cell_type": "code",
   "execution_count": null,
   "id": "197c70c7",
   "metadata": {},
   "outputs": [],
   "source": [
    "def insert_facility(grid, data):\n",
    "    for k, v in data.items():\n",
    "        for i in grid.index:\n",
    "            grid.loc[i, k] = location_count(v, grid.loc[i, [\"위도\", \"경도\"]])\n",
    "        total = grid.loc[:, k].sum()\n",
    "        if total != 0:\n",
    "            grid.loc[:, k] /= grid.loc[:, k].sum()\n",
    "        else:\n",
    "            grid.loc[:, k] = 0"
   ]
  },
  {
   "cell_type": "markdown",
   "id": "71acc5df",
   "metadata": {},
   "source": [
    "밀도를 토대로 점수 계산"
   ]
  },
  {
   "cell_type": "code",
   "execution_count": null,
   "id": "214cce35",
   "metadata": {},
   "outputs": [],
   "source": [
    "def score(grid):\n",
    "    grid[\"score\"] = grid[\"location\"]\n",
    "    grid.drop(columns=[\"location\"], inplace=True)\n",
    "    for k in failcity_data.keys():\n",
    "        mode = 1 if k in positive else -1\n",
    "        grid[\"score\"] += mode*grid[k]\n",
    "        grid.drop(columns=[k], inplace=True)"
   ]
  },
  {
   "cell_type": "markdown",
   "id": "049cdeb1",
   "metadata": {},
   "source": [
    "밀도 계산후 열로 추가"
   ]
  },
  {
   "cell_type": "code",
   "execution_count": null,
   "id": "9bc5751a",
   "metadata": {
    "scrolled": true
   },
   "outputs": [],
   "source": [
    "for k in police.keys():\n",
    "    insert_facility(police_grid[k], set_data(police[k]))\n",
    "police_grid"
   ]
  },
  {
   "cell_type": "markdown",
   "id": "b645ed85",
   "metadata": {},
   "source": [
    "점수 계산후 위경도, 점수 열만 남기기"
   ]
  },
  {
   "cell_type": "code",
   "execution_count": null,
   "id": "a6a146e3",
   "metadata": {},
   "outputs": [],
   "source": [
    "for v in police_grid.values():\n",
    "    score(v)\n",
    "police_grid"
   ]
  },
  {
   "cell_type": "markdown",
   "id": "eb89775c",
   "metadata": {},
   "source": [
    "# 지도에 시각화"
   ]
  },
  {
   "cell_type": "markdown",
   "id": "b16769f1",
   "metadata": {},
   "source": [
    "지도에 해당 위도경도에 위치한 점 찍기"
   ]
  },
  {
   "cell_type": "code",
   "execution_count": null,
   "id": "d765ca51",
   "metadata": {},
   "outputs": [],
   "source": [
    "def draw_marker(m, grid, color):\n",
    "    color = \"#\" + color\n",
    "    for i in grid[[\"위도\",\"경도\"]].values:\n",
    "        folium.Circle(location=i, radius=2, color=color, fill_color=color).add_to(m)"
   ]
  },
  {
   "cell_type": "markdown",
   "id": "06b404c1",
   "metadata": {},
   "source": [
    "시각화를 위해 점수를 -255(초록)~255(빨강)으로 변환\n",
    "\n",
    "변환후 rgb코드에 맞게 문자열 생성 안전->초록, 위험->빨강"
   ]
  },
  {
   "cell_type": "code",
   "execution_count": null,
   "id": "e603faa6",
   "metadata": {},
   "outputs": [],
   "source": [
    "def colorstr(num):\n",
    "    b = num>=0\n",
    "    num=hex(int(255-abs(num)))[2:]\n",
    "    if len(num)==1:\n",
    "        num=\"0\"+num\n",
    "    return \"#ff\"+num*2 if b else \"#\"+num+\"ff\"+num"
   ]
  },
  {
   "cell_type": "code",
   "execution_count": null,
   "id": "329fb327",
   "metadata": {},
   "outputs": [],
   "source": [
    "def score_to_color(grid):\n",
    "    result = grid[\"score\"].copy()\n",
    "    mins = result.min()\n",
    "    maxs = result.max()\n",
    "    result = ((result - mins) / (maxs - mins) * 2 - 1) * 255\n",
    "    result = result.apply(colorstr)\n",
    "    return result"
   ]
  },
  {
   "cell_type": "markdown",
   "id": "9ecbf7d0",
   "metadata": {},
   "source": [
    "격자점 점수 시각화"
   ]
  },
  {
   "cell_type": "code",
   "execution_count": null,
   "id": "f7518f3e",
   "metadata": {},
   "outputs": [],
   "source": [
    "def draw_score(m, grid, color):\n",
    "    for i in grid.index:\n",
    "        folium.Circle(location=grid.iloc[i,:2].values,\n",
    "                      radius=GRID_DIFF/2,\n",
    "                      color=color[i],\n",
    "                      fill=True,\n",
    "                      fill_color=color[i]).add_to(m)"
   ]
  },
  {
   "cell_type": "markdown",
   "id": "d55380ee",
   "metadata": {},
   "source": [
    "지도객체 생성 , 이름 붙이기"
   ]
  },
  {
   "cell_type": "code",
   "execution_count": null,
   "id": "7dccb556",
   "metadata": {},
   "outputs": [],
   "source": [
    "m = {k: folium.Map(location = v, zoom_start=60) for k,v in police.items()}\n",
    "\n",
    "for k, v in m.items():\n",
    "    title_html = f'<h3 align=\"center\" style=\"font-size:30px\"><b>{k}</b></h3>'\n",
    "    v.get_root().html.add_child(folium.Element(title_html))"
   ]
  },
  {
   "cell_type": "markdown",
   "id": "aca879aa",
   "metadata": {},
   "source": [
    "경찰서, 격자점, 모든 시설물 표시"
   ]
  },
  {
   "cell_type": "code",
   "execution_count": null,
   "id": "462a6d57",
   "metadata": {},
   "outputs": [],
   "source": [
    "for k, v in m.items():\n",
    "    folium.Marker(location=police[k], \n",
    "                  popup=k,\n",
    "                  icon=folium.Icon(color='lightblue', icon='star') ).add_to(v)\n",
    "\n",
    "failcity_data_color = {\"ansim\" : '0000ff',\n",
    "                       \"cctv\"  : '00ffff',\n",
    "                       \"light\" : 'ffff00',\n",
    "                       \"salon\" : 'ff00ff'}\n",
    "\n",
    "for k in police.keys():\n",
    "    draw_marker(m[k], police_grid[k], '000000')\n",
    "    \n",
    "for pk, pv in police.items():\n",
    "    for fk, fv in set_data(pv):\n",
    "        draw_marker(m[k], fv, failcity_data_color[fk])"
   ]
  },
  {
   "cell_type": "markdown",
   "id": "33313913",
   "metadata": {},
   "source": [
    "점수 시각화"
   ]
  },
  {
   "cell_type": "code",
   "execution_count": null,
   "id": "7c224688",
   "metadata": {},
   "outputs": [],
   "source": [
    "for k in police.keys():\n",
    "    draw_score(m[k],\n",
    "               police_grid[k],\n",
    "               score_to_color(police_grid[k]))\n",
    "    display(m[k])"
   ]
  },
  {
   "cell_type": "code",
   "execution_count": null,
   "id": "25366af7",
   "metadata": {},
   "outputs": [],
   "source": []
  },
  {
   "cell_type": "code",
   "execution_count": null,
   "id": "fa10cdd6",
   "metadata": {},
   "outputs": [],
   "source": []
  }
 ],
 "metadata": {
  "kernelspec": {
   "display_name": "Python 3 (ipykernel)",
   "language": "python",
   "name": "python3"
  },
  "language_info": {
   "codemirror_mode": {
    "name": "ipython",
    "version": 3
   },
   "file_extension": ".py",
   "mimetype": "text/x-python",
   "name": "python",
   "nbconvert_exporter": "python",
   "pygments_lexer": "ipython3",
   "version": "3.11.5"
  }
 },
 "nbformat": 4,
 "nbformat_minor": 5
}
