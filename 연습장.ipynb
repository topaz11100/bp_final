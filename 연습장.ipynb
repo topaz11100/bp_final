{
 "cells": [
  {
   "cell_type": "code",
   "execution_count": null,
   "id": "0f305017",
   "metadata": {},
   "outputs": [],
   "source": [
    "import numpy as np\n",
    "import pandas as pd\n",
    "import matplotlib.pyplot as plt\n",
    "import seaborn as sns\n",
    "import folium\n",
    "from selenium import webdriver as wb\n",
    "from selenium.webdriver.common.keys import Keys\n",
    "from selenium.webdriver.common.by import By\n",
    "from selenium.common.exceptions import NoSuchElementException\n",
    "import time"
   ]
  },
  {
   "cell_type": "code",
   "execution_count": null,
   "id": "c8b6dcdf",
   "metadata": {},
   "outputs": [],
   "source": [
    "import pandas as pd\n",
    "import numpy as np\n",
    "\n",
    "# 예제 데이터프레임 생성\n",
    "df = pd.DataFrame({\n",
    "    'A': [1, 2, 3],\n",
    "    'B': [4, 5, 6]\n",
    "})\n",
    "\n",
    "# 추가할 배열 생성 (각 원소가 배열인 리스트)\n",
    "new_column = [[1,2],[3,4],[5,6]]\n",
    "\n",
    "# 새로운 열 'C'를 추가하고 배열을 설정\n",
    "df['C'] = new_column\n",
    "for i in df.loc[0,\"C\"]:\n",
    "    print(i)"
   ]
  },
  {
   "cell_type": "code",
   "execution_count": null,
   "id": "2431ab11",
   "metadata": {},
   "outputs": [],
   "source": [
    "a=pd.DataFrame([[1,2,3],[4,5,6]])\n",
    "a.index()"
   ]
  },
  {
   "cell_type": "code",
   "execution_count": null,
   "id": "9a22dd9c",
   "metadata": {},
   "outputs": [],
   "source": [
    "df = pd.DataFrame({\n",
    "    'A': ['foo', 'bar', 'baz'],\n",
    "    'B': ['one', 'two', 'three'],\n",
    "    'C': [1, 2, 3]\n",
    "})\n",
    "\n",
    "\n",
    "\n",
    "df.index=['a','q','w']\n",
    "df.loc['w','B']"
   ]
  },
  {
   "cell_type": "code",
   "execution_count": null,
   "id": "17338fa7",
   "metadata": {},
   "outputs": [],
   "source": [
    "NS_DIFF_1M = 0.000007\n",
    "EW_DIFF_1M = 0.000009\n",
    "PATROL_HR = 900\n",
    "GRID_DIFF = 90\n",
    "data_path = \"data/\"\n",
    "encoding = \"utf-8-sig\"\n",
    "#상계1\n",
    "police = np.array([37.679699, 127.055066])"
   ]
  },
  {
   "cell_type": "code",
   "execution_count": null,
   "id": "08da394f",
   "metadata": {},
   "outputs": [],
   "source": [
    "def filtering(police, grid):\n",
    "    ft = (grid - police).copy()\n",
    "    ft[:,0] /= NS_DIFF_1M\n",
    "    ft[:,1] /= EW_DIFF_1M\n",
    "    ft = np.sqrt( np.sum( np.square(ft), axis=1 ))\n",
    "    grid = grid[ft <= PATROL_HR + 10, :]\n",
    "    return grid"
   ]
  },
  {
   "cell_type": "code",
   "execution_count": null,
   "id": "fc5183ad",
   "metadata": {},
   "outputs": [],
   "source": [
    "def grids(police):\n",
    "    hcount = PATROL_HR//GRID_DIFF\n",
    "    ew = np.arange(-hcount, hcount + 1, dtype=np.float64)\n",
    "    ns = ew.reshape(-1,1).copy()\n",
    "    ew *= EW_DIFF_1M * GRID_DIFF\n",
    "    ns *= NS_DIFF_1M * GRID_DIFF\n",
    "    \n",
    "    result = np.full((2*hcount+1, 2*hcount+1, 2), police, dtype=np.float64)\n",
    "    result[:,:,0] += ns\n",
    "    result[:,:,1] += ew\n",
    "    \n",
    "    return filtering(police, result.reshape(-1,2))"
   ]
  },
  {
   "cell_type": "code",
   "execution_count": null,
   "id": "b87bae2a",
   "metadata": {},
   "outputs": [],
   "source": [
    "def draw_marker(m, grid):\n",
    "    for i in grid:\n",
    "        folium.CircleMarker(location=i, radius=10, color='#000000').add_to(m)"
   ]
  },
  {
   "cell_type": "code",
   "execution_count": null,
   "id": "c10278cb",
   "metadata": {},
   "outputs": [],
   "source": [
    "m = folium.Map(location = police, zoom_start=60)\n",
    "folium.Marker(location=police, \n",
    "              popup='지구대',\n",
    "              icon=folium.Icon(color='lightblue', icon='star')\n",
    ").add_to(m)"
   ]
  },
  {
   "cell_type": "code",
   "execution_count": null,
   "id": "197b37a3",
   "metadata": {},
   "outputs": [],
   "source": [
    "police_grid = grids(police)\n",
    "draw_marker(m, police_grid)"
   ]
  },
  {
   "cell_type": "code",
   "execution_count": null,
   "id": "a85717ec",
   "metadata": {},
   "outputs": [],
   "source": [
    "m"
   ]
  },
  {
   "cell_type": "code",
   "execution_count": null,
   "id": "ab696977",
   "metadata": {},
   "outputs": [],
   "source": [
    "#police_grid_data = pd.DataFrame(police_grid, columns=[\"위도\", \"경도\"])\n",
    "#police_grid_data.to_csv(\"상계1위경도.csv\", index=False, encoding=encoding)"
   ]
  },
  {
   "cell_type": "code",
   "execution_count": null,
   "id": "58a59b5c",
   "metadata": {},
   "outputs": [],
   "source": [
    "police_grid_data=pd.read_csv(data_path+\"상계1주소.csv\", encoding=encoding)\n",
    "police_grid_data[\"유형\"] = None\n",
    "police_grid_data"
   ]
  },
  {
   "cell_type": "code",
   "execution_count": null,
   "id": "7d30f9c0",
   "metadata": {},
   "outputs": [],
   "source": [
    "DELAY_TIME = 1\n",
    "map_url = \"https://map.kakao.com/\""
   ]
  },
  {
   "cell_type": "code",
   "execution_count": null,
   "id": "178b53bc",
   "metadata": {},
   "outputs": [],
   "source": [
    "def openweb(mode=\"window\"):\n",
    "    if mode == \"no\":\n",
    "        options = wb.ChromeOptions()\n",
    "        options.add_argument('headless')\n",
    "        driver = wb.Chrome(options=options)\n",
    "    else:\n",
    "        driver = wb.Chrome()\n",
    "    driver.get(map_url)\n",
    "    time.sleep(DELAY_TIME)\n",
    "    return driver"
   ]
  },
  {
   "cell_type": "code",
   "execution_count": null,
   "id": "09cf1991",
   "metadata": {},
   "outputs": [],
   "source": [
    "def search(browser, address):\n",
    "    search_box = browser.find_element(By.ID, \"search.keyword.query\")\n",
    "    while search_box.get_attribute(\"value\"):\n",
    "        search_box.send_keys(Keys.CONTROL, 'a')\n",
    "        search_box.send_keys(Keys.BACKSPACE)\n",
    "    search_box.send_keys(address)\n",
    "    search_box.send_keys(Keys.RETURN)\n",
    "    time.sleep(DELAY_TIME)"
   ]
  },
  {
   "cell_type": "code",
   "execution_count": null,
   "id": "cea51458",
   "metadata": {},
   "outputs": [],
   "source": [
    "def find_postage(browser, num_addr):\n",
    "    if \"산\" in num_addr:\n",
    "        return \"nozip\"\n",
    "    search(browser, num_addr)\n",
    "    try:\n",
    "        postage = browser.find_element(By.CLASS_NAME, \"zip\")\n",
    "    except NoSuchElementException:\n",
    "        return \"nozip\"\n",
    "    else:\n",
    "        return postage.text\n",
    "    \n",
    "def find_build_name(browser, road_addr, num_addr):\n",
    "    search(browser, road_addr)\n",
    "    try:\n",
    "        buildname = browser.find_element(By.CLASS_NAME, \"building\")\n",
    "    except NoSuchElementException:\n",
    "        return find_postage(browser, num_addr)\n",
    "    else:\n",
    "        return buildname.text"
   ]
  },
  {
   "cell_type": "code",
   "execution_count": null,
   "id": "3e73434f",
   "metadata": {},
   "outputs": [],
   "source": [
    "#browser = openweb(\"no\")"
   ]
  },
  {
   "cell_type": "code",
   "execution_count": null,
   "id": "bbe44e4a",
   "metadata": {},
   "outputs": [],
   "source": [
    "#for i in police_grid_data.index:\n",
    "    #police_grid_data.iloc[i, 4] = find_build_name(browser, police_grid_data.iloc[i, 3], police_grid_data.iloc[i, 2])"
   ]
  },
  {
   "cell_type": "code",
   "execution_count": null,
   "id": "44b9a956",
   "metadata": {},
   "outputs": [],
   "source": [
    "#police_grid_data.to_csv(data_path+\"유형.csv\",encoding=encoding)"
   ]
  },
  {
   "cell_type": "code",
   "execution_count": null,
   "id": "b706f86f",
   "metadata": {},
   "outputs": [],
   "source": [
    "import pandas as pd\n",
    "\n",
    "# 데이터를 담은 리스트\n",
    "data = [[1, 1], [1, 2], [1, 3]]\n",
    "\n",
    "# 인덱스를 튜플로 구성하여 MultiIndex 생성\n",
    "index = pd.MultiIndex.from_tuples([(1, 1), (1, 2), (1, 3)], names=['outer', 'inner'])\n",
    "\n",
    "# 데이터프레임 생성\n",
    "df = pd.DataFrame(data, index=index, columns=['A', 'B'])\n",
    "\n",
    "# 결과 출력\n",
    "df"
   ]
  },
  {
   "cell_type": "code",
   "execution_count": null,
   "id": "6277ddae",
   "metadata": {},
   "outputs": [],
   "source": [
    "import pandas as pd\n",
    "\n",
    "# 기존의 DataFrame\n",
    "df = pd.DataFrame({'A': [1, 2, 3], 'B': [4, 5, 6]}, index=['1', '2', '3'])\n",
    "\n",
    "# MultiIndex 생성\n",
    "multi_index = pd.MultiIndex.from_tuples([(1, 1), (1, 2), (1, 3)], names=['outer', 'inner'])\n",
    "\n",
    "# MultiIndex를 지정하여 데이터 추가\n",
    "df = pd.DataFrame([[1], [2], [3]], index=multi_index, columns=['C']).combine_first(df)\n",
    "\n",
    "# 결과 출력\n",
    "df"
   ]
  },
  {
   "cell_type": "code",
   "execution_count": null,
   "id": "50e0d88d",
   "metadata": {},
   "outputs": [],
   "source": [
    "import pandas as pd\n",
    "\n",
    "# 기존의 DataFrame\n",
    "df = pd.DataFrame({'A': [1, 2, 3], 'B': [4, 5, 6]}, index=['1', '2', '3'])\n",
    "\n",
    "# MultiIndex 생성\n",
    "multi_index = pd.MultiIndex.from_tuples([(1, 1), (1, 2), (1, 3)], names=['outer', 'inner'])\n",
    "\n",
    "# 기존 DataFrame의 인덱스를 MultiIndex로 변환\n",
    "df.index = pd.MultiIndex.from_tuples([(i,) for i in df.index], names=['outer'])\n",
    "\n",
    "# 새로운 DataFrame 생성\n",
    "new_df = pd.DataFrame([[1], [2], [3]], index=multi_index, columns=['C'])\n",
    "\n",
    "# 기존 DataFrame과 새로운 DataFrame 결합\n",
    "result_df = new_df.combine_first(df)\n",
    "\n",
    "# 결과 출력\n",
    "result_df"
   ]
  },
  {
   "cell_type": "code",
   "execution_count": null,
   "id": "686a60c7",
   "metadata": {},
   "outputs": [],
   "source": [
    "import numpy as np\n",
    "import pandas as pd\n",
    "a=pd.DataFrame([1,2])\n",
    "print(a)\n",
    "a.iloc[0,1]"
   ]
  },
  {
   "cell_type": "code",
   "execution_count": null,
   "id": "e41d0f1a",
   "metadata": {},
   "outputs": [],
   "source": [
    "a[[\"v\",\"b\"]]"
   ]
  },
  {
   "cell_type": "code",
   "execution_count": null,
   "id": "2faab9ca",
   "metadata": {},
   "outputs": [],
   "source": [
    "b=np.array([[0,0,0],[0,0,0]])\n",
    "b"
   ]
  },
  {
   "cell_type": "code",
   "execution_count": null,
   "id": "fea66f31",
   "metadata": {},
   "outputs": [],
   "source": [
    "b+a.values"
   ]
  },
  {
   "cell_type": "code",
   "execution_count": null,
   "id": "6a3338c0",
   "metadata": {},
   "outputs": [],
   "source": [
    "v=pd.DataFrame([[1,2,3],[4,5,6]])\n",
    "v+(b+a)"
   ]
  },
  {
   "cell_type": "code",
   "execution_count": null,
   "id": "30ae8ce5",
   "metadata": {},
   "outputs": [],
   "source": [
    "def filtering(police, data):\n",
    "    ft = (data - police).copy()\n",
    "    ft[:,0] /= NS_DIFF_1M\n",
    "    ft[:,1] /= EW_DIFF_1M\n",
    "    ft = np.sqrt( np.sum( np.square(ft), axis=1 ))\n",
    "    data = data[ft < PATROL_HR + GRID_DIFF/2, :]\n",
    "    return data"
   ]
  }
 ],
 "metadata": {
  "kernelspec": {
   "display_name": "Python 3 (ipykernel)",
   "language": "python",
   "name": "python3"
  },
  "language_info": {
   "codemirror_mode": {
    "name": "ipython",
    "version": 3
   },
   "file_extension": ".py",
   "mimetype": "text/x-python",
   "name": "python",
   "nbconvert_exporter": "python",
   "pygments_lexer": "ipython3",
   "version": "3.11.5"
  }
 },
 "nbformat": 4,
 "nbformat_minor": 5
}
