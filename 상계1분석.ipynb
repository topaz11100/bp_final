{
 "cells": [
  {
   "cell_type": "markdown",
   "id": "33da0036",
   "metadata": {},
   "source": [
    "# 빅프9조\n",
    "\n",
    "분석방법\n",
    "순찰 영역은 원형이지만 격자점 내부에서는 분석을 정사각형으로 함"
   ]
  },
  {
   "cell_type": "markdown",
   "id": "631a37ef",
   "metadata": {},
   "source": [
    "# 기본 설정"
   ]
  },
  {
   "cell_type": "markdown",
   "id": "1d1ea40d",
   "metadata": {},
   "source": [
    " 필수 라이브러리 import"
   ]
  },
  {
   "cell_type": "code",
   "execution_count": null,
   "id": "0f305017",
   "metadata": {},
   "outputs": [],
   "source": [
    "import numpy as np\n",
    "import pandas as pd\n",
    "\n",
    "from selenium import webdriver as wb\n",
    "from selenium.webdriver.common.keys import Keys\n",
    "from selenium.webdriver.common.by import By\n",
    "from selenium.common.exceptions import NoSuchElementException\n",
    "import time\n",
    "\n",
    "import folium\n",
    "from IPython.display import display, HTML"
   ]
  },
  {
   "cell_type": "markdown",
   "id": "e76125d3",
   "metadata": {},
   "source": [
    "파일경로, csv인코딩 설정"
   ]
  },
  {
   "cell_type": "code",
   "execution_count": null,
   "id": "4eee988f",
   "metadata": {},
   "outputs": [],
   "source": [
    "data_path = \"전처리완료데이터/\"\n",
    "raw_path = \"전처리필요데이터/\"\n",
    "encoding = \"cp949\"\n",
    "extension = \".csv\""
   ]
  },
  {
   "cell_type": "markdown",
   "id": "86b420fc",
   "metadata": {},
   "source": [
    "경찰서 목록"
   ]
  },
  {
   "cell_type": "code",
   "execution_count": null,
   "id": "e938d755",
   "metadata": {},
   "outputs": [],
   "source": [
    "police = np.array([37.679699, 127.055066], dtype=np.float64)"
   ]
  },
  {
   "cell_type": "markdown",
   "id": "187dcb7c",
   "metadata": {},
   "source": [
    "격자점 생성에 필요한 상수 선언"
   ]
  },
  {
   "cell_type": "code",
   "execution_count": null,
   "id": "17338fa7",
   "metadata": {},
   "outputs": [],
   "source": [
    "NS_DIFF_1M = 0.000007\n",
    "EW_DIFF_1M = 0.000009\n",
    "PATROL_HR = 900\n",
    "GRID_DIFF = 90"
   ]
  },
  {
   "cell_type": "markdown",
   "id": "2647593b",
   "metadata": {},
   "source": [
    "### 데이터를 순찰 반경 안의 것만 잘라내는 함수"
   ]
  },
  {
   "cell_type": "code",
   "execution_count": null,
   "id": "98b74d92",
   "metadata": {},
   "outputs": [],
   "source": [
    "def filtering(data, police, mode = \"시설\"):\n",
    "    distance = PATROL_HR + GRID_DIFF/2 + 5 if mode == \"시설\" else PATROL_HR + 10 \n",
    "    ft = (data[[\"위도\", \"경도\"]] - police).copy()\n",
    "    ft.loc[:, \"위도\"] /= NS_DIFF_1M\n",
    "    ft.loc[:, \"경도\"] /= EW_DIFF_1M\n",
    "    ft = np.sqrt( np.sum( np.square(ft), axis=1 ))\n",
    "    return data.loc[ft <= distance, :].reset_index(drop=True)"
   ]
  },
  {
   "cell_type": "markdown",
   "id": "9122b36e",
   "metadata": {},
   "source": [
    "# 기본 격자점 생성"
   ]
  },
  {
   "cell_type": "markdown",
   "id": "efb869ea",
   "metadata": {},
   "source": [
    "기본 격자점 반환함수"
   ]
  },
  {
   "cell_type": "code",
   "execution_count": null,
   "id": "7ec48f05",
   "metadata": {},
   "outputs": [],
   "source": [
    "def grids(police):\n",
    "    hcount = PATROL_HR//GRID_DIFF\n",
    "    ew = np.arange(-hcount, hcount + 1, dtype=np.float64)\n",
    "    ns = ew.reshape(-1,1).copy()\n",
    "    ew *= EW_DIFF_1M * GRID_DIFF\n",
    "    ns *= NS_DIFF_1M * GRID_DIFF\n",
    "    \n",
    "    result = np.full((2*hcount+1, 2*hcount+1, 2), police, dtype=np.float64)\n",
    "    result[:,:,0] += ns\n",
    "    result[:,:,1] += ew\n",
    "    \n",
    "    return pd.DataFrame(result.reshape(-1,2), columns=[\"위도\", \"경도\"])"
   ]
  },
  {
   "cell_type": "markdown",
   "id": "fa8b6b16",
   "metadata": {},
   "source": [
    "원형 격자점 생성"
   ]
  },
  {
   "cell_type": "code",
   "execution_count": null,
   "id": "b9579c29",
   "metadata": {},
   "outputs": [],
   "source": [
    "police_grid = grids(police)\n",
    "police_grid = filtering(police_grid, police, \"격자\")\n",
    "police_grid"
   ]
  },
  {
   "cell_type": "markdown",
   "id": "19658d95",
   "metadata": {},
   "source": [
    "# 장소별 범죄 발생 확률 이용"
   ]
  },
  {
   "cell_type": "markdown",
   "id": "a02458cf",
   "metadata": {},
   "source": [
    "### 샘플링"
   ]
  },
  {
   "cell_type": "markdown",
   "id": "c726cd60",
   "metadata": {},
   "source": [
    "뽑을 개수 (5개)"
   ]
  },
  {
   "cell_type": "code",
   "execution_count": null,
   "id": "50a8cf51",
   "metadata": {},
   "outputs": [],
   "source": [
    "SAMPLING = 5"
   ]
  },
  {
   "cell_type": "markdown",
   "id": "d13f0858",
   "metadata": {},
   "source": [
    "격자점 범위 내에서 무작위로 5개 점 추가"
   ]
  },
  {
   "cell_type": "code",
   "execution_count": null,
   "id": "3b9087ee",
   "metadata": {},
   "outputs": [],
   "source": [
    "def sampled_grids(grid):\n",
    "    interval_size = SAMPLING+1\n",
    "    result = np.zeros((grid.shape[0]*interval_size, 2), dtype=np.float64)\n",
    "    for i in range(0, result.shape[0], interval_size):\n",
    "        ran = np.zeros((interval_size, 2), dtype=np.float64)\n",
    "        ran[1:] = np.random.uniform(-1, 1, (interval_size-1, 2))\n",
    "        ran[:, 0] *= (GRID_DIFF/2)*NS_DIFF_1M\n",
    "        ran[:, 1] *= (GRID_DIFF/2)*EW_DIFF_1M\n",
    "        ran += grid.values[i//interval_size]\n",
    "        result[i:i+interval_size] += ran\n",
    "    return pd.DataFrame(result, columns = [\"위도\", \"경도\"])"
   ]
  },
  {
   "cell_type": "markdown",
   "id": "85584c51",
   "metadata": {},
   "source": [
    "추가한 데이터 csv내보내기"
   ]
  },
  {
   "cell_type": "code",
   "execution_count": null,
   "id": "37a9a300",
   "metadata": {
    "scrolled": true
   },
   "outputs": [],
   "source": [
    "police_sampled = sampled_grids(police_grid)\n",
    "police_sampled"
   ]
  },
  {
   "cell_type": "code",
   "execution_count": null,
   "id": "01e332b9",
   "metadata": {},
   "outputs": [],
   "source": [
    "#police_sampled.to_csv(raw_path + \"sampled_grid\" + extension, index=False, encoding=encoding)"
   ]
  },
  {
   "cell_type": "markdown",
   "id": "a8c245c6",
   "metadata": {},
   "source": [
    "### 주소로 변환\n",
    "\n",
    "https://www.geoservice.co.kr/\n",
    "\n",
    "내보낸 csv 파일 이용, 위 링크에서 역지오코딩, 주소얻기"
   ]
  },
  {
   "cell_type": "markdown",
   "id": "019459eb",
   "metadata": {},
   "source": [
    "주소 기본 데이터 생성"
   ]
  },
  {
   "cell_type": "code",
   "execution_count": null,
   "id": "fca17acd",
   "metadata": {},
   "outputs": [],
   "source": [
    "def addr_data(file_path):\n",
    "    data=pd.read_csv(file_path)\n",
    "    data[\"이름\"] = None\n",
    "    data[\"확률\"] = None\n",
    "    data[\"index\"]=[i//(SAMPLING+1) for i in range(data.shape[0])]\n",
    "    return data"
   ]
  },
  {
   "cell_type": "code",
   "execution_count": null,
   "id": "c44c7214",
   "metadata": {},
   "outputs": [],
   "source": [
    "police_addr = addr_data(data_path + \"sampled_addr.csv\")\n",
    "police_addr"
   ]
  },
  {
   "cell_type": "markdown",
   "id": "3424db8f",
   "metadata": {},
   "source": [
    "# 건물 이름 크롤링"
   ]
  },
  {
   "cell_type": "markdown",
   "id": "15aba94d",
   "metadata": {},
   "source": [
    "지연 시간(1초), 웹 지도 url(카카오맵) 설정"
   ]
  },
  {
   "cell_type": "code",
   "execution_count": null,
   "id": "a84b5530",
   "metadata": {},
   "outputs": [],
   "source": [
    "DELAY_TIME = 0.5\n",
    "map_url = \"https://map.kakao.com/\""
   ]
  },
  {
   "cell_type": "markdown",
   "id": "166dafd0",
   "metadata": {},
   "source": [
    "브라우저 드라이버 반환(no 전달시 창 안뜸)"
   ]
  },
  {
   "cell_type": "code",
   "execution_count": null,
   "id": "2adf907b",
   "metadata": {},
   "outputs": [],
   "source": [
    "def openweb(mode=\"window\"):\n",
    "    if mode == \"no\":\n",
    "        options = wb.ChromeOptions()\n",
    "        options.add_argument('headless')\n",
    "        driver = wb.Chrome(options=options)\n",
    "    else:\n",
    "        driver = wb.Chrome()\n",
    "    driver.get(map_url)\n",
    "    time.sleep(DELAY_TIME)\n",
    "    return driver"
   ]
  },
  {
   "cell_type": "markdown",
   "id": "72d94555",
   "metadata": {},
   "source": [
    "검색어 입력 후 실행"
   ]
  },
  {
   "cell_type": "code",
   "execution_count": null,
   "id": "8f7a2241",
   "metadata": {},
   "outputs": [],
   "source": [
    "def search(browser, address):\n",
    "    search_box = browser.find_element(By.ID, \"search.keyword.query\")\n",
    "    while search_box.get_attribute(\"value\"):\n",
    "        search_box.send_keys(Keys.CONTROL, 'a')\n",
    "        search_box.send_keys(Keys.BACKSPACE)\n",
    "    search_box.send_keys(address)\n",
    "    search_box.send_keys(Keys.RETURN)\n",
    "    time.sleep(DELAY_TIME)"
   ]
  },
  {
   "cell_type": "markdown",
   "id": "85d0522b",
   "metadata": {},
   "source": [
    "### 크롤링 함수\n",
    "\n",
    "도로나 강 야외의 경우 지번주소는 있지만 우편번호가 없다\n",
    "\n",
    "지번주소 먼저 검색 -> 야외 분류\n",
    "\n",
    "우편번호 있으면 -> 도로명주소 검색\n",
    "\n",
    "건물이름 뜨면 -> 이름 반환\n",
    "\n",
    "안뜨면 -> 우편번호 반환"
   ]
  },
  {
   "cell_type": "code",
   "execution_count": null,
   "id": "be4737e5",
   "metadata": {},
   "outputs": [],
   "source": [
    "def find_name(browser, addr, road_addr):\n",
    "    if \"산\" in addr:\n",
    "        return \"산\"\n",
    "    if \"지하\" in road_addr:\n",
    "        return \"지하철\"\n",
    "    search(browser, addr)\n",
    "    try:\n",
    "        postage = browser.find_element(By.CLASS_NAME, \"zip\")\n",
    "    except NoSuchElementException:\n",
    "        return \"nozip\"\n",
    "    else:\n",
    "        postnum = postage.text\n",
    "        search(browser, road_addr)\n",
    "        try:\n",
    "            buildname = browser.find_element(By.CLASS_NAME, \"building\")\n",
    "        except NoSuchElementException:\n",
    "            return postnum\n",
    "        else:\n",
    "            return buildname.text"
   ]
  },
  {
   "cell_type": "markdown",
   "id": "cfa4a466",
   "metadata": {},
   "source": [
    "주소 전부 검색 후 csv로 내보내기"
   ]
  },
  {
   "cell_type": "code",
   "execution_count": null,
   "id": "672635dd",
   "metadata": {},
   "outputs": [],
   "source": [
    "def search_to_csv(browser, data, file_path):\n",
    "    for i in range(len(data.index)):\n",
    "        data.iloc[i, 4] = find_name(browser, data.iloc[i, 2], data.iloc[i, 3])\n",
    "    data.to_csv(file_path, index=False, encoding=encoding)"
   ]
  },
  {
   "cell_type": "code",
   "execution_count": null,
   "id": "1c1e5319",
   "metadata": {},
   "outputs": [],
   "source": [
    "#browser = openweb(\"no\")\n",
    "#search_to_csv(browser, police_addr, data_path+\"sampled_name.csv\")"
   ]
  },
  {
   "cell_type": "markdown",
   "id": "2487d269",
   "metadata": {},
   "source": [
    "### 이름을 토대로 유형 분류, 확률 점수 부여"
   ]
  },
  {
   "cell_type": "code",
   "execution_count": null,
   "id": "17252017",
   "metadata": {},
   "outputs": [],
   "source": [
    "police_per = pd.read_csv(data_path + \"sampled_name.csv\", encoding=encoding)\n",
    "set(police_per[\"이름\"])"
   ]
  },
  {
   "cell_type": "markdown",
   "id": "8bf63ea4",
   "metadata": {},
   "source": [
    "장소 분류에 따른 범죄확률"
   ]
  },
  {
   "cell_type": "code",
   "execution_count": null,
   "id": "d89c821b",
   "metadata": {},
   "outputs": [],
   "source": [
    "crime_per = pd.read_csv(data_path+\"processed_crime.csv\", encoding=encoding)\n",
    "crime_per"
   ]
  },
  {
   "cell_type": "markdown",
   "id": "dee09179",
   "metadata": {},
   "source": [
    "분류 결과를 바탕으로 이름이 어떤유형인지 분류"
   ]
  },
  {
   "cell_type": "code",
   "execution_count": null,
   "id": "5783d18c",
   "metadata": {},
   "outputs": [],
   "source": [
    "def namespace(file_path):\n",
    "    space = dict()\n",
    "    with open(file_path, 'r', encoding='UTF8') as file:\n",
    "        for i in file:\n",
    "            temp=i.split(\" - \")\n",
    "            space[temp[0]] = temp[1].strip()\n",
    "    return space"
   ]
  },
  {
   "cell_type": "markdown",
   "id": "d962a119",
   "metadata": {},
   "source": [
    "자료에 맞춰 확률 계산후 대입"
   ]
  },
  {
   "cell_type": "code",
   "execution_count": null,
   "id": "e4dd4035",
   "metadata": {},
   "outputs": [],
   "source": [
    "def insert_percentage(file_path, addr_data):\n",
    "    space = namespace(file_path)\n",
    "    for i in space:\n",
    "        addr_data.loc[addr_data[\"이름\"]==i, \"확률\"] = crime_per.loc[0, space[i]]"
   ]
  },
  {
   "cell_type": "code",
   "execution_count": null,
   "id": "876e438a",
   "metadata": {},
   "outputs": [],
   "source": [
    "insert_percentage(data_path + \"상계1_name_category.txt\", police_per)       \n",
    "police_per"
   ]
  },
  {
   "cell_type": "markdown",
   "id": "ef7f12fb",
   "metadata": {},
   "source": [
    "동일 지역에서 샘플된 데이터끼리 확률 합 구하고 격자점 데이터에 새로운 열로 추가"
   ]
  },
  {
   "cell_type": "code",
   "execution_count": null,
   "id": "bb6ce4c2",
   "metadata": {},
   "outputs": [],
   "source": [
    "def insert_location(grid, percentage_data):\n",
    "    score = percentage_data[[\"index\", \"확률\"]].groupby(\"index\").sum()\n",
    "    grid[\"location\"] = score"
   ]
  },
  {
   "cell_type": "code",
   "execution_count": null,
   "id": "f191c7bc",
   "metadata": {},
   "outputs": [],
   "source": [
    "insert_location(police_grid, police_per)\n",
    "police_grid"
   ]
  },
  {
   "cell_type": "markdown",
   "id": "8a682f22",
   "metadata": {},
   "source": [
    "# 시설물 데이터 이용\n",
    "\n",
    "시설물 점수 기준\n",
    "\n",
    "시설물 밀도 계산 => 격자점 반경 내 개수 / 전체 범위 내 개수\n",
    "\n",
    "이때 데이터를 순찰반경에 맞게 필터링해 쓸 것이므로 전체 범위 개수는 필터링된 데이터프레임의 행 개수이다\n",
    "\n",
    "긍정적 시설(cctv 등)일 경우 밀도 뺌\n",
    "\n",
    "부정적 시설(유흥업소 등)일 경우 밀도 더함"
   ]
  },
  {
   "cell_type": "markdown",
   "id": "3942d901",
   "metadata": {},
   "source": [
    "### 데이터 준비\n",
    "\n",
    "안심시설물, cctv, 보안등 유흥업소\n",
    "\n",
    "전체데이터는 너무 많으므로 filtering() 이용\n",
    "\n",
    "긍정요소, 부정요소 정의"
   ]
  },
  {
   "cell_type": "code",
   "execution_count": null,
   "id": "6510ebe8",
   "metadata": {},
   "outputs": [],
   "source": [
    "failcity_data = {\"ansim\" : pd.read_csv(data_path+\"processed_ansim.csv\", encoding=encoding),\n",
    "                 \"cctv\"  : pd.read_csv(data_path+\"processed_cctv.csv\", encoding=encoding),\n",
    "                 \"light\" : pd.read_csv(data_path+\"processed_light.csv\", encoding=encoding),\n",
    "                 \"salon\" : pd.read_csv(data_path+\"processed_salon.csv\", encoding=encoding),}\n",
    "for k, v in failcity_data.items():\n",
    "    failcity_data[k]=filtering(v,police)\n",
    "    \n",
    "positive = [\"ansim\", \"cctv\", \"light\"]\n",
    "negative = [\"salon\"]"
   ]
  },
  {
   "cell_type": "markdown",
   "id": "a6317686",
   "metadata": {},
   "source": [
    "해당 범위 안에 목표물이 몇개 있는가?"
   ]
  },
  {
   "cell_type": "code",
   "execution_count": null,
   "id": "ad31e724",
   "metadata": {},
   "outputs": [],
   "source": [
    "def location_count(data, location):\n",
    "    ns_min = location.iloc[0] - GRID_DIFF/2*NS_DIFF_1M\n",
    "    ns_max = location.iloc[0] + GRID_DIFF/2*NS_DIFF_1M\n",
    "    ew_min = location.iloc[1] - GRID_DIFF/2*EW_DIFF_1M\n",
    "    ew_max = location.iloc[1] + GRID_DIFF/2*EW_DIFF_1M\n",
    "    return len(data.loc[(data[\"위도\"] >= ns_min)&\n",
    "                         (data[\"위도\"] <= ns_max)&\n",
    "                         (data[\"경도\"] >= ew_min)&\n",
    "                         (data[\"경도\"] <= ew_max) , :].index)"
   ]
  },
  {
   "cell_type": "markdown",
   "id": "2bd02d1b",
   "metadata": {},
   "source": [
    "격자점 데이터에 시설 밀도 열 추가하는 함수"
   ]
  },
  {
   "cell_type": "code",
   "execution_count": null,
   "id": "197c70c7",
   "metadata": {},
   "outputs": [],
   "source": [
    "def insert_facility(grid, data):\n",
    "    for k, v in data.items():\n",
    "        for i in grid.index:\n",
    "            grid.loc[i, k] = location_count(v, grid.loc[i, [\"위도\", \"경도\"]])\n",
    "        total = grid.loc[:, k].sum()\n",
    "        if total != 0:\n",
    "            grid.loc[:, k] /= grid.loc[:, k].sum()\n",
    "        else:\n",
    "            grid.loc[:, k] = 0"
   ]
  },
  {
   "cell_type": "markdown",
   "id": "71acc5df",
   "metadata": {},
   "source": [
    "밀도를 토대로 점수 계산"
   ]
  },
  {
   "cell_type": "code",
   "execution_count": null,
   "id": "214cce35",
   "metadata": {},
   "outputs": [],
   "source": [
    "def score(grid):\n",
    "    grid[\"score\"] = grid[\"location\"]\n",
    "    grid.drop(columns=[\"location\"], inplace=True)\n",
    "    for k in failcity_data.keys():\n",
    "        mode = 1 if k in positive else -1\n",
    "        grid[\"score\"] += mode*grid[k]\n",
    "        grid.drop(columns=[k], inplace=True)"
   ]
  },
  {
   "cell_type": "markdown",
   "id": "049cdeb1",
   "metadata": {},
   "source": [
    "밀도 계산후 열로 추가"
   ]
  },
  {
   "cell_type": "code",
   "execution_count": null,
   "id": "9bc5751a",
   "metadata": {
    "scrolled": true
   },
   "outputs": [],
   "source": [
    "insert_facility(police_grid, failcity_data)\n",
    "police_grid"
   ]
  },
  {
   "cell_type": "markdown",
   "id": "b645ed85",
   "metadata": {},
   "source": [
    "점수 계산후 위경도, 점수 열만 남기기"
   ]
  },
  {
   "cell_type": "code",
   "execution_count": null,
   "id": "a6a146e3",
   "metadata": {},
   "outputs": [],
   "source": [
    "score(police_grid)\n",
    "police_grid"
   ]
  },
  {
   "cell_type": "markdown",
   "id": "eb89775c",
   "metadata": {},
   "source": [
    "# 지도에 시각화"
   ]
  },
  {
   "cell_type": "markdown",
   "id": "b16769f1",
   "metadata": {},
   "source": [
    "지도에 해당 위도경도에 위치한 점 찍기"
   ]
  },
  {
   "cell_type": "code",
   "execution_count": null,
   "id": "d765ca51",
   "metadata": {},
   "outputs": [],
   "source": [
    "def draw_marker(m, grid, color):\n",
    "    color = \"#\" + color\n",
    "    for i in grid[[\"위도\",\"경도\"]].values:\n",
    "        folium.Circle(location=i, radius=2, color=color, fill_color=color).add_to(m)"
   ]
  },
  {
   "cell_type": "markdown",
   "id": "06b404c1",
   "metadata": {},
   "source": [
    "시각화를 위해 점수를 -255(초록)~255(빨강)으로 변환\n",
    "\n",
    "변환후 rgb코드에 맞게 문자열 생성 안전->초록, 위험->빨강"
   ]
  },
  {
   "cell_type": "code",
   "execution_count": null,
   "id": "e603faa6",
   "metadata": {},
   "outputs": [],
   "source": [
    "def colorstr(num):\n",
    "    b = num>=0\n",
    "    num=hex(int(255-abs(num)))[2:]\n",
    "    if len(num)==1:\n",
    "        num=\"0\"+num\n",
    "    return \"#ff\"+num*2 if b else \"#\"+num+\"ff\"+num"
   ]
  },
  {
   "cell_type": "code",
   "execution_count": null,
   "id": "329fb327",
   "metadata": {},
   "outputs": [],
   "source": [
    "def score_to_color(grid):\n",
    "    result = grid[\"score\"].copy()\n",
    "    mins = result.min()\n",
    "    maxs = result.max()\n",
    "    result = ((result - mins) / (maxs - mins) * 2 - 1) * 255\n",
    "    result = result.apply(colorstr)\n",
    "    return result"
   ]
  },
  {
   "cell_type": "markdown",
   "id": "9ecbf7d0",
   "metadata": {},
   "source": [
    "격자점 점수 시각화"
   ]
  },
  {
   "cell_type": "code",
   "execution_count": null,
   "id": "f7518f3e",
   "metadata": {},
   "outputs": [],
   "source": [
    "def draw_score(m, grid, color):\n",
    "    for i in grid.index:\n",
    "        folium.Circle(location=grid.iloc[i,:2].values,\n",
    "                      radius=GRID_DIFF/2,\n",
    "                      color=color[i],\n",
    "                      fill=True,\n",
    "                      fill_color=color[i]).add_to(m)"
   ]
  },
  {
   "cell_type": "markdown",
   "id": "d55380ee",
   "metadata": {},
   "source": [
    "지도객체 생성, 이름 붙이기"
   ]
  },
  {
   "cell_type": "code",
   "execution_count": null,
   "id": "7dccb556",
   "metadata": {},
   "outputs": [],
   "source": [
    "m = folium.Map(location = police, zoom_start=60)\n",
    "\n",
    "name=\"상계1\"\n",
    "title_html = f'<h3 align=\"center\" style=\"font-size:20px\"><b>{name}</b></h3>'\n",
    "             \n",
    "m.get_root().html.add_child(folium.Element(title_html))"
   ]
  },
  {
   "cell_type": "markdown",
   "id": "aca879aa",
   "metadata": {},
   "source": [
    "경찰서, 격자점, 모든 시설물 표시"
   ]
  },
  {
   "cell_type": "code",
   "execution_count": null,
   "id": "462a6d57",
   "metadata": {},
   "outputs": [],
   "source": [
    "folium.Marker(location=police, \n",
    "              popup='지구대',\n",
    "              icon=folium.Icon(color='lightblue', icon='star')\n",
    ").add_to(m)\n",
    "\n",
    "failcity_data_color = {\"ansim\" : '0000ff',\n",
    "                       \"cctv\"  : '00ffff',\n",
    "                       \"light\" : 'ffff00',\n",
    "                       \"salon\" : 'ff00ff'}\n",
    "\n",
    "draw_marker(m, police_grid, '000000')\n",
    "for k, v in failcity_data.items():\n",
    "    draw_marker(m, v, failcity_data_color[k])"
   ]
  },
  {
   "cell_type": "markdown",
   "id": "354d30d9",
   "metadata": {},
   "source": [
    "점수에서 색 문자열 생성"
   ]
  },
  {
   "cell_type": "code",
   "execution_count": null,
   "id": "d680e662",
   "metadata": {},
   "outputs": [],
   "source": [
    "color = score_to_color(police_grid)\n",
    "color"
   ]
  },
  {
   "cell_type": "markdown",
   "id": "33313913",
   "metadata": {},
   "source": [
    "점수 시각화"
   ]
  },
  {
   "cell_type": "code",
   "execution_count": null,
   "id": "7c224688",
   "metadata": {},
   "outputs": [],
   "source": [
    "draw_score(m, police_grid, color)\n",
    "display(m)"
   ]
  },
  {
   "cell_type": "code",
   "execution_count": null,
   "id": "25366af7",
   "metadata": {},
   "outputs": [],
   "source": []
  },
  {
   "cell_type": "code",
   "execution_count": null,
   "id": "fa10cdd6",
   "metadata": {},
   "outputs": [],
   "source": []
  }
 ],
 "metadata": {
  "kernelspec": {
   "display_name": "Python 3 (ipykernel)",
   "language": "python",
   "name": "python3"
  },
  "language_info": {
   "codemirror_mode": {
    "name": "ipython",
    "version": 3
   },
   "file_extension": ".py",
   "mimetype": "text/x-python",
   "name": "python",
   "nbconvert_exporter": "python",
   "pygments_lexer": "ipython3",
   "version": "3.11.7"
  }
 },
 "nbformat": 4,
 "nbformat_minor": 5
}
