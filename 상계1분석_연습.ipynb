{
 "cells": [
  {
   "cell_type": "markdown",
   "id": "33da0036",
   "metadata": {},
   "source": [
    "# 빅프9조\n",
    "\n",
    "분석방법\n",
    "순찰 영역은 원형이지만 격자점 내부에서는 분석을 정사각형으로 함"
   ]
  },
  {
   "cell_type": "markdown",
   "id": "631a37ef",
   "metadata": {},
   "source": [
    "# 기본 설정"
   ]
  },
  {
   "cell_type": "markdown",
   "id": "1d1ea40d",
   "metadata": {},
   "source": [
    " 필수 라이브러리 import"
   ]
  },
  {
   "cell_type": "code",
   "execution_count": 1,
   "id": "0f305017",
   "metadata": {},
   "outputs": [],
   "source": [
    "import numpy as np\n",
    "import pandas as pd\n",
    "\n",
    "from selenium import webdriver as wb\n",
    "from selenium.webdriver.common.keys import Keys\n",
    "from selenium.webdriver.common.by import By\n",
    "from selenium.common.exceptions import NoSuchElementException\n",
    "import time\n",
    "from selenium.webdriver.support.ui import WebDriverWait\n",
    "from selenium.webdriver.support import expected_conditions as EC\n",
    "\n",
    "import folium\n",
    "from sklearn.preprocessing import MinMaxScaler\n",
    "from IPython.display import display, HTML"
   ]
  },
  {
   "cell_type": "markdown",
   "id": "e76125d3",
   "metadata": {},
   "source": [
    "파일경로, csv인코딩 설정"
   ]
  },
  {
   "cell_type": "code",
   "execution_count": 2,
   "id": "4eee988f",
   "metadata": {},
   "outputs": [],
   "source": [
    "data_path = \"전처리완료데이터/\"\n",
    "raw_path = \"전처리필요데이터/\"\n",
    "encoding = \"cp949\"\n",
    "extension = \".csv\""
   ]
  },
  {
   "cell_type": "markdown",
   "id": "86b420fc",
   "metadata": {},
   "source": [
    "경찰서 목록"
   ]
  },
  {
   "cell_type": "code",
   "execution_count": 3,
   "id": "e938d755",
   "metadata": {},
   "outputs": [],
   "source": [
    "police = np.array([37.679699, 127.055066], dtype=np.float64)"
   ]
  },
  {
   "cell_type": "markdown",
   "id": "187dcb7c",
   "metadata": {},
   "source": [
    "격자점 생성에 필요한 상수 선언"
   ]
  },
  {
   "cell_type": "code",
   "execution_count": 4,
   "id": "17338fa7",
   "metadata": {},
   "outputs": [],
   "source": [
    "NS_DIFF_1M = 0.000007\n",
    "EW_DIFF_1M = 0.000009\n",
    "PATROL_HR = 900\n",
    "GRID_DIFF = 90"
   ]
  },
  {
   "cell_type": "markdown",
   "id": "2647593b",
   "metadata": {},
   "source": [
    "### 데이터를 순찰 반경 안의 것만 잘라내는 함수"
   ]
  },
  {
   "cell_type": "code",
   "execution_count": 5,
   "id": "98b74d92",
   "metadata": {},
   "outputs": [],
   "source": [
    "def filtering(data, police, mode = \"시설\"):\n",
    "    distance = PATROL_HR + GRID_DIFF/2 + 5 if mode == \"시설\" else PATROL_HR + 10 \n",
    "    ft = (data[[\"위도\", \"경도\"]] - police).copy()\n",
    "    ft.loc[:, \"위도\"] /= NS_DIFF_1M\n",
    "    ft.loc[:, \"경도\"] /= EW_DIFF_1M\n",
    "    ft = np.sqrt( np.sum( np.square(ft), axis=1 ))\n",
    "    return data.loc[ft <= distance, :].reset_index(drop=True)"
   ]
  },
  {
   "cell_type": "markdown",
   "id": "9122b36e",
   "metadata": {},
   "source": [
    "# 기본 격자점 생성"
   ]
  },
  {
   "cell_type": "markdown",
   "id": "efb869ea",
   "metadata": {},
   "source": [
    "기본 격자점 반환함수"
   ]
  },
  {
   "cell_type": "code",
   "execution_count": 6,
   "id": "7ec48f05",
   "metadata": {},
   "outputs": [],
   "source": [
    "def grids(police):\n",
    "    hcount = PATROL_HR//GRID_DIFF\n",
    "    ew = np.arange(-hcount, hcount + 1, dtype=np.float64)\n",
    "    ns = ew.reshape(-1,1).copy()\n",
    "    ew *= EW_DIFF_1M * GRID_DIFF\n",
    "    ns *= NS_DIFF_1M * GRID_DIFF\n",
    "    \n",
    "    result = np.full((2*hcount+1, 2*hcount+1, 2), police, dtype=np.float64)\n",
    "    result[:,:,0] += ns\n",
    "    result[:,:,1] += ew\n",
    "    \n",
    "    return pd.DataFrame(result.reshape(-1,2), columns=[\"위도\", \"경도\"])"
   ]
  },
  {
   "cell_type": "markdown",
   "id": "fa8b6b16",
   "metadata": {},
   "source": [
    "원형 격자점 생성"
   ]
  },
  {
   "cell_type": "code",
   "execution_count": 7,
   "id": "b9579c29",
   "metadata": {},
   "outputs": [
    {
     "data": {
      "text/html": [
       "<div>\n",
       "<style scoped>\n",
       "    .dataframe tbody tr th:only-of-type {\n",
       "        vertical-align: middle;\n",
       "    }\n",
       "\n",
       "    .dataframe tbody tr th {\n",
       "        vertical-align: top;\n",
       "    }\n",
       "\n",
       "    .dataframe thead th {\n",
       "        text-align: right;\n",
       "    }\n",
       "</style>\n",
       "<table border=\"1\" class=\"dataframe\">\n",
       "  <thead>\n",
       "    <tr style=\"text-align: right;\">\n",
       "      <th></th>\n",
       "      <th>위도</th>\n",
       "      <th>경도</th>\n",
       "    </tr>\n",
       "  </thead>\n",
       "  <tbody>\n",
       "    <tr>\n",
       "      <th>0</th>\n",
       "      <td>37.673399</td>\n",
       "      <td>127.054256</td>\n",
       "    </tr>\n",
       "    <tr>\n",
       "      <th>1</th>\n",
       "      <td>37.673399</td>\n",
       "      <td>127.055066</td>\n",
       "    </tr>\n",
       "    <tr>\n",
       "      <th>2</th>\n",
       "      <td>37.673399</td>\n",
       "      <td>127.055876</td>\n",
       "    </tr>\n",
       "    <tr>\n",
       "      <th>3</th>\n",
       "      <td>37.674029</td>\n",
       "      <td>127.051826</td>\n",
       "    </tr>\n",
       "    <tr>\n",
       "      <th>4</th>\n",
       "      <td>37.674029</td>\n",
       "      <td>127.052636</td>\n",
       "    </tr>\n",
       "    <tr>\n",
       "      <th>...</th>\n",
       "      <td>...</td>\n",
       "      <td>...</td>\n",
       "    </tr>\n",
       "    <tr>\n",
       "      <th>320</th>\n",
       "      <td>37.685369</td>\n",
       "      <td>127.057496</td>\n",
       "    </tr>\n",
       "    <tr>\n",
       "      <th>321</th>\n",
       "      <td>37.685369</td>\n",
       "      <td>127.058306</td>\n",
       "    </tr>\n",
       "    <tr>\n",
       "      <th>322</th>\n",
       "      <td>37.685999</td>\n",
       "      <td>127.054256</td>\n",
       "    </tr>\n",
       "    <tr>\n",
       "      <th>323</th>\n",
       "      <td>37.685999</td>\n",
       "      <td>127.055066</td>\n",
       "    </tr>\n",
       "    <tr>\n",
       "      <th>324</th>\n",
       "      <td>37.685999</td>\n",
       "      <td>127.055876</td>\n",
       "    </tr>\n",
       "  </tbody>\n",
       "</table>\n",
       "<p>325 rows × 2 columns</p>\n",
       "</div>"
      ],
      "text/plain": [
       "            위도          경도\n",
       "0    37.673399  127.054256\n",
       "1    37.673399  127.055066\n",
       "2    37.673399  127.055876\n",
       "3    37.674029  127.051826\n",
       "4    37.674029  127.052636\n",
       "..         ...         ...\n",
       "320  37.685369  127.057496\n",
       "321  37.685369  127.058306\n",
       "322  37.685999  127.054256\n",
       "323  37.685999  127.055066\n",
       "324  37.685999  127.055876\n",
       "\n",
       "[325 rows x 2 columns]"
      ]
     },
     "execution_count": 7,
     "metadata": {},
     "output_type": "execute_result"
    }
   ],
   "source": [
    "police_grid = grids(police)\n",
    "police_grid = filtering(police_grid, police, \"격자\")\n",
    "police_grid"
   ]
  },
  {
   "cell_type": "markdown",
   "id": "19658d95",
   "metadata": {},
   "source": [
    "# 장소별 범죄 발생 확률 이용"
   ]
  },
  {
   "cell_type": "markdown",
   "id": "a02458cf",
   "metadata": {},
   "source": [
    "### 샘플링"
   ]
  },
  {
   "cell_type": "markdown",
   "id": "c726cd60",
   "metadata": {},
   "source": [
    "뽑을 개수 (5개)"
   ]
  },
  {
   "cell_type": "code",
   "execution_count": 8,
   "id": "50a8cf51",
   "metadata": {},
   "outputs": [],
   "source": [
    "SAMPLING = 5"
   ]
  },
  {
   "cell_type": "markdown",
   "id": "d13f0858",
   "metadata": {},
   "source": [
    "격자점 범위 내에서 무작위로 5개 점 추가"
   ]
  },
  {
   "cell_type": "code",
   "execution_count": 9,
   "id": "3b9087ee",
   "metadata": {},
   "outputs": [],
   "source": [
    "def sampled_grids(grid):\n",
    "    interval_size = SAMPLING+1\n",
    "    result = np.zeros((grid.shape[0]*interval_size, 2), dtype=np.float64)\n",
    "    for i in range(0, result.shape[0], interval_size):\n",
    "        ran = np.zeros((interval_size, 2), dtype=np.float64)\n",
    "        ran[1:] = np.random.uniform(-1, 1, (interval_size-1, 2))\n",
    "        ran[:, 0] *= (GRID_DIFF/2)*NS_DIFF_1M\n",
    "        ran[:, 1] *= (GRID_DIFF/2)*EW_DIFF_1M\n",
    "        ran += grid.values[i//interval_size]\n",
    "        result[i:i+interval_size] += ran\n",
    "    return pd.DataFrame(result, columns = [\"위도\", \"경도\"])"
   ]
  },
  {
   "cell_type": "markdown",
   "id": "85584c51",
   "metadata": {},
   "source": [
    "추가한 데이터 csv내보내기"
   ]
  },
  {
   "cell_type": "code",
   "execution_count": 10,
   "id": "37a9a300",
   "metadata": {
    "scrolled": true
   },
   "outputs": [
    {
     "data": {
      "text/html": [
       "<div>\n",
       "<style scoped>\n",
       "    .dataframe tbody tr th:only-of-type {\n",
       "        vertical-align: middle;\n",
       "    }\n",
       "\n",
       "    .dataframe tbody tr th {\n",
       "        vertical-align: top;\n",
       "    }\n",
       "\n",
       "    .dataframe thead th {\n",
       "        text-align: right;\n",
       "    }\n",
       "</style>\n",
       "<table border=\"1\" class=\"dataframe\">\n",
       "  <thead>\n",
       "    <tr style=\"text-align: right;\">\n",
       "      <th></th>\n",
       "      <th>위도</th>\n",
       "      <th>경도</th>\n",
       "    </tr>\n",
       "  </thead>\n",
       "  <tbody>\n",
       "    <tr>\n",
       "      <th>0</th>\n",
       "      <td>37.673399</td>\n",
       "      <td>127.054256</td>\n",
       "    </tr>\n",
       "    <tr>\n",
       "      <th>1</th>\n",
       "      <td>37.673120</td>\n",
       "      <td>127.054566</td>\n",
       "    </tr>\n",
       "    <tr>\n",
       "      <th>2</th>\n",
       "      <td>37.673431</td>\n",
       "      <td>127.054503</td>\n",
       "    </tr>\n",
       "    <tr>\n",
       "      <th>3</th>\n",
       "      <td>37.673477</td>\n",
       "      <td>127.054188</td>\n",
       "    </tr>\n",
       "    <tr>\n",
       "      <th>4</th>\n",
       "      <td>37.673255</td>\n",
       "      <td>127.054128</td>\n",
       "    </tr>\n",
       "    <tr>\n",
       "      <th>...</th>\n",
       "      <td>...</td>\n",
       "      <td>...</td>\n",
       "    </tr>\n",
       "    <tr>\n",
       "      <th>1945</th>\n",
       "      <td>37.686061</td>\n",
       "      <td>127.055476</td>\n",
       "    </tr>\n",
       "    <tr>\n",
       "      <th>1946</th>\n",
       "      <td>37.686120</td>\n",
       "      <td>127.055618</td>\n",
       "    </tr>\n",
       "    <tr>\n",
       "      <th>1947</th>\n",
       "      <td>37.685690</td>\n",
       "      <td>127.056009</td>\n",
       "    </tr>\n",
       "    <tr>\n",
       "      <th>1948</th>\n",
       "      <td>37.686032</td>\n",
       "      <td>127.056110</td>\n",
       "    </tr>\n",
       "    <tr>\n",
       "      <th>1949</th>\n",
       "      <td>37.686192</td>\n",
       "      <td>127.055587</td>\n",
       "    </tr>\n",
       "  </tbody>\n",
       "</table>\n",
       "<p>1950 rows × 2 columns</p>\n",
       "</div>"
      ],
      "text/plain": [
       "             위도          경도\n",
       "0     37.673399  127.054256\n",
       "1     37.673120  127.054566\n",
       "2     37.673431  127.054503\n",
       "3     37.673477  127.054188\n",
       "4     37.673255  127.054128\n",
       "...         ...         ...\n",
       "1945  37.686061  127.055476\n",
       "1946  37.686120  127.055618\n",
       "1947  37.685690  127.056009\n",
       "1948  37.686032  127.056110\n",
       "1949  37.686192  127.055587\n",
       "\n",
       "[1950 rows x 2 columns]"
      ]
     },
     "execution_count": 10,
     "metadata": {},
     "output_type": "execute_result"
    }
   ],
   "source": [
    "police_sampled = sampled_grids(police_grid)\n",
    "police_sampled"
   ]
  },
  {
   "cell_type": "code",
   "execution_count": 11,
   "id": "01e332b9",
   "metadata": {},
   "outputs": [],
   "source": [
    "#police_sampled.to_csv(raw_path + \"sampled_grid\" + extension, index=False, encoding=encoding)"
   ]
  },
  {
   "cell_type": "markdown",
   "id": "a8c245c6",
   "metadata": {},
   "source": [
    "### 주소로 변환\n",
    "\n",
    "https://www.geoservice.co.kr/\n",
    "\n",
    "내보낸 csv 파일 이용, 위 링크에서 역지오코딩, 주소얻기"
   ]
  },
  {
   "cell_type": "markdown",
   "id": "019459eb",
   "metadata": {},
   "source": [
    "주소 기본 데이터 생성"
   ]
  },
  {
   "cell_type": "code",
   "execution_count": 12,
   "id": "fca17acd",
   "metadata": {},
   "outputs": [],
   "source": [
    "def addr_data(file_path):\n",
    "    data=pd.read_csv(file_path)\n",
    "    data[\"이름\"] = None\n",
    "    data[\"확률\"] = None\n",
    "    data[\"index\"]=[i//(SAMPLING+1) for i in range(data.shape[0])]\n",
    "    return data"
   ]
  },
  {
   "cell_type": "code",
   "execution_count": 13,
   "id": "c44c7214",
   "metadata": {},
   "outputs": [
    {
     "data": {
      "text/html": [
       "<div>\n",
       "<style scoped>\n",
       "    .dataframe tbody tr th:only-of-type {\n",
       "        vertical-align: middle;\n",
       "    }\n",
       "\n",
       "    .dataframe tbody tr th {\n",
       "        vertical-align: top;\n",
       "    }\n",
       "\n",
       "    .dataframe thead th {\n",
       "        text-align: right;\n",
       "    }\n",
       "</style>\n",
       "<table border=\"1\" class=\"dataframe\">\n",
       "  <thead>\n",
       "    <tr style=\"text-align: right;\">\n",
       "      <th></th>\n",
       "      <th>위도</th>\n",
       "      <th>경도</th>\n",
       "      <th>지번주소</th>\n",
       "      <th>도로명주소</th>\n",
       "      <th>이름</th>\n",
       "      <th>확률</th>\n",
       "      <th>index</th>\n",
       "    </tr>\n",
       "  </thead>\n",
       "  <tbody>\n",
       "    <tr>\n",
       "      <th>0</th>\n",
       "      <td>37.673399</td>\n",
       "      <td>127.054256</td>\n",
       "      <td>서울특별시 노원구 상계동 1044</td>\n",
       "      <td>서울특별시 노원구 동일로231길 24</td>\n",
       "      <td>None</td>\n",
       "      <td>None</td>\n",
       "      <td>0</td>\n",
       "    </tr>\n",
       "    <tr>\n",
       "      <th>1</th>\n",
       "      <td>37.673226</td>\n",
       "      <td>127.053969</td>\n",
       "      <td>서울특별시 노원구 상계동 1044</td>\n",
       "      <td>서울특별시 노원구 동일로231길 24</td>\n",
       "      <td>None</td>\n",
       "      <td>None</td>\n",
       "      <td>0</td>\n",
       "    </tr>\n",
       "    <tr>\n",
       "      <th>2</th>\n",
       "      <td>37.673140</td>\n",
       "      <td>127.054040</td>\n",
       "      <td>서울특별시 노원구 상계동 1044</td>\n",
       "      <td>서울특별시 노원구 동일로231길 24</td>\n",
       "      <td>None</td>\n",
       "      <td>None</td>\n",
       "      <td>0</td>\n",
       "    </tr>\n",
       "    <tr>\n",
       "      <th>3</th>\n",
       "      <td>37.673158</td>\n",
       "      <td>127.053899</td>\n",
       "      <td>서울특별시 노원구 상계동 1044</td>\n",
       "      <td>서울특별시 노원구 동일로231길 24</td>\n",
       "      <td>None</td>\n",
       "      <td>None</td>\n",
       "      <td>0</td>\n",
       "    </tr>\n",
       "    <tr>\n",
       "      <th>4</th>\n",
       "      <td>37.673174</td>\n",
       "      <td>127.054229</td>\n",
       "      <td>서울특별시 노원구 상계동 1044</td>\n",
       "      <td>서울특별시 노원구 동일로231길 24</td>\n",
       "      <td>None</td>\n",
       "      <td>None</td>\n",
       "      <td>0</td>\n",
       "    </tr>\n",
       "    <tr>\n",
       "      <th>...</th>\n",
       "      <td>...</td>\n",
       "      <td>...</td>\n",
       "      <td>...</td>\n",
       "      <td>...</td>\n",
       "      <td>...</td>\n",
       "      <td>...</td>\n",
       "      <td>...</td>\n",
       "    </tr>\n",
       "    <tr>\n",
       "      <th>1945</th>\n",
       "      <td>37.686223</td>\n",
       "      <td>127.055503</td>\n",
       "      <td>서울특별시 노원구 상계동 1202-1</td>\n",
       "      <td>서울특별시 노원구 동일로 1772</td>\n",
       "      <td>None</td>\n",
       "      <td>None</td>\n",
       "      <td>324</td>\n",
       "    </tr>\n",
       "    <tr>\n",
       "      <th>1946</th>\n",
       "      <td>37.685906</td>\n",
       "      <td>127.055661</td>\n",
       "      <td>서울특별시 노원구 상계동 1202-1</td>\n",
       "      <td>서울특별시 노원구 동일로 1772</td>\n",
       "      <td>None</td>\n",
       "      <td>None</td>\n",
       "      <td>324</td>\n",
       "    </tr>\n",
       "    <tr>\n",
       "      <th>1947</th>\n",
       "      <td>37.685822</td>\n",
       "      <td>127.055937</td>\n",
       "      <td>서울특별시 노원구 상계동 산 12-1</td>\n",
       "      <td>서울특별시 노원구 동일로 1772</td>\n",
       "      <td>None</td>\n",
       "      <td>None</td>\n",
       "      <td>324</td>\n",
       "    </tr>\n",
       "    <tr>\n",
       "      <th>1948</th>\n",
       "      <td>37.686147</td>\n",
       "      <td>127.055588</td>\n",
       "      <td>서울특별시 노원구 상계동 1202-1</td>\n",
       "      <td>서울특별시 노원구 동일로 1772</td>\n",
       "      <td>None</td>\n",
       "      <td>None</td>\n",
       "      <td>324</td>\n",
       "    </tr>\n",
       "    <tr>\n",
       "      <th>1949</th>\n",
       "      <td>37.685694</td>\n",
       "      <td>127.056002</td>\n",
       "      <td>서울특별시 노원구 상계동 산 12-1</td>\n",
       "      <td>서울특별시 노원구 동일로 1772</td>\n",
       "      <td>None</td>\n",
       "      <td>None</td>\n",
       "      <td>324</td>\n",
       "    </tr>\n",
       "  </tbody>\n",
       "</table>\n",
       "<p>1950 rows × 7 columns</p>\n",
       "</div>"
      ],
      "text/plain": [
       "             위도          경도                  지번주소                 도로명주소    이름  \\\n",
       "0     37.673399  127.054256    서울특별시 노원구 상계동 1044  서울특별시 노원구 동일로231길 24  None   \n",
       "1     37.673226  127.053969    서울특별시 노원구 상계동 1044  서울특별시 노원구 동일로231길 24  None   \n",
       "2     37.673140  127.054040    서울특별시 노원구 상계동 1044  서울특별시 노원구 동일로231길 24  None   \n",
       "3     37.673158  127.053899    서울특별시 노원구 상계동 1044  서울특별시 노원구 동일로231길 24  None   \n",
       "4     37.673174  127.054229    서울특별시 노원구 상계동 1044  서울특별시 노원구 동일로231길 24  None   \n",
       "...         ...         ...                   ...                   ...   ...   \n",
       "1945  37.686223  127.055503  서울특별시 노원구 상계동 1202-1    서울특별시 노원구 동일로 1772  None   \n",
       "1946  37.685906  127.055661  서울특별시 노원구 상계동 1202-1    서울특별시 노원구 동일로 1772  None   \n",
       "1947  37.685822  127.055937  서울특별시 노원구 상계동 산 12-1    서울특별시 노원구 동일로 1772  None   \n",
       "1948  37.686147  127.055588  서울특별시 노원구 상계동 1202-1    서울특별시 노원구 동일로 1772  None   \n",
       "1949  37.685694  127.056002  서울특별시 노원구 상계동 산 12-1    서울특별시 노원구 동일로 1772  None   \n",
       "\n",
       "        확률  index  \n",
       "0     None      0  \n",
       "1     None      0  \n",
       "2     None      0  \n",
       "3     None      0  \n",
       "4     None      0  \n",
       "...    ...    ...  \n",
       "1945  None    324  \n",
       "1946  None    324  \n",
       "1947  None    324  \n",
       "1948  None    324  \n",
       "1949  None    324  \n",
       "\n",
       "[1950 rows x 7 columns]"
      ]
     },
     "execution_count": 13,
     "metadata": {},
     "output_type": "execute_result"
    }
   ],
   "source": [
    "police_addr = addr_data(data_path + \"sampled_addr.csv\")\n",
    "police_addr"
   ]
  },
  {
   "cell_type": "markdown",
   "id": "3424db8f",
   "metadata": {},
   "source": [
    "# 건물 이름 크롤링"
   ]
  },
  {
   "cell_type": "code",
   "execution_count": 18,
   "id": "be4737e5",
   "metadata": {},
   "outputs": [],
   "source": [
    "DELAY_TIME = 2\n",
    "\n",
    "class kakao_map():\n",
    "    def __init__(self, mode = \"no\"):\n",
    "        self.mode = mode\n",
    "        self.url = \"https://map.kakao.com/\"\n",
    "        \n",
    "    def __openweb(self):\n",
    "        if self.mode == \"no\":\n",
    "            options = wb.ChromeOptions()\n",
    "            options.add_argument('headless')\n",
    "            self.browser = wb.Chrome(options=options)\n",
    "        else:\n",
    "            self.browser = wb.Chrome()\n",
    "        self.browser.get(self.url)\n",
    "        time.sleep(DELAY_TIME)\n",
    "    \n",
    "    def __enter__(self):\n",
    "        self.__openweb()\n",
    "        return self\n",
    "    \n",
    "    def __inputclear(self):\n",
    "        search_box = self.browser.find_element(By.ID, \"search.keyword.query\")\n",
    "        while search_box.get_attribute(\"value\"):\n",
    "            search_box.clear()\n",
    "     \n",
    "    def __search(self, address):\n",
    "        search_box = self.browser.find_element(By.ID, \"search.keyword.query\")\n",
    "        self.__inputclear()\n",
    "        search_box.send_keys(address)\n",
    "        search_box.send_keys(Keys.RETURN)\n",
    "        time.sleep(0.1)\n",
    "    \n",
    "    def find_name(self, addr, road_addr):\n",
    "        if \"산\" in addr:\n",
    "            return \"산\"\n",
    "        if \"지하\" in road_addr:\n",
    "            return \"지하철\"\n",
    "        self.__search(addr)\n",
    "        try:\n",
    "            postage = self.browser.find_element(By.CLASS_NAME, \"zip\")\n",
    "        except NoSuchElementException:\n",
    "            return \"nozip\"\n",
    "        else:\n",
    "            postnum = postage.text\n",
    "            self.__search(road_addr)\n",
    "            try:\n",
    "                buildname = self.browser.find_element(By.CLASS_NAME, \"building\")\n",
    "            except NoSuchElementException:\n",
    "                return postnum\n",
    "            else:\n",
    "                return buildname.text\n",
    "    \n",
    "    def __exit__(self, exc_type, exc_value, traceback):\n",
    "        self.browser.quit()\n",
    "        \n",
    "\n",
    "def search_to_csv(data, file_path, mode=\"no\"):\n",
    "    with kakao_map(mode) as browser:\n",
    "        for i in range(len(data.index)):\n",
    "            print(file_path[16:16+4], i)\n",
    "            data.iloc[i, 4] = browser.find_name(data.iloc[i, 2], data.iloc[i, 3])\n",
    "    data.to_csv(file_path, index=False, encoding=encoding)"
   ]
  },
  {
   "cell_type": "code",
   "execution_count": null,
   "id": "1c1e5319",
   "metadata": {},
   "outputs": [
    {
     "name": "stdout",
     "output_type": "stream",
     "text": [
      "1_sa 0\n",
      "1_sa 1\n",
      "1_sa 2\n",
      "1_sa 3\n",
      "1_sa 4\n",
      "1_sa 5\n",
      "1_sa 6\n",
      "1_sa 7\n",
      "1_sa 8\n",
      "1_sa 9\n",
      "1_sa 10\n",
      "1_sa 11\n",
      "1_sa 12\n",
      "1_sa 13\n",
      "1_sa 14\n",
      "1_sa 15\n",
      "1_sa 16\n",
      "1_sa 17\n",
      "1_sa 18\n",
      "1_sa 19\n",
      "1_sa 20\n",
      "1_sa 21\n",
      "1_sa 22\n",
      "1_sa 23\n",
      "1_sa 24\n",
      "1_sa 25\n",
      "1_sa 26\n",
      "1_sa 27\n",
      "1_sa 28\n",
      "1_sa 29\n",
      "1_sa 30\n",
      "1_sa 31\n",
      "1_sa 32\n",
      "1_sa 33\n",
      "1_sa 34\n",
      "1_sa 35\n",
      "1_sa 36\n",
      "1_sa 37\n",
      "1_sa 38\n",
      "1_sa 39\n",
      "1_sa 40\n",
      "1_sa 41\n",
      "1_sa 42\n",
      "1_sa 43\n"
     ]
    }
   ],
   "source": [
    "search_to_csv(police_addr, data_path+\"sangge_1_sampled_name.csv\", \"ye\")"
   ]
  },
  {
   "cell_type": "markdown",
   "id": "2487d269",
   "metadata": {},
   "source": [
    "### 이름을 토대로 유형 분류, 확률 점수 부여"
   ]
  },
  {
   "cell_type": "code",
   "execution_count": null,
   "id": "17252017",
   "metadata": {},
   "outputs": [],
   "source": [
    "police_per = pd.read_csv(data_path + \"sampled_name.csv\", encoding=encoding)\n",
    "set(police_per[\"이름\"])"
   ]
  },
  {
   "cell_type": "markdown",
   "id": "8bf63ea4",
   "metadata": {},
   "source": [
    "장소 분류에 따른 범죄확률"
   ]
  },
  {
   "cell_type": "code",
   "execution_count": null,
   "id": "d89c821b",
   "metadata": {},
   "outputs": [],
   "source": [
    "crime_per = pd.read_csv(data_path+\"processed_crime.csv\", encoding=encoding)\n",
    "crime_per"
   ]
  },
  {
   "cell_type": "markdown",
   "id": "dee09179",
   "metadata": {},
   "source": [
    "분류 결과를 바탕으로 이름이 어떤유형인지 분류"
   ]
  },
  {
   "cell_type": "code",
   "execution_count": null,
   "id": "5783d18c",
   "metadata": {},
   "outputs": [],
   "source": [
    "def namespace(file_path):\n",
    "    space = dict()\n",
    "    with open(file_path, 'r', encoding='UTF8') as file:\n",
    "        for i in file:\n",
    "            temp=i.split(\" - \")\n",
    "            space[temp[0]] = temp[1].strip()\n",
    "    return space"
   ]
  },
  {
   "cell_type": "markdown",
   "id": "d962a119",
   "metadata": {},
   "source": [
    "자료에 맞춰 확률 계산후 대입"
   ]
  },
  {
   "cell_type": "code",
   "execution_count": null,
   "id": "e4dd4035",
   "metadata": {},
   "outputs": [],
   "source": [
    "def insert_percentage(file_path, addr_data):\n",
    "    space = namespace(file_path)\n",
    "    for i in space:\n",
    "        addr_data.loc[addr_data[\"이름\"]==i, \"확률\"] = crime_per.loc[0, space[i]]"
   ]
  },
  {
   "cell_type": "code",
   "execution_count": null,
   "id": "876e438a",
   "metadata": {},
   "outputs": [],
   "source": [
    "insert_percentage(data_path + \"상계1_name_category.txt\", police_per)       \n",
    "police_per"
   ]
  },
  {
   "cell_type": "markdown",
   "id": "ef7f12fb",
   "metadata": {},
   "source": [
    "동일 지역에서 샘플된 데이터끼리 확률 합 구하고 격자점 데이터에 새로운 열로 추가"
   ]
  },
  {
   "cell_type": "code",
   "execution_count": null,
   "id": "bb6ce4c2",
   "metadata": {},
   "outputs": [],
   "source": [
    "def insert_location(grid, percentage_data):\n",
    "    score = percentage_data[[\"index\", \"확률\"]].groupby(\"index\").mean()\n",
    "    grid[\"location\"] = score"
   ]
  },
  {
   "cell_type": "code",
   "execution_count": null,
   "id": "f191c7bc",
   "metadata": {},
   "outputs": [],
   "source": [
    "insert_location(police_grid, police_per)\n",
    "police_grid"
   ]
  },
  {
   "cell_type": "markdown",
   "id": "8a682f22",
   "metadata": {},
   "source": [
    "# 시설물 데이터 이용\n",
    "\n",
    "시설물 점수 기준\n",
    "\n",
    "시설물 밀도 계산 => 격자점 반경 내 개수 / 전체 범위 내 개수\n",
    "\n",
    "이때 데이터를 순찰반경에 맞게 필터링해 쓸 것이므로 전체 범위 개수는 필터링된 데이터프레임의 행 개수이다\n",
    "\n",
    "긍정적 시설(cctv 등)일 경우 밀도 뺌\n",
    "\n",
    "부정적 시설(유흥업소 등)일 경우 밀도 더함"
   ]
  },
  {
   "cell_type": "markdown",
   "id": "3942d901",
   "metadata": {},
   "source": [
    "### 데이터 준비\n",
    "\n",
    "안심시설물, cctv, 보안등 유흥업소\n",
    "\n",
    "전체데이터는 너무 많으므로 filtering() 이용\n",
    "\n",
    "긍정요소, 부정요소 정의"
   ]
  },
  {
   "cell_type": "code",
   "execution_count": null,
   "id": "6510ebe8",
   "metadata": {},
   "outputs": [],
   "source": [
    "failcity_data = {\"ansim\" : pd.read_csv(data_path+\"processed_ansim.csv\", encoding=encoding),\n",
    "                 \"cctv\"  : pd.read_csv(data_path+\"processed_cctv.csv\", encoding=encoding),\n",
    "                 \"light\" : pd.read_csv(data_path+\"processed_light.csv\", encoding=encoding),\n",
    "                 \"salon\" : pd.read_csv(data_path+\"processed_salon.csv\", encoding=encoding),}\n",
    "for k, v in failcity_data.items():\n",
    "    failcity_data[k]=filtering(v,police)\n",
    "    \n",
    "positive = [\"ansim\", \"cctv\", \"light\"]\n",
    "negative = [\"salon\"]"
   ]
  },
  {
   "cell_type": "markdown",
   "id": "a6317686",
   "metadata": {},
   "source": [
    "해당 범위 안에 목표물이 몇개 있는가?"
   ]
  },
  {
   "cell_type": "code",
   "execution_count": null,
   "id": "ad31e724",
   "metadata": {},
   "outputs": [],
   "source": [
    "def location_count(data, location):\n",
    "    ns_min = location.iloc[0] - GRID_DIFF/2*NS_DIFF_1M\n",
    "    ns_max = location.iloc[0] + GRID_DIFF/2*NS_DIFF_1M\n",
    "    ew_min = location.iloc[1] - GRID_DIFF/2*EW_DIFF_1M\n",
    "    ew_max = location.iloc[1] + GRID_DIFF/2*EW_DIFF_1M\n",
    "    return len(data.loc[(data[\"위도\"] >= ns_min)&\n",
    "                         (data[\"위도\"] <= ns_max)&\n",
    "                         (data[\"경도\"] >= ew_min)&\n",
    "                         (data[\"경도\"] <= ew_max) , :].index)"
   ]
  },
  {
   "cell_type": "markdown",
   "id": "2bd02d1b",
   "metadata": {},
   "source": [
    "격자점 데이터에 시설 밀도 열 추가하는 함수"
   ]
  },
  {
   "cell_type": "code",
   "execution_count": null,
   "id": "197c70c7",
   "metadata": {},
   "outputs": [],
   "source": [
    "def insert_facility(grid, data):\n",
    "    for k, v in data.items():\n",
    "        for i in grid.index:\n",
    "            grid.loc[i, k] = location_count(v, grid.loc[i, [\"위도\", \"경도\"]])\n",
    "        total = grid.loc[:, k].sum()\n",
    "        if total != 0:\n",
    "            grid.loc[:, k] /= grid.loc[:, k].sum()\n",
    "        else:\n",
    "            grid.loc[:, k] = 0"
   ]
  },
  {
   "cell_type": "markdown",
   "id": "71acc5df",
   "metadata": {},
   "source": [
    "밀도를 토대로 점수 계산"
   ]
  },
  {
   "cell_type": "code",
   "execution_count": null,
   "id": "214cce35",
   "metadata": {},
   "outputs": [],
   "source": [
    "def score(grid):\n",
    "    grid[\"score\"] = grid[\"location\"]\n",
    "    grid.drop(columns=[\"location\"], inplace=True)\n",
    "    for k in failcity_data.keys():\n",
    "        mode = -1 if k in positive else 1\n",
    "        grid[\"score\"] += mode*grid[k]\n",
    "        grid.drop(columns=[k], inplace=True)"
   ]
  },
  {
   "cell_type": "markdown",
   "id": "049cdeb1",
   "metadata": {},
   "source": [
    "밀도 계산후 열로 추가"
   ]
  },
  {
   "cell_type": "code",
   "execution_count": null,
   "id": "9bc5751a",
   "metadata": {
    "scrolled": true
   },
   "outputs": [],
   "source": [
    "insert_facility(police_grid, failcity_data)\n",
    "police_grid"
   ]
  },
  {
   "cell_type": "markdown",
   "id": "b645ed85",
   "metadata": {},
   "source": [
    "점수 계산후 위경도, 점수 열만 남기기"
   ]
  },
  {
   "cell_type": "code",
   "execution_count": null,
   "id": "a6a146e3",
   "metadata": {},
   "outputs": [],
   "source": [
    "score(police_grid)\n",
    "police_grid"
   ]
  },
  {
   "cell_type": "markdown",
   "id": "eb89775c",
   "metadata": {},
   "source": [
    "# 지도에 시각화"
   ]
  },
  {
   "cell_type": "markdown",
   "id": "b16769f1",
   "metadata": {},
   "source": [
    "지도에 해당 위도경도에 위치한 점 찍기"
   ]
  },
  {
   "cell_type": "code",
   "execution_count": null,
   "id": "d765ca51",
   "metadata": {},
   "outputs": [],
   "source": [
    "def draw_marker(m, grid, color):\n",
    "    color = \"#\" + color\n",
    "    for i in grid[[\"위도\",\"경도\"]].values:\n",
    "        folium.Circle(location=i, radius=2, color=color, fill_color=color).add_to(m)"
   ]
  },
  {
   "cell_type": "markdown",
   "id": "06b404c1",
   "metadata": {},
   "source": [
    "시각화를 위해 점수를 -255(초록)~255(빨강)으로 변환 (min-max 스케일링 이용)\n",
    "\n",
    "변환후 rgb코드에 맞게 문자열 생성 안전->초록, 위험->빨강"
   ]
  },
  {
   "cell_type": "code",
   "execution_count": null,
   "id": "e603faa6",
   "metadata": {},
   "outputs": [],
   "source": [
    "def colorstr(num):\n",
    "    b = num>=0\n",
    "    num=hex(int(255-abs(num)))[2:]\n",
    "    if len(num)==1:\n",
    "        num=\"0\"+num\n",
    "    return \"#ff\"+num*2 if b else \"#\"+num+\"ff\"+num"
   ]
  },
  {
   "cell_type": "code",
   "execution_count": null,
   "id": "329fb327",
   "metadata": {},
   "outputs": [],
   "source": [
    "def score_to_color(grid):\n",
    "    score = grid[\"score\"].copy()\n",
    "    scaler = MinMaxScaler(feature_range=(-255, 255))\n",
    "    score = scaler.fit_transform(score.to_frame())\n",
    "    return pd.Series(score.flatten())"
   ]
  },
  {
   "cell_type": "markdown",
   "id": "9ecbf7d0",
   "metadata": {},
   "source": [
    "격자점 점수 시각화"
   ]
  },
  {
   "cell_type": "code",
   "execution_count": null,
   "id": "f7518f3e",
   "metadata": {},
   "outputs": [],
   "source": [
    "def draw_score(m, grid, color):\n",
    "    for i in grid.index:\n",
    "        folium.Circle(location=grid.iloc[i,:2].values,\n",
    "                      radius=GRID_DIFF/2,\n",
    "                      color=color[i],\n",
    "                      fill=True,\n",
    "                      fill_color=color[i]).add_to(m)"
   ]
  },
  {
   "cell_type": "markdown",
   "id": "d55380ee",
   "metadata": {},
   "source": [
    "지도객체 생성, 이름 붙이기"
   ]
  },
  {
   "cell_type": "code",
   "execution_count": null,
   "id": "7dccb556",
   "metadata": {},
   "outputs": [],
   "source": [
    "m = folium.Map(location = police, zoom_start=60)\n",
    "\n",
    "name=\"상계1\"\n",
    "title_html = f'<h3 align=\"center\" style=\"font-size:20px\"><b>{name}</b></h3>'\n",
    "             \n",
    "m.get_root().html.add_child(folium.Element(title_html))"
   ]
  },
  {
   "cell_type": "markdown",
   "id": "aca879aa",
   "metadata": {},
   "source": [
    "경찰서, 격자점, 모든 시설물 표시"
   ]
  },
  {
   "cell_type": "code",
   "execution_count": null,
   "id": "462a6d57",
   "metadata": {},
   "outputs": [],
   "source": [
    "folium.Marker(location=police, \n",
    "              popup='지구대',\n",
    "              icon=folium.Icon(color='lightblue', icon='star')\n",
    ").add_to(m)\n",
    "\n",
    "failcity_data_color = {\"ansim\" : '0000ff',\n",
    "                       \"cctv\"  : '00ffff',\n",
    "                       \"light\" : 'ffff00',\n",
    "                       \"salon\" : 'ff00ff'}\n",
    "\n",
    "draw_marker(m, police_grid, '000000')\n",
    "for k, v in failcity_data.items():\n",
    "    draw_marker(m, v, failcity_data_color[k])"
   ]
  },
  {
   "cell_type": "markdown",
   "id": "354d30d9",
   "metadata": {},
   "source": [
    "점수에서 색 문자열 생성"
   ]
  },
  {
   "cell_type": "code",
   "execution_count": null,
   "id": "d680e662",
   "metadata": {},
   "outputs": [],
   "source": [
    "color = score_to_color(police_grid)\n",
    "color"
   ]
  },
  {
   "cell_type": "markdown",
   "id": "33313913",
   "metadata": {},
   "source": [
    "점수 시각화"
   ]
  },
  {
   "cell_type": "code",
   "execution_count": null,
   "id": "7c224688",
   "metadata": {},
   "outputs": [],
   "source": [
    "draw_score(m, police_grid, color)\n",
    "display(m)"
   ]
  },
  {
   "cell_type": "code",
   "execution_count": null,
   "id": "25366af7",
   "metadata": {},
   "outputs": [],
   "source": []
  },
  {
   "cell_type": "code",
   "execution_count": null,
   "id": "fa10cdd6",
   "metadata": {},
   "outputs": [],
   "source": []
  }
 ],
 "metadata": {
  "kernelspec": {
   "display_name": "Python 3 (ipykernel)",
   "language": "python",
   "name": "python3"
  },
  "language_info": {
   "codemirror_mode": {
    "name": "ipython",
    "version": 3
   },
   "file_extension": ".py",
   "mimetype": "text/x-python",
   "name": "python",
   "nbconvert_exporter": "python",
   "pygments_lexer": "ipython3",
   "version": "3.11.7"
  }
 },
 "nbformat": 4,
 "nbformat_minor": 5
}
