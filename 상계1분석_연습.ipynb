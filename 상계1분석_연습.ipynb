{
 "cells": [
  {
   "cell_type": "markdown",
   "id": "33da0036",
   "metadata": {},
   "source": [
    "# 빅프9조\n",
    "\n",
    "분석방법\n",
    "순찰 영역은 원형이지만 격자점 내부에서는 분석을 정사각형으로 함"
   ]
  },
  {
   "cell_type": "markdown",
   "id": "631a37ef",
   "metadata": {},
   "source": [
    "# 기본 설정"
   ]
  },
  {
   "cell_type": "markdown",
   "id": "1d1ea40d",
   "metadata": {},
   "source": [
    " 필수 라이브러리 import"
   ]
  },
  {
   "cell_type": "code",
   "execution_count": 1,
   "id": "0f305017",
   "metadata": {},
   "outputs": [],
   "source": [
    "import numpy as np\n",
    "import pandas as pd\n",
    "\n",
    "from selenium import webdriver as wb\n",
    "from selenium.webdriver.common.keys import Keys\n",
    "from selenium.webdriver.common.by import By\n",
    "from selenium.common.exceptions import NoSuchElementException\n",
    "import time\n",
    "\n",
    "import folium\n",
    "from sklearn.preprocessing import MinMaxScaler\n",
    "from IPython.display import display, HTML"
   ]
  },
  {
   "cell_type": "markdown",
   "id": "e76125d3",
   "metadata": {},
   "source": [
    "파일경로, csv인코딩 설정"
   ]
  },
  {
   "cell_type": "code",
   "execution_count": 2,
   "id": "4eee988f",
   "metadata": {},
   "outputs": [],
   "source": [
    "data_path = \"전처리완료데이터/\"\n",
    "raw_path = \"전처리필요데이터/\"\n",
    "encoding = \"cp949\"\n",
    "extension = \".csv\""
   ]
  },
  {
   "cell_type": "markdown",
   "id": "86b420fc",
   "metadata": {},
   "source": [
    "경찰서 목록"
   ]
  },
  {
   "cell_type": "code",
   "execution_count": 3,
   "id": "e938d755",
   "metadata": {},
   "outputs": [],
   "source": [
    "police = np.array([37.679699, 127.055066], dtype=np.float64)"
   ]
  },
  {
   "cell_type": "markdown",
   "id": "187dcb7c",
   "metadata": {},
   "source": [
    "격자점 생성에 필요한 상수 선언"
   ]
  },
  {
   "cell_type": "code",
   "execution_count": 4,
   "id": "17338fa7",
   "metadata": {},
   "outputs": [],
   "source": [
    "NS_DIFF_1M = 0.000007\n",
    "EW_DIFF_1M = 0.000009\n",
    "PATROL_HR = 900\n",
    "GRID_DIFF = 90"
   ]
  },
  {
   "cell_type": "markdown",
   "id": "2647593b",
   "metadata": {},
   "source": [
    "### 데이터를 순찰 반경 안의 것만 잘라내는 함수"
   ]
  },
  {
   "cell_type": "code",
   "execution_count": 5,
   "id": "98b74d92",
   "metadata": {},
   "outputs": [],
   "source": [
    "def filtering(data, police, mode = \"시설\"):\n",
    "    distance = PATROL_HR + GRID_DIFF/2 + 5 if mode == \"시설\" else PATROL_HR + 10 \n",
    "    ft = (data[[\"위도\", \"경도\"]] - police).copy()\n",
    "    ft.loc[:, \"위도\"] /= NS_DIFF_1M\n",
    "    ft.loc[:, \"경도\"] /= EW_DIFF_1M\n",
    "    ft = np.sqrt( np.sum( np.square(ft), axis=1 ))\n",
    "    return data.loc[ft <= distance, :].reset_index(drop=True)"
   ]
  },
  {
   "cell_type": "markdown",
   "id": "9122b36e",
   "metadata": {},
   "source": [
    "# 기본 격자점 생성"
   ]
  },
  {
   "cell_type": "markdown",
   "id": "efb869ea",
   "metadata": {},
   "source": [
    "기본 격자점 반환함수"
   ]
  },
  {
   "cell_type": "code",
   "execution_count": 6,
   "id": "7ec48f05",
   "metadata": {},
   "outputs": [],
   "source": [
    "def grids(police):\n",
    "    hcount = PATROL_HR//GRID_DIFF\n",
    "    ew = np.arange(-hcount, hcount + 1, dtype=np.float64)\n",
    "    ns = ew.reshape(-1,1).copy()\n",
    "    ew *= EW_DIFF_1M * GRID_DIFF\n",
    "    ns *= NS_DIFF_1M * GRID_DIFF\n",
    "    \n",
    "    result = np.full((2*hcount+1, 2*hcount+1, 2), police, dtype=np.float64)\n",
    "    result[:,:,0] += ns\n",
    "    result[:,:,1] += ew\n",
    "    \n",
    "    return pd.DataFrame(result.reshape(-1,2), columns=[\"위도\", \"경도\"])"
   ]
  },
  {
   "cell_type": "markdown",
   "id": "fa8b6b16",
   "metadata": {},
   "source": [
    "원형 격자점 생성"
   ]
  },
  {
   "cell_type": "code",
   "execution_count": 7,
   "id": "b9579c29",
   "metadata": {},
   "outputs": [
    {
     "data": {
      "text/html": [
       "<div>\n",
       "<style scoped>\n",
       "    .dataframe tbody tr th:only-of-type {\n",
       "        vertical-align: middle;\n",
       "    }\n",
       "\n",
       "    .dataframe tbody tr th {\n",
       "        vertical-align: top;\n",
       "    }\n",
       "\n",
       "    .dataframe thead th {\n",
       "        text-align: right;\n",
       "    }\n",
       "</style>\n",
       "<table border=\"1\" class=\"dataframe\">\n",
       "  <thead>\n",
       "    <tr style=\"text-align: right;\">\n",
       "      <th></th>\n",
       "      <th>위도</th>\n",
       "      <th>경도</th>\n",
       "    </tr>\n",
       "  </thead>\n",
       "  <tbody>\n",
       "    <tr>\n",
       "      <th>0</th>\n",
       "      <td>37.673399</td>\n",
       "      <td>127.054256</td>\n",
       "    </tr>\n",
       "    <tr>\n",
       "      <th>1</th>\n",
       "      <td>37.673399</td>\n",
       "      <td>127.055066</td>\n",
       "    </tr>\n",
       "    <tr>\n",
       "      <th>2</th>\n",
       "      <td>37.673399</td>\n",
       "      <td>127.055876</td>\n",
       "    </tr>\n",
       "    <tr>\n",
       "      <th>3</th>\n",
       "      <td>37.674029</td>\n",
       "      <td>127.051826</td>\n",
       "    </tr>\n",
       "    <tr>\n",
       "      <th>4</th>\n",
       "      <td>37.674029</td>\n",
       "      <td>127.052636</td>\n",
       "    </tr>\n",
       "    <tr>\n",
       "      <th>...</th>\n",
       "      <td>...</td>\n",
       "      <td>...</td>\n",
       "    </tr>\n",
       "    <tr>\n",
       "      <th>320</th>\n",
       "      <td>37.685369</td>\n",
       "      <td>127.057496</td>\n",
       "    </tr>\n",
       "    <tr>\n",
       "      <th>321</th>\n",
       "      <td>37.685369</td>\n",
       "      <td>127.058306</td>\n",
       "    </tr>\n",
       "    <tr>\n",
       "      <th>322</th>\n",
       "      <td>37.685999</td>\n",
       "      <td>127.054256</td>\n",
       "    </tr>\n",
       "    <tr>\n",
       "      <th>323</th>\n",
       "      <td>37.685999</td>\n",
       "      <td>127.055066</td>\n",
       "    </tr>\n",
       "    <tr>\n",
       "      <th>324</th>\n",
       "      <td>37.685999</td>\n",
       "      <td>127.055876</td>\n",
       "    </tr>\n",
       "  </tbody>\n",
       "</table>\n",
       "<p>325 rows × 2 columns</p>\n",
       "</div>"
      ],
      "text/plain": [
       "            위도          경도\n",
       "0    37.673399  127.054256\n",
       "1    37.673399  127.055066\n",
       "2    37.673399  127.055876\n",
       "3    37.674029  127.051826\n",
       "4    37.674029  127.052636\n",
       "..         ...         ...\n",
       "320  37.685369  127.057496\n",
       "321  37.685369  127.058306\n",
       "322  37.685999  127.054256\n",
       "323  37.685999  127.055066\n",
       "324  37.685999  127.055876\n",
       "\n",
       "[325 rows x 2 columns]"
      ]
     },
     "execution_count": 7,
     "metadata": {},
     "output_type": "execute_result"
    }
   ],
   "source": [
    "police_grid = grids(police)\n",
    "police_grid = filtering(police_grid, police, \"격자\")\n",
    "police_grid"
   ]
  },
  {
   "cell_type": "markdown",
   "id": "19658d95",
   "metadata": {},
   "source": [
    "# 장소별 범죄 발생 확률 이용"
   ]
  },
  {
   "cell_type": "markdown",
   "id": "a02458cf",
   "metadata": {},
   "source": [
    "### 샘플링"
   ]
  },
  {
   "cell_type": "markdown",
   "id": "c726cd60",
   "metadata": {},
   "source": [
    "뽑을 개수 (5개)"
   ]
  },
  {
   "cell_type": "code",
   "execution_count": 8,
   "id": "50a8cf51",
   "metadata": {},
   "outputs": [],
   "source": [
    "SAMPLING = 5"
   ]
  },
  {
   "cell_type": "markdown",
   "id": "d13f0858",
   "metadata": {},
   "source": [
    "격자점 범위 내에서 무작위로 5개 점 추가"
   ]
  },
  {
   "cell_type": "code",
   "execution_count": 9,
   "id": "3b9087ee",
   "metadata": {},
   "outputs": [],
   "source": [
    "def sampled_grids(grid):\n",
    "    interval_size = SAMPLING+1\n",
    "    result = np.zeros((grid.shape[0]*interval_size, 2), dtype=np.float64)\n",
    "    for i in range(0, result.shape[0], interval_size):\n",
    "        ran = np.zeros((interval_size, 2), dtype=np.float64)\n",
    "        ran[1:] = np.random.uniform(-1, 1, (interval_size-1, 2))\n",
    "        ran[:, 0] *= (GRID_DIFF/2)*NS_DIFF_1M\n",
    "        ran[:, 1] *= (GRID_DIFF/2)*EW_DIFF_1M\n",
    "        ran += grid.values[i//interval_size]\n",
    "        result[i:i+interval_size] += ran\n",
    "    return pd.DataFrame(result, columns = [\"위도\", \"경도\"])"
   ]
  },
  {
   "cell_type": "markdown",
   "id": "85584c51",
   "metadata": {},
   "source": [
    "추가한 데이터 csv내보내기"
   ]
  },
  {
   "cell_type": "code",
   "execution_count": 10,
   "id": "37a9a300",
   "metadata": {
    "scrolled": true
   },
   "outputs": [
    {
     "data": {
      "text/html": [
       "<div>\n",
       "<style scoped>\n",
       "    .dataframe tbody tr th:only-of-type {\n",
       "        vertical-align: middle;\n",
       "    }\n",
       "\n",
       "    .dataframe tbody tr th {\n",
       "        vertical-align: top;\n",
       "    }\n",
       "\n",
       "    .dataframe thead th {\n",
       "        text-align: right;\n",
       "    }\n",
       "</style>\n",
       "<table border=\"1\" class=\"dataframe\">\n",
       "  <thead>\n",
       "    <tr style=\"text-align: right;\">\n",
       "      <th></th>\n",
       "      <th>위도</th>\n",
       "      <th>경도</th>\n",
       "    </tr>\n",
       "  </thead>\n",
       "  <tbody>\n",
       "    <tr>\n",
       "      <th>0</th>\n",
       "      <td>37.673399</td>\n",
       "      <td>127.054256</td>\n",
       "    </tr>\n",
       "    <tr>\n",
       "      <th>1</th>\n",
       "      <td>37.673229</td>\n",
       "      <td>127.054428</td>\n",
       "    </tr>\n",
       "    <tr>\n",
       "      <th>2</th>\n",
       "      <td>37.673392</td>\n",
       "      <td>127.054108</td>\n",
       "    </tr>\n",
       "    <tr>\n",
       "      <th>3</th>\n",
       "      <td>37.673572</td>\n",
       "      <td>127.054030</td>\n",
       "    </tr>\n",
       "    <tr>\n",
       "      <th>4</th>\n",
       "      <td>37.673676</td>\n",
       "      <td>127.054464</td>\n",
       "    </tr>\n",
       "    <tr>\n",
       "      <th>...</th>\n",
       "      <td>...</td>\n",
       "      <td>...</td>\n",
       "    </tr>\n",
       "    <tr>\n",
       "      <th>1945</th>\n",
       "      <td>37.686198</td>\n",
       "      <td>127.055889</td>\n",
       "    </tr>\n",
       "    <tr>\n",
       "      <th>1946</th>\n",
       "      <td>37.686296</td>\n",
       "      <td>127.056008</td>\n",
       "    </tr>\n",
       "    <tr>\n",
       "      <th>1947</th>\n",
       "      <td>37.685831</td>\n",
       "      <td>127.055666</td>\n",
       "    </tr>\n",
       "    <tr>\n",
       "      <th>1948</th>\n",
       "      <td>37.686077</td>\n",
       "      <td>127.055867</td>\n",
       "    </tr>\n",
       "    <tr>\n",
       "      <th>1949</th>\n",
       "      <td>37.686191</td>\n",
       "      <td>127.055617</td>\n",
       "    </tr>\n",
       "  </tbody>\n",
       "</table>\n",
       "<p>1950 rows × 2 columns</p>\n",
       "</div>"
      ],
      "text/plain": [
       "             위도          경도\n",
       "0     37.673399  127.054256\n",
       "1     37.673229  127.054428\n",
       "2     37.673392  127.054108\n",
       "3     37.673572  127.054030\n",
       "4     37.673676  127.054464\n",
       "...         ...         ...\n",
       "1945  37.686198  127.055889\n",
       "1946  37.686296  127.056008\n",
       "1947  37.685831  127.055666\n",
       "1948  37.686077  127.055867\n",
       "1949  37.686191  127.055617\n",
       "\n",
       "[1950 rows x 2 columns]"
      ]
     },
     "execution_count": 10,
     "metadata": {},
     "output_type": "execute_result"
    }
   ],
   "source": [
    "police_sampled = sampled_grids(police_grid)\n",
    "police_sampled"
   ]
  },
  {
   "cell_type": "code",
   "execution_count": 11,
   "id": "01e332b9",
   "metadata": {},
   "outputs": [],
   "source": [
    "#police_sampled.to_csv(raw_path + \"sampled_grid\" + extension, index=False, encoding=encoding)"
   ]
  },
  {
   "cell_type": "markdown",
   "id": "a8c245c6",
   "metadata": {},
   "source": [
    "### 주소로 변환\n",
    "\n",
    "https://www.geoservice.co.kr/\n",
    "\n",
    "내보낸 csv 파일 이용, 위 링크에서 역지오코딩, 주소얻기"
   ]
  },
  {
   "cell_type": "markdown",
   "id": "019459eb",
   "metadata": {},
   "source": [
    "주소 기본 데이터 생성"
   ]
  },
  {
   "cell_type": "code",
   "execution_count": 12,
   "id": "fca17acd",
   "metadata": {},
   "outputs": [],
   "source": [
    "def addr_data(file_path):\n",
    "    data=pd.read_csv(file_path)\n",
    "    data[\"이름\"] = None\n",
    "    data[\"확률\"] = None\n",
    "    data[\"index\"]=[i//(SAMPLING+1) for i in range(data.shape[0])]\n",
    "    return data"
   ]
  },
  {
   "cell_type": "code",
   "execution_count": 13,
   "id": "c44c7214",
   "metadata": {},
   "outputs": [
    {
     "data": {
      "text/html": [
       "<div>\n",
       "<style scoped>\n",
       "    .dataframe tbody tr th:only-of-type {\n",
       "        vertical-align: middle;\n",
       "    }\n",
       "\n",
       "    .dataframe tbody tr th {\n",
       "        vertical-align: top;\n",
       "    }\n",
       "\n",
       "    .dataframe thead th {\n",
       "        text-align: right;\n",
       "    }\n",
       "</style>\n",
       "<table border=\"1\" class=\"dataframe\">\n",
       "  <thead>\n",
       "    <tr style=\"text-align: right;\">\n",
       "      <th></th>\n",
       "      <th>위도</th>\n",
       "      <th>경도</th>\n",
       "      <th>지번주소</th>\n",
       "      <th>도로명주소</th>\n",
       "      <th>이름</th>\n",
       "      <th>확률</th>\n",
       "      <th>index</th>\n",
       "    </tr>\n",
       "  </thead>\n",
       "  <tbody>\n",
       "    <tr>\n",
       "      <th>0</th>\n",
       "      <td>37.673399</td>\n",
       "      <td>127.054256</td>\n",
       "      <td>서울특별시 노원구 상계동 1044</td>\n",
       "      <td>서울특별시 노원구 동일로231길 24</td>\n",
       "      <td>None</td>\n",
       "      <td>None</td>\n",
       "      <td>0</td>\n",
       "    </tr>\n",
       "    <tr>\n",
       "      <th>1</th>\n",
       "      <td>37.673226</td>\n",
       "      <td>127.053969</td>\n",
       "      <td>서울특별시 노원구 상계동 1044</td>\n",
       "      <td>서울특별시 노원구 동일로231길 24</td>\n",
       "      <td>None</td>\n",
       "      <td>None</td>\n",
       "      <td>0</td>\n",
       "    </tr>\n",
       "    <tr>\n",
       "      <th>2</th>\n",
       "      <td>37.673140</td>\n",
       "      <td>127.054040</td>\n",
       "      <td>서울특별시 노원구 상계동 1044</td>\n",
       "      <td>서울특별시 노원구 동일로231길 24</td>\n",
       "      <td>None</td>\n",
       "      <td>None</td>\n",
       "      <td>0</td>\n",
       "    </tr>\n",
       "    <tr>\n",
       "      <th>3</th>\n",
       "      <td>37.673158</td>\n",
       "      <td>127.053899</td>\n",
       "      <td>서울특별시 노원구 상계동 1044</td>\n",
       "      <td>서울특별시 노원구 동일로231길 24</td>\n",
       "      <td>None</td>\n",
       "      <td>None</td>\n",
       "      <td>0</td>\n",
       "    </tr>\n",
       "    <tr>\n",
       "      <th>4</th>\n",
       "      <td>37.673174</td>\n",
       "      <td>127.054229</td>\n",
       "      <td>서울특별시 노원구 상계동 1044</td>\n",
       "      <td>서울특별시 노원구 동일로231길 24</td>\n",
       "      <td>None</td>\n",
       "      <td>None</td>\n",
       "      <td>0</td>\n",
       "    </tr>\n",
       "    <tr>\n",
       "      <th>...</th>\n",
       "      <td>...</td>\n",
       "      <td>...</td>\n",
       "      <td>...</td>\n",
       "      <td>...</td>\n",
       "      <td>...</td>\n",
       "      <td>...</td>\n",
       "      <td>...</td>\n",
       "    </tr>\n",
       "    <tr>\n",
       "      <th>1945</th>\n",
       "      <td>37.686223</td>\n",
       "      <td>127.055503</td>\n",
       "      <td>서울특별시 노원구 상계동 1202-1</td>\n",
       "      <td>서울특별시 노원구 동일로 1772</td>\n",
       "      <td>None</td>\n",
       "      <td>None</td>\n",
       "      <td>324</td>\n",
       "    </tr>\n",
       "    <tr>\n",
       "      <th>1946</th>\n",
       "      <td>37.685906</td>\n",
       "      <td>127.055661</td>\n",
       "      <td>서울특별시 노원구 상계동 1202-1</td>\n",
       "      <td>서울특별시 노원구 동일로 1772</td>\n",
       "      <td>None</td>\n",
       "      <td>None</td>\n",
       "      <td>324</td>\n",
       "    </tr>\n",
       "    <tr>\n",
       "      <th>1947</th>\n",
       "      <td>37.685822</td>\n",
       "      <td>127.055937</td>\n",
       "      <td>서울특별시 노원구 상계동 산 12-1</td>\n",
       "      <td>서울특별시 노원구 동일로 1772</td>\n",
       "      <td>None</td>\n",
       "      <td>None</td>\n",
       "      <td>324</td>\n",
       "    </tr>\n",
       "    <tr>\n",
       "      <th>1948</th>\n",
       "      <td>37.686147</td>\n",
       "      <td>127.055588</td>\n",
       "      <td>서울특별시 노원구 상계동 1202-1</td>\n",
       "      <td>서울특별시 노원구 동일로 1772</td>\n",
       "      <td>None</td>\n",
       "      <td>None</td>\n",
       "      <td>324</td>\n",
       "    </tr>\n",
       "    <tr>\n",
       "      <th>1949</th>\n",
       "      <td>37.685694</td>\n",
       "      <td>127.056002</td>\n",
       "      <td>서울특별시 노원구 상계동 산 12-1</td>\n",
       "      <td>서울특별시 노원구 동일로 1772</td>\n",
       "      <td>None</td>\n",
       "      <td>None</td>\n",
       "      <td>324</td>\n",
       "    </tr>\n",
       "  </tbody>\n",
       "</table>\n",
       "<p>1950 rows × 7 columns</p>\n",
       "</div>"
      ],
      "text/plain": [
       "             위도          경도                  지번주소                 도로명주소    이름  \\\n",
       "0     37.673399  127.054256    서울특별시 노원구 상계동 1044  서울특별시 노원구 동일로231길 24  None   \n",
       "1     37.673226  127.053969    서울특별시 노원구 상계동 1044  서울특별시 노원구 동일로231길 24  None   \n",
       "2     37.673140  127.054040    서울특별시 노원구 상계동 1044  서울특별시 노원구 동일로231길 24  None   \n",
       "3     37.673158  127.053899    서울특별시 노원구 상계동 1044  서울특별시 노원구 동일로231길 24  None   \n",
       "4     37.673174  127.054229    서울특별시 노원구 상계동 1044  서울특별시 노원구 동일로231길 24  None   \n",
       "...         ...         ...                   ...                   ...   ...   \n",
       "1945  37.686223  127.055503  서울특별시 노원구 상계동 1202-1    서울특별시 노원구 동일로 1772  None   \n",
       "1946  37.685906  127.055661  서울특별시 노원구 상계동 1202-1    서울특별시 노원구 동일로 1772  None   \n",
       "1947  37.685822  127.055937  서울특별시 노원구 상계동 산 12-1    서울특별시 노원구 동일로 1772  None   \n",
       "1948  37.686147  127.055588  서울특별시 노원구 상계동 1202-1    서울특별시 노원구 동일로 1772  None   \n",
       "1949  37.685694  127.056002  서울특별시 노원구 상계동 산 12-1    서울특별시 노원구 동일로 1772  None   \n",
       "\n",
       "        확률  index  \n",
       "0     None      0  \n",
       "1     None      0  \n",
       "2     None      0  \n",
       "3     None      0  \n",
       "4     None      0  \n",
       "...    ...    ...  \n",
       "1945  None    324  \n",
       "1946  None    324  \n",
       "1947  None    324  \n",
       "1948  None    324  \n",
       "1949  None    324  \n",
       "\n",
       "[1950 rows x 7 columns]"
      ]
     },
     "execution_count": 13,
     "metadata": {},
     "output_type": "execute_result"
    }
   ],
   "source": [
    "police_addr = addr_data(data_path + \"sampled_addr.csv\")\n",
    "police_addr"
   ]
  },
  {
   "cell_type": "markdown",
   "id": "3424db8f",
   "metadata": {},
   "source": [
    "# 건물 이름 크롤링"
   ]
  },
  {
   "cell_type": "markdown",
   "id": "15aba94d",
   "metadata": {},
   "source": [
    "지연 시간(1초), 웹 지도 url(카카오맵) 설정"
   ]
  },
  {
   "cell_type": "code",
   "execution_count": 14,
   "id": "a84b5530",
   "metadata": {},
   "outputs": [],
   "source": [
    "DELAY_TIME = 0.5\n",
    "map_url = \"https://map.kakao.com/\""
   ]
  },
  {
   "cell_type": "markdown",
   "id": "166dafd0",
   "metadata": {},
   "source": [
    "브라우저 드라이버 반환(no 전달시 창 안뜸)"
   ]
  },
  {
   "cell_type": "code",
   "execution_count": 15,
   "id": "2adf907b",
   "metadata": {},
   "outputs": [],
   "source": [
    "def openweb(mode=\"window\"):\n",
    "    if mode == \"no\":\n",
    "        options = wb.ChromeOptions()\n",
    "        options.add_argument('headless')\n",
    "        driver = wb.Chrome(options=options)\n",
    "    else:\n",
    "        driver = wb.Chrome()\n",
    "    driver.get(map_url)\n",
    "    time.sleep(DELAY_TIME)\n",
    "    return driver"
   ]
  },
  {
   "cell_type": "markdown",
   "id": "72d94555",
   "metadata": {},
   "source": [
    "검색어 입력 후 실행"
   ]
  },
  {
   "cell_type": "code",
   "execution_count": 16,
   "id": "8f7a2241",
   "metadata": {},
   "outputs": [],
   "source": [
    "def search(browser, address):\n",
    "    search_box = browser.find_element(By.ID, \"search.keyword.query\")\n",
    "    while search_box.get_attribute(\"value\"):\n",
    "        search_box.send_keys(Keys.CONTROL, 'a')\n",
    "        search_box.send_keys(Keys.BACKSPACE)\n",
    "    search_box.send_keys(address)\n",
    "    search_box.send_keys(Keys.RETURN)\n",
    "    time.sleep(DELAY_TIME)"
   ]
  },
  {
   "cell_type": "markdown",
   "id": "85d0522b",
   "metadata": {},
   "source": [
    "### 크롤링 함수\n",
    "\n",
    "도로나 강 야외의 경우 지번주소는 있지만 우편번호가 없다\n",
    "\n",
    "지번주소 먼저 검색 -> 야외 분류\n",
    "\n",
    "우편번호 있으면 -> 도로명주소 검색\n",
    "\n",
    "건물이름 뜨면 -> 이름 반환\n",
    "\n",
    "안뜨면 -> 우편번호 반환"
   ]
  },
  {
   "cell_type": "code",
   "execution_count": 17,
   "id": "be4737e5",
   "metadata": {},
   "outputs": [],
   "source": [
    "def find_name(browser, addr, road_addr):\n",
    "    if \"산\" in addr:\n",
    "        return \"산\"\n",
    "    if \"지하\" in road_addr:\n",
    "        return \"지하철\"\n",
    "    search(browser, addr)\n",
    "    try:\n",
    "        postage = browser.find_element(By.CLASS_NAME, \"zip\")\n",
    "    except NoSuchElementException:\n",
    "        return \"nozip\"\n",
    "    else:\n",
    "        postnum = postage.text\n",
    "        search(browser, road_addr)\n",
    "        try:\n",
    "            buildname = browser.find_element(By.CLASS_NAME, \"building\")\n",
    "        except NoSuchElementException:\n",
    "            return postnum\n",
    "        else:\n",
    "            return buildname.text"
   ]
  },
  {
   "cell_type": "markdown",
   "id": "cfa4a466",
   "metadata": {},
   "source": [
    "주소 전부 검색 후 csv로 내보내기"
   ]
  },
  {
   "cell_type": "code",
   "execution_count": 18,
   "id": "672635dd",
   "metadata": {},
   "outputs": [],
   "source": [
    "def search_to_csv(browser, data, file_path):\n",
    "    for i in range(len(data.index)):\n",
    "        data.iloc[i, 4] = find_name(browser, data.iloc[i, 2], data.iloc[i, 3])\n",
    "    data.to_csv(file_path, index=False, encoding=encoding)"
   ]
  },
  {
   "cell_type": "code",
   "execution_count": 19,
   "id": "1c1e5319",
   "metadata": {},
   "outputs": [],
   "source": [
    "#browser = openweb(\"no\")\n",
    "#search_to_csv(browser, police_addr, data_path+\"sampled_name.csv\")"
   ]
  },
  {
   "cell_type": "markdown",
   "id": "2487d269",
   "metadata": {},
   "source": [
    "### 이름을 토대로 유형 분류, 확률 점수 부여"
   ]
  },
  {
   "cell_type": "code",
   "execution_count": 20,
   "id": "17252017",
   "metadata": {},
   "outputs": [
    {
     "data": {
      "text/plain": [
       "{'(우) 01319',\n",
       " '(우) 01320',\n",
       " '(우) 01321',\n",
       " '(우) 01322',\n",
       " '(우) 01323',\n",
       " '(우) 01604',\n",
       " '(우) 01605',\n",
       " '(우) 01606',\n",
       " '(우) 01607',\n",
       " '(우) 01608',\n",
       " '(우) 01609',\n",
       " '(우) 01610',\n",
       " '(우) 01611',\n",
       " '(우) 01612',\n",
       " '(우) 01613',\n",
       " '(우) 01621',\n",
       " '(우) 01622',\n",
       " '(우) 01623',\n",
       " '(우) 01625',\n",
       " '(우) 01626',\n",
       " '(우) 01628',\n",
       " '(우) 01629',\n",
       " '(우) 01630',\n",
       " 'D.S 아파트',\n",
       " 'K마트',\n",
       " 'nozip',\n",
       " '가람아트빌',\n",
       " '가로판매대',\n",
       " '갈월경로회',\n",
       " '경서아트빌',\n",
       " '광산산업',\n",
       " '극동아파트',\n",
       " '기아자동차서비스도봉사업소',\n",
       " '남광하이빌',\n",
       " '노원교회',\n",
       " '노원어린이집',\n",
       " '노일중학교',\n",
       " '노일초등학교',\n",
       " '달뜨는마을빌라',\n",
       " '대망드림힐아파트',\n",
       " '대성빌딩',\n",
       " '대원파크빌',\n",
       " '대은빌딩',\n",
       " '대한빌딩',\n",
       " '덕산맨션',\n",
       " '도봉2 파출소',\n",
       " '도봉기적의도서관',\n",
       " '도봉동 실내스포츠센터',\n",
       " '도봉파크빌2단지',\n",
       " '도봉한신아파트',\n",
       " '도우로펌타워',\n",
       " '동명빌딩',\n",
       " '동아에코빌아파트',\n",
       " '동일씨티빌',\n",
       " '두산아파트',\n",
       " '래미안도봉아파트',\n",
       " '롯데리아',\n",
       " '리언하우스',\n",
       " '마포갈비',\n",
       " '바이크종합매장',\n",
       " '보성빌딩',\n",
       " '북경짜장',\n",
       " '북부종합사회복지관',\n",
       " '북부현대아파트',\n",
       " '비콘드림힐아파트',\n",
       " '사랑요양병원',\n",
       " '산',\n",
       " '삼덕빌딩',\n",
       " '삼보빌라',\n",
       " '삼성디지털센터',\n",
       " '삼성아파트',\n",
       " '삼성타운',\n",
       " '삼천리',\n",
       " '삼호아트빌',\n",
       " '삼환도봉아파트',\n",
       " '상계1동우체국',\n",
       " '상계1동주민센터',\n",
       " '상계1파출소',\n",
       " '상계공업사',\n",
       " '상계대림아파트',\n",
       " '상계동 마을회관',\n",
       " '상계동강강술래',\n",
       " '상계빌딩',\n",
       " '상계성모정형외과의원',\n",
       " '상계충신교회',\n",
       " '상록수2단지아파트',\n",
       " '상록수아파트',\n",
       " '상원빌딩',\n",
       " '새온교회',\n",
       " '서광아파트',\n",
       " '서울북부지방법원',\n",
       " '서울수락초등학교',\n",
       " '서울해장국',\n",
       " '서원아파트',\n",
       " '성균관대학교종합운동장',\n",
       " '성원빌딩',\n",
       " '성지상계빌라',\n",
       " '송천감리교회',\n",
       " '수락119안전센터',\n",
       " '수락고등학교',\n",
       " '수락네스트죤',\n",
       " '수락리버시티 3단지',\n",
       " '수락리버시티4단지',\n",
       " '수락산 늘푸른아파트',\n",
       " '수락산벨리체아파트',\n",
       " '수락산역',\n",
       " '수락아트빌',\n",
       " '수락중학교',\n",
       " '수락파크빌아파트',\n",
       " '수락프라자',\n",
       " '수락한신아파트',\n",
       " '수락현대아파트',\n",
       " '스위트리아',\n",
       " '스토빌',\n",
       " '시온6동',\n",
       " '시온빌리지',\n",
       " '신영산업빌딩',\n",
       " '신일아트빌',\n",
       " '쎄레또레',\n",
       " '아트빌',\n",
       " '양우내안애아파트',\n",
       " '양지그린빌라',\n",
       " '에덴하우스',\n",
       " '엘지 그랑빌',\n",
       " '영창악기',\n",
       " '예은교회',\n",
       " '오복주택',\n",
       " '우림루미아트',\n",
       " '우영팰리스빌',\n",
       " '우진빌라',\n",
       " '월드쉐르빌',\n",
       " '유성상가',\n",
       " '유성파크빌라',\n",
       " '유원도봉아파트',\n",
       " '윤일빌딩',\n",
       " '은빛1단지아파트',\n",
       " '은빛2단지아파트',\n",
       " '은빛3단지아파트',\n",
       " '은혜선교유아교실',\n",
       " '일석빌딩',\n",
       " '일성운수, 일신교통',\n",
       " '일신교통',\n",
       " '정우빌라',\n",
       " '정원베스빌',\n",
       " '주공아파트',\n",
       " '창일빌딩',\n",
       " '천주교 수락교회',\n",
       " '청솔아파트',\n",
       " '춘천닭갈비',\n",
       " '태정빌딩',\n",
       " '터주대감',\n",
       " '토마토파르코',\n",
       " '통일상가',\n",
       " '티에프그룹빌딩',\n",
       " '하나님의교회세계복음선교협회',\n",
       " '하이마트',\n",
       " '하이베라스',\n",
       " '학교법인 덕성학원 상계동 복합시설',\n",
       " '한국도심공항터미널',\n",
       " '한밭법조타워',\n",
       " '한사랑메디컬빌딩',\n",
       " '한솔빌라',\n",
       " '한신실업사',\n",
       " '한올빌딩',\n",
       " '해밀1동',\n",
       " '해밀2동',\n",
       " '홍파복지원',\n",
       " '황해부동산',\n",
       " '희성오피앙',\n",
       " '힐스테이트 도봉역 웰가'}"
      ]
     },
     "execution_count": 20,
     "metadata": {},
     "output_type": "execute_result"
    }
   ],
   "source": [
    "police_per = pd.read_csv(data_path + \"sampled_name.csv\", encoding=encoding)\n",
    "set(police_per[\"이름\"])"
   ]
  },
  {
   "cell_type": "markdown",
   "id": "8bf63ea4",
   "metadata": {},
   "source": [
    "장소 분류에 따른 범죄확률"
   ]
  },
  {
   "cell_type": "code",
   "execution_count": 21,
   "id": "d89c821b",
   "metadata": {},
   "outputs": [
    {
     "data": {
      "text/html": [
       "<div>\n",
       "<style scoped>\n",
       "    .dataframe tbody tr th:only-of-type {\n",
       "        vertical-align: middle;\n",
       "    }\n",
       "\n",
       "    .dataframe tbody tr th {\n",
       "        vertical-align: top;\n",
       "    }\n",
       "\n",
       "    .dataframe thead th {\n",
       "        text-align: right;\n",
       "    }\n",
       "</style>\n",
       "<table border=\"1\" class=\"dataframe\">\n",
       "  <thead>\n",
       "    <tr style=\"text-align: right;\">\n",
       "      <th></th>\n",
       "      <th>공업</th>\n",
       "      <th>공원</th>\n",
       "      <th>교통</th>\n",
       "      <th>기타</th>\n",
       "      <th>사무</th>\n",
       "      <th>숙박</th>\n",
       "      <th>상업</th>\n",
       "      <th>아파트</th>\n",
       "      <th>야외</th>\n",
       "      <th>유흥</th>\n",
       "      <th>의료</th>\n",
       "      <th>종교</th>\n",
       "      <th>주택</th>\n",
       "      <th>학교</th>\n",
       "    </tr>\n",
       "  </thead>\n",
       "  <tbody>\n",
       "    <tr>\n",
       "      <th>0</th>\n",
       "      <td>0.00583</td>\n",
       "      <td>0.010653</td>\n",
       "      <td>0.043463</td>\n",
       "      <td>0.180887</td>\n",
       "      <td>0.025199</td>\n",
       "      <td>0.010841</td>\n",
       "      <td>0.123032</td>\n",
       "      <td>0.108198</td>\n",
       "      <td>0.324937</td>\n",
       "      <td>0.065698</td>\n",
       "      <td>0.007179</td>\n",
       "      <td>0.001892</td>\n",
       "      <td>0.087457</td>\n",
       "      <td>0.004735</td>\n",
       "    </tr>\n",
       "  </tbody>\n",
       "</table>\n",
       "</div>"
      ],
      "text/plain": [
       "        공업        공원        교통        기타        사무        숙박        상업  \\\n",
       "0  0.00583  0.010653  0.043463  0.180887  0.025199  0.010841  0.123032   \n",
       "\n",
       "        아파트        야외        유흥        의료        종교        주택        학교  \n",
       "0  0.108198  0.324937  0.065698  0.007179  0.001892  0.087457  0.004735  "
      ]
     },
     "execution_count": 21,
     "metadata": {},
     "output_type": "execute_result"
    }
   ],
   "source": [
    "crime_per = pd.read_csv(data_path+\"processed_crime.csv\", encoding=encoding)\n",
    "crime_per"
   ]
  },
  {
   "cell_type": "markdown",
   "id": "dee09179",
   "metadata": {},
   "source": [
    "분류 결과를 바탕으로 이름이 어떤유형인지 분류"
   ]
  },
  {
   "cell_type": "code",
   "execution_count": 22,
   "id": "5783d18c",
   "metadata": {},
   "outputs": [],
   "source": [
    "def namespace(file_path):\n",
    "    space = dict()\n",
    "    with open(file_path, 'r', encoding='UTF8') as file:\n",
    "        for i in file:\n",
    "            temp=i.split(\" - \")\n",
    "            space[temp[0]] = temp[1].strip()\n",
    "    return space"
   ]
  },
  {
   "cell_type": "markdown",
   "id": "d962a119",
   "metadata": {},
   "source": [
    "자료에 맞춰 확률 계산후 대입"
   ]
  },
  {
   "cell_type": "code",
   "execution_count": 23,
   "id": "e4dd4035",
   "metadata": {},
   "outputs": [],
   "source": [
    "def insert_percentage(file_path, addr_data):\n",
    "    space = namespace(file_path)\n",
    "    for i in space:\n",
    "        addr_data.loc[addr_data[\"이름\"]==i, \"확률\"] = crime_per.loc[0, space[i]]"
   ]
  },
  {
   "cell_type": "code",
   "execution_count": 24,
   "id": "876e438a",
   "metadata": {},
   "outputs": [
    {
     "data": {
      "text/html": [
       "<div>\n",
       "<style scoped>\n",
       "    .dataframe tbody tr th:only-of-type {\n",
       "        vertical-align: middle;\n",
       "    }\n",
       "\n",
       "    .dataframe tbody tr th {\n",
       "        vertical-align: top;\n",
       "    }\n",
       "\n",
       "    .dataframe thead th {\n",
       "        text-align: right;\n",
       "    }\n",
       "</style>\n",
       "<table border=\"1\" class=\"dataframe\">\n",
       "  <thead>\n",
       "    <tr style=\"text-align: right;\">\n",
       "      <th></th>\n",
       "      <th>위도</th>\n",
       "      <th>경도</th>\n",
       "      <th>지번주소</th>\n",
       "      <th>도로명주소</th>\n",
       "      <th>이름</th>\n",
       "      <th>확률</th>\n",
       "      <th>index</th>\n",
       "    </tr>\n",
       "  </thead>\n",
       "  <tbody>\n",
       "    <tr>\n",
       "      <th>0</th>\n",
       "      <td>37.673399</td>\n",
       "      <td>127.054256</td>\n",
       "      <td>서울특별시 노원구 상계동 1044</td>\n",
       "      <td>서울특별시 노원구 동일로231길 24</td>\n",
       "      <td>노일중학교</td>\n",
       "      <td>0.004735</td>\n",
       "      <td>0</td>\n",
       "    </tr>\n",
       "    <tr>\n",
       "      <th>1</th>\n",
       "      <td>37.673226</td>\n",
       "      <td>127.053969</td>\n",
       "      <td>서울특별시 노원구 상계동 1044</td>\n",
       "      <td>서울특별시 노원구 동일로231길 24</td>\n",
       "      <td>노일중학교</td>\n",
       "      <td>0.004735</td>\n",
       "      <td>0</td>\n",
       "    </tr>\n",
       "    <tr>\n",
       "      <th>2</th>\n",
       "      <td>37.673140</td>\n",
       "      <td>127.054040</td>\n",
       "      <td>서울특별시 노원구 상계동 1044</td>\n",
       "      <td>서울특별시 노원구 동일로231길 24</td>\n",
       "      <td>노일중학교</td>\n",
       "      <td>0.004735</td>\n",
       "      <td>0</td>\n",
       "    </tr>\n",
       "    <tr>\n",
       "      <th>3</th>\n",
       "      <td>37.673158</td>\n",
       "      <td>127.053899</td>\n",
       "      <td>서울특별시 노원구 상계동 1044</td>\n",
       "      <td>서울특별시 노원구 동일로231길 24</td>\n",
       "      <td>노일중학교</td>\n",
       "      <td>0.004735</td>\n",
       "      <td>0</td>\n",
       "    </tr>\n",
       "    <tr>\n",
       "      <th>4</th>\n",
       "      <td>37.673174</td>\n",
       "      <td>127.054229</td>\n",
       "      <td>서울특별시 노원구 상계동 1044</td>\n",
       "      <td>서울특별시 노원구 동일로231길 24</td>\n",
       "      <td>노일중학교</td>\n",
       "      <td>0.004735</td>\n",
       "      <td>0</td>\n",
       "    </tr>\n",
       "    <tr>\n",
       "      <th>...</th>\n",
       "      <td>...</td>\n",
       "      <td>...</td>\n",
       "      <td>...</td>\n",
       "      <td>...</td>\n",
       "      <td>...</td>\n",
       "      <td>...</td>\n",
       "      <td>...</td>\n",
       "    </tr>\n",
       "    <tr>\n",
       "      <th>1945</th>\n",
       "      <td>37.686223</td>\n",
       "      <td>127.055503</td>\n",
       "      <td>서울특별시 노원구 상계동 1202-1</td>\n",
       "      <td>서울특별시 노원구 동일로 1772</td>\n",
       "      <td>nozip</td>\n",
       "      <td>0.324937</td>\n",
       "      <td>324</td>\n",
       "    </tr>\n",
       "    <tr>\n",
       "      <th>1946</th>\n",
       "      <td>37.685906</td>\n",
       "      <td>127.055661</td>\n",
       "      <td>서울특별시 노원구 상계동 1202-1</td>\n",
       "      <td>서울특별시 노원구 동일로 1772</td>\n",
       "      <td>nozip</td>\n",
       "      <td>0.324937</td>\n",
       "      <td>324</td>\n",
       "    </tr>\n",
       "    <tr>\n",
       "      <th>1947</th>\n",
       "      <td>37.685822</td>\n",
       "      <td>127.055937</td>\n",
       "      <td>서울특별시 노원구 상계동 산 12-1</td>\n",
       "      <td>서울특별시 노원구 동일로 1772</td>\n",
       "      <td>산</td>\n",
       "      <td>0.324937</td>\n",
       "      <td>324</td>\n",
       "    </tr>\n",
       "    <tr>\n",
       "      <th>1948</th>\n",
       "      <td>37.686147</td>\n",
       "      <td>127.055588</td>\n",
       "      <td>서울특별시 노원구 상계동 1202-1</td>\n",
       "      <td>서울특별시 노원구 동일로 1772</td>\n",
       "      <td>nozip</td>\n",
       "      <td>0.324937</td>\n",
       "      <td>324</td>\n",
       "    </tr>\n",
       "    <tr>\n",
       "      <th>1949</th>\n",
       "      <td>37.685694</td>\n",
       "      <td>127.056002</td>\n",
       "      <td>서울특별시 노원구 상계동 산 12-1</td>\n",
       "      <td>서울특별시 노원구 동일로 1772</td>\n",
       "      <td>산</td>\n",
       "      <td>0.324937</td>\n",
       "      <td>324</td>\n",
       "    </tr>\n",
       "  </tbody>\n",
       "</table>\n",
       "<p>1950 rows × 7 columns</p>\n",
       "</div>"
      ],
      "text/plain": [
       "             위도          경도                  지번주소                 도로명주소  \\\n",
       "0     37.673399  127.054256    서울특별시 노원구 상계동 1044  서울특별시 노원구 동일로231길 24   \n",
       "1     37.673226  127.053969    서울특별시 노원구 상계동 1044  서울특별시 노원구 동일로231길 24   \n",
       "2     37.673140  127.054040    서울특별시 노원구 상계동 1044  서울특별시 노원구 동일로231길 24   \n",
       "3     37.673158  127.053899    서울특별시 노원구 상계동 1044  서울특별시 노원구 동일로231길 24   \n",
       "4     37.673174  127.054229    서울특별시 노원구 상계동 1044  서울특별시 노원구 동일로231길 24   \n",
       "...         ...         ...                   ...                   ...   \n",
       "1945  37.686223  127.055503  서울특별시 노원구 상계동 1202-1    서울특별시 노원구 동일로 1772   \n",
       "1946  37.685906  127.055661  서울특별시 노원구 상계동 1202-1    서울특별시 노원구 동일로 1772   \n",
       "1947  37.685822  127.055937  서울특별시 노원구 상계동 산 12-1    서울특별시 노원구 동일로 1772   \n",
       "1948  37.686147  127.055588  서울특별시 노원구 상계동 1202-1    서울특별시 노원구 동일로 1772   \n",
       "1949  37.685694  127.056002  서울특별시 노원구 상계동 산 12-1    서울특별시 노원구 동일로 1772   \n",
       "\n",
       "         이름        확률  index  \n",
       "0     노일중학교  0.004735      0  \n",
       "1     노일중학교  0.004735      0  \n",
       "2     노일중학교  0.004735      0  \n",
       "3     노일중학교  0.004735      0  \n",
       "4     노일중학교  0.004735      0  \n",
       "...     ...       ...    ...  \n",
       "1945  nozip  0.324937    324  \n",
       "1946  nozip  0.324937    324  \n",
       "1947      산  0.324937    324  \n",
       "1948  nozip  0.324937    324  \n",
       "1949      산  0.324937    324  \n",
       "\n",
       "[1950 rows x 7 columns]"
      ]
     },
     "execution_count": 24,
     "metadata": {},
     "output_type": "execute_result"
    }
   ],
   "source": [
    "insert_percentage(data_path + \"상계1_name_category.txt\", police_per)       \n",
    "police_per"
   ]
  },
  {
   "cell_type": "markdown",
   "id": "ef7f12fb",
   "metadata": {},
   "source": [
    "동일 지역에서 샘플된 데이터끼리 확률 합 구하고 격자점 데이터에 새로운 열로 추가"
   ]
  },
  {
   "cell_type": "code",
   "execution_count": 25,
   "id": "bb6ce4c2",
   "metadata": {},
   "outputs": [],
   "source": [
    "def insert_location(grid, percentage_data):\n",
    "    score = percentage_data[[\"index\", \"확률\"]].groupby(\"index\").mean()\n",
    "    grid[\"location\"] = score"
   ]
  },
  {
   "cell_type": "code",
   "execution_count": 26,
   "id": "f191c7bc",
   "metadata": {},
   "outputs": [
    {
     "data": {
      "text/html": [
       "<div>\n",
       "<style scoped>\n",
       "    .dataframe tbody tr th:only-of-type {\n",
       "        vertical-align: middle;\n",
       "    }\n",
       "\n",
       "    .dataframe tbody tr th {\n",
       "        vertical-align: top;\n",
       "    }\n",
       "\n",
       "    .dataframe thead th {\n",
       "        text-align: right;\n",
       "    }\n",
       "</style>\n",
       "<table border=\"1\" class=\"dataframe\">\n",
       "  <thead>\n",
       "    <tr style=\"text-align: right;\">\n",
       "      <th></th>\n",
       "      <th>위도</th>\n",
       "      <th>경도</th>\n",
       "      <th>location</th>\n",
       "    </tr>\n",
       "  </thead>\n",
       "  <tbody>\n",
       "    <tr>\n",
       "      <th>0</th>\n",
       "      <td>37.673399</td>\n",
       "      <td>127.054256</td>\n",
       "      <td>0.004735</td>\n",
       "    </tr>\n",
       "    <tr>\n",
       "      <th>1</th>\n",
       "      <td>37.673399</td>\n",
       "      <td>127.055066</td>\n",
       "      <td>0.004735</td>\n",
       "    </tr>\n",
       "    <tr>\n",
       "      <th>2</th>\n",
       "      <td>37.673399</td>\n",
       "      <td>127.055876</td>\n",
       "      <td>0.184405</td>\n",
       "    </tr>\n",
       "    <tr>\n",
       "      <th>3</th>\n",
       "      <td>37.674029</td>\n",
       "      <td>127.051826</td>\n",
       "      <td>0.127037</td>\n",
       "    </tr>\n",
       "    <tr>\n",
       "      <th>4</th>\n",
       "      <td>37.674029</td>\n",
       "      <td>127.052636</td>\n",
       "      <td>0.145864</td>\n",
       "    </tr>\n",
       "    <tr>\n",
       "      <th>...</th>\n",
       "      <td>...</td>\n",
       "      <td>...</td>\n",
       "      <td>...</td>\n",
       "    </tr>\n",
       "    <tr>\n",
       "      <th>320</th>\n",
       "      <td>37.685369</td>\n",
       "      <td>127.057496</td>\n",
       "      <td>0.324937</td>\n",
       "    </tr>\n",
       "    <tr>\n",
       "      <th>321</th>\n",
       "      <td>37.685369</td>\n",
       "      <td>127.058306</td>\n",
       "      <td>0.324937</td>\n",
       "    </tr>\n",
       "    <tr>\n",
       "      <th>322</th>\n",
       "      <td>37.685999</td>\n",
       "      <td>127.054256</td>\n",
       "      <td>0.144321</td>\n",
       "    </tr>\n",
       "    <tr>\n",
       "      <th>323</th>\n",
       "      <td>37.685999</td>\n",
       "      <td>127.055066</td>\n",
       "      <td>0.288814</td>\n",
       "    </tr>\n",
       "    <tr>\n",
       "      <th>324</th>\n",
       "      <td>37.685999</td>\n",
       "      <td>127.055876</td>\n",
       "      <td>0.324937</td>\n",
       "    </tr>\n",
       "  </tbody>\n",
       "</table>\n",
       "<p>325 rows × 3 columns</p>\n",
       "</div>"
      ],
      "text/plain": [
       "            위도          경도  location\n",
       "0    37.673399  127.054256  0.004735\n",
       "1    37.673399  127.055066  0.004735\n",
       "2    37.673399  127.055876  0.184405\n",
       "3    37.674029  127.051826  0.127037\n",
       "4    37.674029  127.052636  0.145864\n",
       "..         ...         ...       ...\n",
       "320  37.685369  127.057496  0.324937\n",
       "321  37.685369  127.058306  0.324937\n",
       "322  37.685999  127.054256  0.144321\n",
       "323  37.685999  127.055066  0.288814\n",
       "324  37.685999  127.055876  0.324937\n",
       "\n",
       "[325 rows x 3 columns]"
      ]
     },
     "execution_count": 26,
     "metadata": {},
     "output_type": "execute_result"
    }
   ],
   "source": [
    "insert_location(police_grid, police_per)\n",
    "police_grid"
   ]
  },
  {
   "cell_type": "markdown",
   "id": "8a682f22",
   "metadata": {},
   "source": [
    "# 시설물 데이터 이용\n",
    "\n",
    "시설물 점수 기준\n",
    "\n",
    "시설물 밀도 계산 => 격자점 반경 내 개수 / 전체 범위 내 개수\n",
    "\n",
    "이때 데이터를 순찰반경에 맞게 필터링해 쓸 것이므로 전체 범위 개수는 필터링된 데이터프레임의 행 개수이다\n",
    "\n",
    "긍정적 시설(cctv 등)일 경우 밀도 뺌\n",
    "\n",
    "부정적 시설(유흥업소 등)일 경우 밀도 더함"
   ]
  },
  {
   "cell_type": "markdown",
   "id": "3942d901",
   "metadata": {},
   "source": [
    "### 데이터 준비\n",
    "\n",
    "안심시설물, cctv, 보안등 유흥업소\n",
    "\n",
    "전체데이터는 너무 많으므로 filtering() 이용\n",
    "\n",
    "긍정요소, 부정요소 정의"
   ]
  },
  {
   "cell_type": "code",
   "execution_count": 27,
   "id": "6510ebe8",
   "metadata": {},
   "outputs": [],
   "source": [
    "failcity_data = {\"ansim\" : pd.read_csv(data_path+\"processed_ansim.csv\", encoding=encoding),\n",
    "                 \"cctv\"  : pd.read_csv(data_path+\"processed_cctv.csv\", encoding=encoding),\n",
    "                 \"light\" : pd.read_csv(data_path+\"processed_light.csv\", encoding=encoding),\n",
    "                 \"salon\" : pd.read_csv(data_path+\"processed_salon.csv\", encoding=encoding),}\n",
    "for k, v in failcity_data.items():\n",
    "    failcity_data[k]=filtering(v,police)\n",
    "    \n",
    "positive = [\"ansim\", \"cctv\", \"light\"]\n",
    "negative = [\"salon\"]"
   ]
  },
  {
   "cell_type": "markdown",
   "id": "a6317686",
   "metadata": {},
   "source": [
    "해당 범위 안에 목표물이 몇개 있는가?"
   ]
  },
  {
   "cell_type": "code",
   "execution_count": 28,
   "id": "ad31e724",
   "metadata": {},
   "outputs": [],
   "source": [
    "def location_count(data, location):\n",
    "    ns_min = location.iloc[0] - GRID_DIFF/2*NS_DIFF_1M\n",
    "    ns_max = location.iloc[0] + GRID_DIFF/2*NS_DIFF_1M\n",
    "    ew_min = location.iloc[1] - GRID_DIFF/2*EW_DIFF_1M\n",
    "    ew_max = location.iloc[1] + GRID_DIFF/2*EW_DIFF_1M\n",
    "    return len(data.loc[(data[\"위도\"] >= ns_min)&\n",
    "                         (data[\"위도\"] <= ns_max)&\n",
    "                         (data[\"경도\"] >= ew_min)&\n",
    "                         (data[\"경도\"] <= ew_max) , :].index)"
   ]
  },
  {
   "cell_type": "markdown",
   "id": "2bd02d1b",
   "metadata": {},
   "source": [
    "격자점 데이터에 시설 밀도 열 추가하는 함수"
   ]
  },
  {
   "cell_type": "code",
   "execution_count": 29,
   "id": "197c70c7",
   "metadata": {},
   "outputs": [],
   "source": [
    "def insert_facility(grid, data):\n",
    "    for k, v in data.items():\n",
    "        for i in grid.index:\n",
    "            grid.loc[i, k] = location_count(v, grid.loc[i, [\"위도\", \"경도\"]])\n",
    "        total = grid.loc[:, k].sum()\n",
    "        if total != 0:\n",
    "            grid.loc[:, k] /= grid.loc[:, k].sum()\n",
    "        else:\n",
    "            grid.loc[:, k] = 0"
   ]
  },
  {
   "cell_type": "markdown",
   "id": "71acc5df",
   "metadata": {},
   "source": [
    "밀도를 토대로 점수 계산"
   ]
  },
  {
   "cell_type": "code",
   "execution_count": 30,
   "id": "214cce35",
   "metadata": {},
   "outputs": [],
   "source": [
    "def score(grid):\n",
    "    grid[\"score\"] = grid[\"location\"]\n",
    "    grid.drop(columns=[\"location\"], inplace=True)\n",
    "    for k in failcity_data.keys():\n",
    "        mode = -1 if k in positive else 1\n",
    "        grid[\"score\"] += mode*grid[k]\n",
    "        grid.drop(columns=[k], inplace=True)"
   ]
  },
  {
   "cell_type": "markdown",
   "id": "049cdeb1",
   "metadata": {},
   "source": [
    "밀도 계산후 열로 추가"
   ]
  },
  {
   "cell_type": "code",
   "execution_count": 31,
   "id": "9bc5751a",
   "metadata": {
    "scrolled": true
   },
   "outputs": [
    {
     "data": {
      "text/html": [
       "<div>\n",
       "<style scoped>\n",
       "    .dataframe tbody tr th:only-of-type {\n",
       "        vertical-align: middle;\n",
       "    }\n",
       "\n",
       "    .dataframe tbody tr th {\n",
       "        vertical-align: top;\n",
       "    }\n",
       "\n",
       "    .dataframe thead th {\n",
       "        text-align: right;\n",
       "    }\n",
       "</style>\n",
       "<table border=\"1\" class=\"dataframe\">\n",
       "  <thead>\n",
       "    <tr style=\"text-align: right;\">\n",
       "      <th></th>\n",
       "      <th>위도</th>\n",
       "      <th>경도</th>\n",
       "      <th>location</th>\n",
       "      <th>ansim</th>\n",
       "      <th>cctv</th>\n",
       "      <th>light</th>\n",
       "      <th>salon</th>\n",
       "    </tr>\n",
       "  </thead>\n",
       "  <tbody>\n",
       "    <tr>\n",
       "      <th>0</th>\n",
       "      <td>37.673399</td>\n",
       "      <td>127.054256</td>\n",
       "      <td>0.004735</td>\n",
       "      <td>0.0</td>\n",
       "      <td>0.000000</td>\n",
       "      <td>0.003187</td>\n",
       "      <td>0.0</td>\n",
       "    </tr>\n",
       "    <tr>\n",
       "      <th>1</th>\n",
       "      <td>37.673399</td>\n",
       "      <td>127.055066</td>\n",
       "      <td>0.004735</td>\n",
       "      <td>0.0</td>\n",
       "      <td>0.056962</td>\n",
       "      <td>0.000000</td>\n",
       "      <td>0.0</td>\n",
       "    </tr>\n",
       "    <tr>\n",
       "      <th>2</th>\n",
       "      <td>37.673399</td>\n",
       "      <td>127.055876</td>\n",
       "      <td>0.184405</td>\n",
       "      <td>0.0</td>\n",
       "      <td>0.025316</td>\n",
       "      <td>0.003187</td>\n",
       "      <td>0.0</td>\n",
       "    </tr>\n",
       "    <tr>\n",
       "      <th>3</th>\n",
       "      <td>37.674029</td>\n",
       "      <td>127.051826</td>\n",
       "      <td>0.127037</td>\n",
       "      <td>0.0</td>\n",
       "      <td>0.012658</td>\n",
       "      <td>0.022351</td>\n",
       "      <td>0.0</td>\n",
       "    </tr>\n",
       "    <tr>\n",
       "      <th>4</th>\n",
       "      <td>37.674029</td>\n",
       "      <td>127.052636</td>\n",
       "      <td>0.145864</td>\n",
       "      <td>0.0</td>\n",
       "      <td>0.012658</td>\n",
       "      <td>0.022308</td>\n",
       "      <td>0.0</td>\n",
       "    </tr>\n",
       "    <tr>\n",
       "      <th>...</th>\n",
       "      <td>...</td>\n",
       "      <td>...</td>\n",
       "      <td>...</td>\n",
       "      <td>...</td>\n",
       "      <td>...</td>\n",
       "      <td>...</td>\n",
       "      <td>...</td>\n",
       "    </tr>\n",
       "    <tr>\n",
       "      <th>320</th>\n",
       "      <td>37.685369</td>\n",
       "      <td>127.057496</td>\n",
       "      <td>0.324937</td>\n",
       "      <td>0.0</td>\n",
       "      <td>0.000000</td>\n",
       "      <td>0.000000</td>\n",
       "      <td>0.0</td>\n",
       "    </tr>\n",
       "    <tr>\n",
       "      <th>321</th>\n",
       "      <td>37.685369</td>\n",
       "      <td>127.058306</td>\n",
       "      <td>0.324937</td>\n",
       "      <td>0.0</td>\n",
       "      <td>0.000000</td>\n",
       "      <td>0.000000</td>\n",
       "      <td>0.0</td>\n",
       "    </tr>\n",
       "    <tr>\n",
       "      <th>322</th>\n",
       "      <td>37.685999</td>\n",
       "      <td>127.054256</td>\n",
       "      <td>0.144321</td>\n",
       "      <td>0.0</td>\n",
       "      <td>0.000000</td>\n",
       "      <td>0.000000</td>\n",
       "      <td>0.0</td>\n",
       "    </tr>\n",
       "    <tr>\n",
       "      <th>323</th>\n",
       "      <td>37.685999</td>\n",
       "      <td>127.055066</td>\n",
       "      <td>0.288814</td>\n",
       "      <td>0.0</td>\n",
       "      <td>0.000000</td>\n",
       "      <td>0.000000</td>\n",
       "      <td>0.0</td>\n",
       "    </tr>\n",
       "    <tr>\n",
       "      <th>324</th>\n",
       "      <td>37.685999</td>\n",
       "      <td>127.055876</td>\n",
       "      <td>0.324937</td>\n",
       "      <td>0.0</td>\n",
       "      <td>0.000000</td>\n",
       "      <td>0.000000</td>\n",
       "      <td>0.0</td>\n",
       "    </tr>\n",
       "  </tbody>\n",
       "</table>\n",
       "<p>325 rows × 7 columns</p>\n",
       "</div>"
      ],
      "text/plain": [
       "            위도          경도  location  ansim      cctv     light  salon\n",
       "0    37.673399  127.054256  0.004735    0.0  0.000000  0.003187    0.0\n",
       "1    37.673399  127.055066  0.004735    0.0  0.056962  0.000000    0.0\n",
       "2    37.673399  127.055876  0.184405    0.0  0.025316  0.003187    0.0\n",
       "3    37.674029  127.051826  0.127037    0.0  0.012658  0.022351    0.0\n",
       "4    37.674029  127.052636  0.145864    0.0  0.012658  0.022308    0.0\n",
       "..         ...         ...       ...    ...       ...       ...    ...\n",
       "320  37.685369  127.057496  0.324937    0.0  0.000000  0.000000    0.0\n",
       "321  37.685369  127.058306  0.324937    0.0  0.000000  0.000000    0.0\n",
       "322  37.685999  127.054256  0.144321    0.0  0.000000  0.000000    0.0\n",
       "323  37.685999  127.055066  0.288814    0.0  0.000000  0.000000    0.0\n",
       "324  37.685999  127.055876  0.324937    0.0  0.000000  0.000000    0.0\n",
       "\n",
       "[325 rows x 7 columns]"
      ]
     },
     "execution_count": 31,
     "metadata": {},
     "output_type": "execute_result"
    }
   ],
   "source": [
    "insert_facility(police_grid, failcity_data)\n",
    "police_grid"
   ]
  },
  {
   "cell_type": "markdown",
   "id": "b645ed85",
   "metadata": {},
   "source": [
    "점수 계산후 위경도, 점수 열만 남기기"
   ]
  },
  {
   "cell_type": "code",
   "execution_count": 32,
   "id": "a6a146e3",
   "metadata": {},
   "outputs": [
    {
     "data": {
      "text/html": [
       "<div>\n",
       "<style scoped>\n",
       "    .dataframe tbody tr th:only-of-type {\n",
       "        vertical-align: middle;\n",
       "    }\n",
       "\n",
       "    .dataframe tbody tr th {\n",
       "        vertical-align: top;\n",
       "    }\n",
       "\n",
       "    .dataframe thead th {\n",
       "        text-align: right;\n",
       "    }\n",
       "</style>\n",
       "<table border=\"1\" class=\"dataframe\">\n",
       "  <thead>\n",
       "    <tr style=\"text-align: right;\">\n",
       "      <th></th>\n",
       "      <th>위도</th>\n",
       "      <th>경도</th>\n",
       "      <th>score</th>\n",
       "    </tr>\n",
       "  </thead>\n",
       "  <tbody>\n",
       "    <tr>\n",
       "      <th>0</th>\n",
       "      <td>37.673399</td>\n",
       "      <td>127.054256</td>\n",
       "      <td>0.001548</td>\n",
       "    </tr>\n",
       "    <tr>\n",
       "      <th>1</th>\n",
       "      <td>37.673399</td>\n",
       "      <td>127.055066</td>\n",
       "      <td>-0.052227</td>\n",
       "    </tr>\n",
       "    <tr>\n",
       "      <th>2</th>\n",
       "      <td>37.673399</td>\n",
       "      <td>127.055876</td>\n",
       "      <td>0.155901</td>\n",
       "    </tr>\n",
       "    <tr>\n",
       "      <th>3</th>\n",
       "      <td>37.674029</td>\n",
       "      <td>127.051826</td>\n",
       "      <td>0.092027</td>\n",
       "    </tr>\n",
       "    <tr>\n",
       "      <th>4</th>\n",
       "      <td>37.674029</td>\n",
       "      <td>127.052636</td>\n",
       "      <td>0.110899</td>\n",
       "    </tr>\n",
       "    <tr>\n",
       "      <th>...</th>\n",
       "      <td>...</td>\n",
       "      <td>...</td>\n",
       "      <td>...</td>\n",
       "    </tr>\n",
       "    <tr>\n",
       "      <th>320</th>\n",
       "      <td>37.685369</td>\n",
       "      <td>127.057496</td>\n",
       "      <td>0.324937</td>\n",
       "    </tr>\n",
       "    <tr>\n",
       "      <th>321</th>\n",
       "      <td>37.685369</td>\n",
       "      <td>127.058306</td>\n",
       "      <td>0.324937</td>\n",
       "    </tr>\n",
       "    <tr>\n",
       "      <th>322</th>\n",
       "      <td>37.685999</td>\n",
       "      <td>127.054256</td>\n",
       "      <td>0.144321</td>\n",
       "    </tr>\n",
       "    <tr>\n",
       "      <th>323</th>\n",
       "      <td>37.685999</td>\n",
       "      <td>127.055066</td>\n",
       "      <td>0.288814</td>\n",
       "    </tr>\n",
       "    <tr>\n",
       "      <th>324</th>\n",
       "      <td>37.685999</td>\n",
       "      <td>127.055876</td>\n",
       "      <td>0.324937</td>\n",
       "    </tr>\n",
       "  </tbody>\n",
       "</table>\n",
       "<p>325 rows × 3 columns</p>\n",
       "</div>"
      ],
      "text/plain": [
       "            위도          경도     score\n",
       "0    37.673399  127.054256  0.001548\n",
       "1    37.673399  127.055066 -0.052227\n",
       "2    37.673399  127.055876  0.155901\n",
       "3    37.674029  127.051826  0.092027\n",
       "4    37.674029  127.052636  0.110899\n",
       "..         ...         ...       ...\n",
       "320  37.685369  127.057496  0.324937\n",
       "321  37.685369  127.058306  0.324937\n",
       "322  37.685999  127.054256  0.144321\n",
       "323  37.685999  127.055066  0.288814\n",
       "324  37.685999  127.055876  0.324937\n",
       "\n",
       "[325 rows x 3 columns]"
      ]
     },
     "execution_count": 32,
     "metadata": {},
     "output_type": "execute_result"
    }
   ],
   "source": [
    "score(police_grid)\n",
    "police_grid"
   ]
  },
  {
   "cell_type": "markdown",
   "id": "eb89775c",
   "metadata": {},
   "source": [
    "# 지도에 시각화"
   ]
  },
  {
   "cell_type": "markdown",
   "id": "b16769f1",
   "metadata": {},
   "source": [
    "지도에 해당 위도경도에 위치한 점 찍기"
   ]
  },
  {
   "cell_type": "code",
   "execution_count": 33,
   "id": "d765ca51",
   "metadata": {},
   "outputs": [],
   "source": [
    "def draw_marker(m, grid, color):\n",
    "    color = \"#\" + color\n",
    "    for i in grid[[\"위도\",\"경도\"]].values:\n",
    "        folium.Circle(location=i, radius=2, color=color, fill_color=color).add_to(m)"
   ]
  },
  {
   "cell_type": "markdown",
   "id": "06b404c1",
   "metadata": {},
   "source": [
    "시각화를 위해 점수를 -255(초록)~255(빨강)으로 변환 (min-max 스케일링 이용)\n",
    "\n",
    "변환후 rgb코드에 맞게 문자열 생성 안전->초록, 위험->빨강"
   ]
  },
  {
   "cell_type": "code",
   "execution_count": 34,
   "id": "e603faa6",
   "metadata": {},
   "outputs": [],
   "source": [
    "def colorstr(num):\n",
    "    b = num>=0\n",
    "    num=hex(int(255-abs(num)))[2:]\n",
    "    if len(num)==1:\n",
    "        num=\"0\"+num\n",
    "    return \"#ff\"+num*2 if b else \"#\"+num+\"ff\"+num"
   ]
  },
  {
   "cell_type": "code",
   "execution_count": 35,
   "id": "329fb327",
   "metadata": {},
   "outputs": [],
   "source": [
    "def score_to_color(grid):\n",
    "    score = grid[\"score\"].copy()\n",
    "    scaler = MinMaxScaler(feature_range=(-255, 255))\n",
    "    score = scaler.fit_transform(score.to_frame())\n",
    "    return pd.Series(score.flatten())"
   ]
  },
  {
   "cell_type": "markdown",
   "id": "9ecbf7d0",
   "metadata": {},
   "source": [
    "격자점 점수 시각화"
   ]
  },
  {
   "cell_type": "code",
   "execution_count": 36,
   "id": "f7518f3e",
   "metadata": {},
   "outputs": [],
   "source": [
    "def draw_score(m, grid, color):\n",
    "    for i in grid.index:\n",
    "        folium.Circle(location=grid.iloc[i,:2].values,\n",
    "                      radius=GRID_DIFF/2,\n",
    "                      color=color[i],\n",
    "                      fill=True,\n",
    "                      fill_color=color[i]).add_to(m)"
   ]
  },
  {
   "cell_type": "markdown",
   "id": "d55380ee",
   "metadata": {},
   "source": [
    "지도객체 생성, 이름 붙이기"
   ]
  },
  {
   "cell_type": "code",
   "execution_count": 37,
   "id": "7dccb556",
   "metadata": {},
   "outputs": [
    {
     "data": {
      "text/plain": [
       "<branca.element.Element at 0x1a3eafe10d0>"
      ]
     },
     "execution_count": 37,
     "metadata": {},
     "output_type": "execute_result"
    }
   ],
   "source": [
    "m = folium.Map(location = police, zoom_start=60)\n",
    "\n",
    "name=\"상계1\"\n",
    "title_html = f'<h3 align=\"center\" style=\"font-size:20px\"><b>{name}</b></h3>'\n",
    "             \n",
    "m.get_root().html.add_child(folium.Element(title_html))"
   ]
  },
  {
   "cell_type": "markdown",
   "id": "aca879aa",
   "metadata": {},
   "source": [
    "경찰서, 격자점, 모든 시설물 표시"
   ]
  },
  {
   "cell_type": "code",
   "execution_count": null,
   "id": "462a6d57",
   "metadata": {},
   "outputs": [],
   "source": [
    "folium.Marker(location=police, \n",
    "              popup='지구대',\n",
    "              icon=folium.Icon(color='lightblue', icon='star')\n",
    ").add_to(m)\n",
    "\n",
    "failcity_data_color = {\"ansim\" : '0000ff',\n",
    "                       \"cctv\"  : '00ffff',\n",
    "                       \"light\" : 'ffff00',\n",
    "                       \"salon\" : 'ff00ff'}\n",
    "\n",
    "draw_marker(m, police_grid, '000000')\n",
    "for k, v in failcity_data.items():\n",
    "    draw_marker(m, v, failcity_data_color[k])"
   ]
  },
  {
   "cell_type": "markdown",
   "id": "354d30d9",
   "metadata": {},
   "source": [
    "점수에서 색 문자열 생성"
   ]
  },
  {
   "cell_type": "code",
   "execution_count": null,
   "id": "d680e662",
   "metadata": {},
   "outputs": [],
   "source": [
    "color = score_to_color(police_grid)\n",
    "color"
   ]
  },
  {
   "cell_type": "markdown",
   "id": "33313913",
   "metadata": {},
   "source": [
    "점수 시각화"
   ]
  },
  {
   "cell_type": "code",
   "execution_count": null,
   "id": "7c224688",
   "metadata": {},
   "outputs": [],
   "source": [
    "draw_score(m, police_grid, color)\n",
    "display(m)"
   ]
  },
  {
   "cell_type": "code",
   "execution_count": null,
   "id": "25366af7",
   "metadata": {},
   "outputs": [],
   "source": []
  },
  {
   "cell_type": "code",
   "execution_count": null,
   "id": "fa10cdd6",
   "metadata": {},
   "outputs": [],
   "source": []
  }
 ],
 "metadata": {
  "kernelspec": {
   "display_name": "Python 3 (ipykernel)",
   "language": "python",
   "name": "python3"
  },
  "language_info": {
   "codemirror_mode": {
    "name": "ipython",
    "version": 3
   },
   "file_extension": ".py",
   "mimetype": "text/x-python",
   "name": "python",
   "nbconvert_exporter": "python",
   "pygments_lexer": "ipython3",
   "version": "3.11.7"
  }
 },
 "nbformat": 4,
 "nbformat_minor": 5
}
